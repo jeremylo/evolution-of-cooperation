{
 "cells": [
  {
   "cell_type": "code",
   "execution_count": 1,
   "metadata": {},
   "outputs": [],
   "source": [
    "from itertools import chain\n",
    "from random import random\n",
    "\n",
    "import matplotlib.pyplot as plt\n",
    "import numpy as np\n",
    "from tqdm.notebook import tqdm\n",
    "\n",
    "from society.action import Action\n",
    "from society.agent import Agent\n",
    "from society.simulations.adaptive import AdaptiveSimulation\n",
    "from society.agents.constant import AllC, AllD\n",
    "from society.agents.qlearning import TabularQLearner\n",
    "from society.agents.random import Random\n",
    "from society.agents.tft import TitForTat\n",
    "from society.visualisation.network import *\n",
    "\n",
    "# plt.rcParams[\"figure.figsize\"] = (10, 6)\n",
    "plt.rcParams[\"figure.figsize\"] = (12, 5)"
   ]
  },
  {
   "cell_type": "code",
   "execution_count": 2,
   "metadata": {},
   "outputs": [],
   "source": [
    "# def generate_population(communities, size):\n",
    "#     population = communities * size\n",
    "\n",
    "#     agents = [\n",
    "#         TabularQLearner(lookback=1, epsilon=0.1, learning_rate=0.05)\n",
    "#         for i in range(population)\n",
    "#     ]\n",
    "\n",
    "#     G = nx.connected_caveman_graph(communities, size)\n",
    "\n",
    "#     weights_matrix = np.zeros((population, population))\n",
    "#     for u, v, d in G.edges(data=True):\n",
    "#         weights_matrix[u, v] = weights_matrix[v, u] = 1\n",
    "#         try:\n",
    "#             d[\"weight\"] = weights_matrix[u, v]\n",
    "#         except:\n",
    "#             d[\"weight\"] = 0\n",
    "\n",
    "#     return agents, weights_matrix, G"
   ]
  },
  {
   "cell_type": "code",
   "execution_count": 3,
   "metadata": {},
   "outputs": [],
   "source": [
    "def generate_population(communities, size):\n",
    "    population = communities * size\n",
    "\n",
    "    agents = [\n",
    "        TabularQLearner(\n",
    "            lookback=1, epsilon=0.1, learning_rate=0.5, discount_factor=0.98\n",
    "        )\n",
    "        for i in range(population)\n",
    "    ]\n",
    "\n",
    "    # agents[0] = TitForTat()\n",
    "    # agents[16] = TitForTat()\n",
    "    # agents[16] = TitForTat()\n",
    "    # agents[31] = TitForTat()\n",
    "\n",
    "    G = nx.connected_caveman_graph(communities, size)\n",
    "\n",
    "    # G = nx.Graph()\n",
    "    # G.add_weighted_edges_from([\n",
    "    #     (0, i, 1) for i in range(1, population)\n",
    "    # ])\n",
    "\n",
    "    weights_matrix = np.zeros((population, population))\n",
    "    for u, v, d in G.edges(data=True):\n",
    "        weights_matrix[u, v] = weights_matrix[v, u] = 1\n",
    "        try:\n",
    "            d[\"weight\"] = weights_matrix[u, v]\n",
    "        except:\n",
    "            d[\"weight\"] = 0\n",
    "\n",
    "    return agents, weights_matrix, G"
   ]
  },
  {
   "cell_type": "code",
   "execution_count": 4,
   "metadata": {},
   "outputs": [],
   "source": [
    "# _, _, G = generate_population(2, 16)\n",
    "\n",
    "# nx.draw(G, pos=nx.spring_layout(G), font_color=\"white\", with_labels=True)"
   ]
  },
  {
   "cell_type": "code",
   "execution_count": 8,
   "metadata": {},
   "outputs": [],
   "source": [
    "def compute_policies(agents):\n",
    "    policies = [\n",
    "        agent._q_table.argmax(axis=-1) if hasattr(agent, \"_q_table\") else None\n",
    "        for agent in agents\n",
    "    ]\n",
    "\n",
    "    return [\n",
    "        \"\".join(\n",
    "            [\n",
    "                (\"C\", \"D\")[policy[i]]\n",
    "                for i in range(4)\n",
    "                # for j in range(4)\n",
    "                # for k in range(4)\n",
    "            ]\n",
    "        )\n",
    "        if policy is not None\n",
    "        else \"OTHER\"\n",
    "        for policy in policies\n",
    "    ]\n",
    "\n",
    "\n",
    "def calculate_cooperativeness(history):\n",
    "    count = history.count(Action.COOPERATE)\n",
    "\n",
    "    return count / len(history)"
   ]
  },
  {
   "cell_type": "code",
   "execution_count": 6,
   "metadata": {},
   "outputs": [],
   "source": [
    "PAYOFF_LABELS = [\"(C, C)\", \"(C, D)\", \"(D, C)\", \"(D, D)\"]\n",
    "# PAYOFF_LABELS = [\"R\", \"S\", \"T\", \"P\"]"
   ]
  },
  {
   "cell_type": "code",
   "execution_count": 7,
   "metadata": {},
   "outputs": [
    {
     "data": {
      "application/vnd.jupyter.widget-view+json": {
       "model_id": "5c27df0750834041b4fab7a492898dff",
       "version_major": 2,
       "version_minor": 0
      },
      "text/plain": [
       "Run 1:   0%|          | 0/50000 [00:00<?, ?it/s]"
      ]
     },
     "metadata": {},
     "output_type": "display_data"
    },
    {
     "ename": "IndexError",
     "evalue": "too many indices for array: array is 1-dimensional, but 2 were indexed",
     "output_type": "error",
     "traceback": [
      "\u001b[1;31m---------------------------------------------------------------------------\u001b[0m",
      "\u001b[1;31mIndexError\u001b[0m                                Traceback (most recent call last)",
      "\u001b[1;32m~\\AppData\\Local\\Temp/ipykernel_14188/2808348589.py\u001b[0m in \u001b[0;36m<module>\u001b[1;34m\u001b[0m\n\u001b[0;32m     24\u001b[0m     \u001b[1;31m# run_action_histories.append(sim.action_histories)\u001b[0m\u001b[1;33m\u001b[0m\u001b[1;33m\u001b[0m\u001b[0m\n\u001b[0;32m     25\u001b[0m     \u001b[0mrun_reward_histories\u001b[0m\u001b[1;33m.\u001b[0m\u001b[0mappend\u001b[0m\u001b[1;33m(\u001b[0m\u001b[0msim\u001b[0m\u001b[1;33m.\u001b[0m\u001b[0mreward_histories\u001b[0m\u001b[1;33m)\u001b[0m\u001b[1;33m\u001b[0m\u001b[1;33m\u001b[0m\u001b[0m\n\u001b[1;32m---> 26\u001b[1;33m     \u001b[0mrun_policies\u001b[0m\u001b[1;33m.\u001b[0m\u001b[0mappend\u001b[0m\u001b[1;33m(\u001b[0m\u001b[0mcompute_policies\u001b[0m\u001b[1;33m(\u001b[0m\u001b[0magents\u001b[0m\u001b[1;33m)\u001b[0m\u001b[1;33m)\u001b[0m\u001b[1;33m\u001b[0m\u001b[1;33m\u001b[0m\u001b[0m\n\u001b[0m\u001b[0;32m     27\u001b[0m \u001b[1;33m\u001b[0m\u001b[0m\n\u001b[0;32m     28\u001b[0m     \u001b[1;31m# Output statistics for the best and worst agents\u001b[0m\u001b[1;33m\u001b[0m\u001b[1;33m\u001b[0m\u001b[0m\n",
      "\u001b[1;32m~\\AppData\\Local\\Temp/ipykernel_14188/4141065119.py\u001b[0m in \u001b[0;36mcompute_policies\u001b[1;34m(agents)\u001b[0m\n\u001b[0;32m      6\u001b[0m     ]\n\u001b[0;32m      7\u001b[0m \u001b[1;33m\u001b[0m\u001b[0m\n\u001b[1;32m----> 8\u001b[1;33m     return [\n\u001b[0m\u001b[0;32m      9\u001b[0m         \"\".join(\n\u001b[0;32m     10\u001b[0m             [\n",
      "\u001b[1;32m~\\AppData\\Local\\Temp/ipykernel_14188/4141065119.py\u001b[0m in \u001b[0;36m<listcomp>\u001b[1;34m(.0)\u001b[0m\n\u001b[0;32m      8\u001b[0m     return [\n\u001b[0;32m      9\u001b[0m         \"\".join(\n\u001b[1;32m---> 10\u001b[1;33m             [\n\u001b[0m\u001b[0;32m     11\u001b[0m                 \u001b[1;33m(\u001b[0m\u001b[1;34m\"C\"\u001b[0m\u001b[1;33m,\u001b[0m \u001b[1;34m\"D\"\u001b[0m\u001b[1;33m)\u001b[0m\u001b[1;33m[\u001b[0m\u001b[0mpolicy\u001b[0m\u001b[1;33m[\u001b[0m\u001b[0mi\u001b[0m\u001b[1;33m,\u001b[0m \u001b[0mj\u001b[0m\u001b[1;33m]\u001b[0m\u001b[1;33m]\u001b[0m\u001b[1;33m\u001b[0m\u001b[1;33m\u001b[0m\u001b[0m\n\u001b[0;32m     12\u001b[0m                 \u001b[1;32mfor\u001b[0m \u001b[0mi\u001b[0m \u001b[1;32min\u001b[0m \u001b[0mrange\u001b[0m\u001b[1;33m(\u001b[0m\u001b[1;36m4\u001b[0m\u001b[1;33m)\u001b[0m\u001b[1;33m\u001b[0m\u001b[1;33m\u001b[0m\u001b[0m\n",
      "\u001b[1;32m~\\AppData\\Local\\Temp/ipykernel_14188/4141065119.py\u001b[0m in \u001b[0;36m<listcomp>\u001b[1;34m(.0)\u001b[0m\n\u001b[0;32m      9\u001b[0m         \"\".join(\n\u001b[0;32m     10\u001b[0m             [\n\u001b[1;32m---> 11\u001b[1;33m                 \u001b[1;33m(\u001b[0m\u001b[1;34m\"C\"\u001b[0m\u001b[1;33m,\u001b[0m \u001b[1;34m\"D\"\u001b[0m\u001b[1;33m)\u001b[0m\u001b[1;33m[\u001b[0m\u001b[0mpolicy\u001b[0m\u001b[1;33m[\u001b[0m\u001b[0mi\u001b[0m\u001b[1;33m,\u001b[0m \u001b[0mj\u001b[0m\u001b[1;33m]\u001b[0m\u001b[1;33m]\u001b[0m\u001b[1;33m\u001b[0m\u001b[1;33m\u001b[0m\u001b[0m\n\u001b[0m\u001b[0;32m     12\u001b[0m                 \u001b[1;32mfor\u001b[0m \u001b[0mi\u001b[0m \u001b[1;32min\u001b[0m \u001b[0mrange\u001b[0m\u001b[1;33m(\u001b[0m\u001b[1;36m4\u001b[0m\u001b[1;33m)\u001b[0m\u001b[1;33m\u001b[0m\u001b[1;33m\u001b[0m\u001b[0m\n\u001b[0;32m     13\u001b[0m                 \u001b[1;32mfor\u001b[0m \u001b[0mj\u001b[0m \u001b[1;32min\u001b[0m \u001b[0mrange\u001b[0m\u001b[1;33m(\u001b[0m\u001b[1;36m4\u001b[0m\u001b[1;33m)\u001b[0m\u001b[1;33m\u001b[0m\u001b[1;33m\u001b[0m\u001b[0m\n",
      "\u001b[1;31mIndexError\u001b[0m: too many indices for array: array is 1-dimensional, but 2 were indexed"
     ]
    }
   ],
   "source": [
    "POPULATION = (16, 4)\n",
    "ROUNDS = 50_000\n",
    "\n",
    "run_rewards = []\n",
    "run_cumulative_rewards = []\n",
    "# run_action_histories = []\n",
    "run_reward_histories = []\n",
    "run_policies = []\n",
    "\n",
    "for run in range(1):\n",
    "    # Generate a new population\n",
    "    agents, weights_matrix, G = generate_population(*POPULATION)\n",
    "\n",
    "    # Run a number of rounds\n",
    "    sim = AdaptiveSimulation(agents, weights_matrix)\n",
    "\n",
    "    # Run the simulation\n",
    "    sim.reset()\n",
    "    for i in tqdm(range(ROUNDS), desc=f\"Run {run + 1}\"):\n",
    "        sim.play_round(train=True)\n",
    "\n",
    "    # Store results\n",
    "    run_rewards.append(sim.rewards)\n",
    "    # run_action_histories.append(sim.action_histories)\n",
    "    run_reward_histories.append(sim.reward_histories)\n",
    "    run_policies.append(compute_policies(agents))\n",
    "\n",
    "    # Output statistics for the best and worst agents\n",
    "    cumulative_rewards = [\n",
    "        (i, sum(history)) for i, history in enumerate(sim.reward_histories)\n",
    "    ]\n",
    "    cumulative_rewards.sort(key=lambda x: x[1], reverse=True)\n",
    "\n",
    "    # TODO: maybe I should switch to mean rewards (?)\n",
    "    # mean_rewards = [(i, np.mean(history)) for i, history in enumerate(sim.reward_histories)]\n",
    "    # mean_rewards.sort(key=lambda x: x[1], reverse=True)\n",
    "\n",
    "    tqdm.write(\n",
    "        f\"BEST AGENT: {cumulative_rewards[0][1]} ({calculate_cooperativeness(list(chain(*sim.action_histories[cumulative_rewards[0][0]])))}, {run_policies[-1][cumulative_rewards[0][0]]})\"\n",
    "    )\n",
    "    tqdm.write(\n",
    "        f\"WORST AGENT: {cumulative_rewards[-1][1]} ({calculate_cooperativeness(list(chain(*sim.action_histories[cumulative_rewards[-1][0]])))}, {run_policies[-1][cumulative_rewards[-1][0]]})\"\n",
    "    )\n",
    "\n",
    "    for rh in sim.reward_histories:\n",
    "        plt.plot(np.cumsum(rh))\n",
    "\n",
    "    plt.show()"
   ]
  },
  {
   "cell_type": "code",
   "execution_count": 12,
   "metadata": {},
   "outputs": [
    {
     "data": {
      "image/png": "[encoded data removed]",
      "text/plain": [
       "<Figure size 864x360 with 1 Axes>"
      ]
     },
     "metadata": {
      "needs_background": "light"
     },
     "output_type": "display_data"
    }
   ],
   "source": [
    "for rh in sim.reward_histories:\n",
    "    plt.plot(np.cumsum(rh))\n",
    "\n",
    "plt.show()"
   ]
  },
  {
   "cell_type": "code",
   "execution_count": 13,
   "metadata": {},
   "outputs": [
    {
     "name": "stdout",
     "output_type": "stream",
     "text": [
      "BEST AGENT: 195178 (0.18917300483722957, DDDD)\n",
      "WORST AGENT: 116989 (0.18069405664140406, DDDD)\n"
     ]
    }
   ],
   "source": [
    "print(\n",
    "    f\"BEST AGENT: {cumulative_rewards[0][1]} ({calculate_cooperativeness(list(chain(*sim.action_histories[cumulative_rewards[0][0]])))}, {run_policies[-1][cumulative_rewards[0][0]]})\"\n",
    ")\n",
    "print(\n",
    "    f\"WORST AGENT: {cumulative_rewards[-1][1]} ({calculate_cooperativeness(list(chain(*sim.action_histories[cumulative_rewards[-1][0]])))}, {run_policies[-1][cumulative_rewards[-1][0]]})\"\n",
    ")"
   ]
  },
  {
   "cell_type": "code",
   "execution_count": null,
   "metadata": {},
   "outputs": [],
   "source": [
    "# plot_matrix(sim.frequencies, digits=0, figsize=(60, 36))"
   ]
  },
  {
   "cell_type": "code",
   "execution_count": null,
   "metadata": {},
   "outputs": [],
   "source": [
    "sim.calculate_weights()"
   ]
  },
  {
   "cell_type": "code",
   "execution_count": null,
   "metadata": {},
   "outputs": [],
   "source": [
    "sim.action_histories[0][2]"
   ]
  },
  {
   "cell_type": "code",
   "execution_count": null,
   "metadata": {},
   "outputs": [],
   "source": [
    "cumulative_rewards[0][0]"
   ]
  },
  {
   "cell_type": "code",
   "execution_count": null,
   "metadata": {},
   "outputs": [],
   "source": [
    "if hasattr(agents[cumulative_rewards[0][0]], \"_q_table\"):\n",
    "    print(agents[cumulative_rewards[0][0]]._q_table)"
   ]
  },
  {
   "cell_type": "code",
   "execution_count": null,
   "metadata": {},
   "outputs": [],
   "source": [
    "agents[1]._q_table"
   ]
  },
  {
   "cell_type": "code",
   "execution_count": null,
   "metadata": {},
   "outputs": [],
   "source": [
    "# from datetime import datetime\n",
    "# import pickle\n",
    "\n",
    "# with open(f\"results - {datetime.isoformat(datetime.now()).replace(':', '-')}.pickle\", \"wb\") as f:\n",
    "#     pickle.dump({\n",
    "#         \"rewards\": run_rewards,\n",
    "#         \"cumulative_rewards\": run_cumulative_rewards,\n",
    "#         # \"action_histories\": run_action_histories,\n",
    "#         \"reward_histories\": run_reward_histories,\n",
    "#         \"policies\": run_policies,\n",
    "#     }, f)"
   ]
  },
  {
   "cell_type": "code",
   "execution_count": null,
   "metadata": {},
   "outputs": [],
   "source": [
    "cumulative_reward_policy_ranks = {}\n",
    "cumulative_reward_policies = {}\n",
    "\n",
    "for policies, reward_histories in zip(run_policies, run_reward_histories):\n",
    "    cumulative_rewards = [\n",
    "        (i, sum(history)) for i, history in enumerate(reward_histories)\n",
    "    ]\n",
    "    cumulative_rewards.sort(key=lambda x: x[1], reverse=True)\n",
    "\n",
    "    for rank, (i, cumulative_reward) in enumerate(cumulative_rewards):\n",
    "        policy = policies[i]\n",
    "\n",
    "        if policy not in cumulative_reward_policy_ranks:\n",
    "            cumulative_reward_policy_ranks[policy] = []\n",
    "            cumulative_reward_policies[policy] = []\n",
    "\n",
    "        cumulative_reward_policy_ranks[policy].append(rank + 1)\n",
    "        cumulative_reward_policies[policy].append(cumulative_reward)\n",
    "\n",
    "mean_cumulative_reward_policy_ranks = {\n",
    "    policy: np.mean(ranks) for policy, ranks in cumulative_reward_policy_ranks.items()\n",
    "}\n",
    "mean_cumulative_reward_policies = {\n",
    "    policy: np.mean(rewards) for policy, rewards in cumulative_reward_policies.items()\n",
    "}"
   ]
  },
  {
   "cell_type": "code",
   "execution_count": null,
   "metadata": {},
   "outputs": [],
   "source": [
    "for policy in sorted(\n",
    "    mean_cumulative_reward_policy_ranks,\n",
    "    key=lambda x: mean_cumulative_reward_policy_ranks[x],\n",
    "):\n",
    "    print(f\"{mean_cumulative_reward_policy_ranks[policy]:<24} {policy}\")"
   ]
  },
  {
   "cell_type": "code",
   "execution_count": null,
   "metadata": {},
   "outputs": [],
   "source": [
    "for policy in sorted(\n",
    "    mean_cumulative_reward_policies,\n",
    "    key=lambda x: mean_cumulative_reward_policies[x],\n",
    "    reverse=True,\n",
    "):\n",
    "    print(f\"{mean_cumulative_reward_policies[policy]:<24} {policy}\")"
   ]
  },
  {
   "cell_type": "code",
   "execution_count": null,
   "metadata": {},
   "outputs": [],
   "source": [
    "compute_policies([agents[cumulative_rewards[0][0]]])[0]"
   ]
  },
  {
   "cell_type": "code",
   "execution_count": null,
   "metadata": {},
   "outputs": [],
   "source": [
    "if hasattr(agents[cumulative_rewards[0][0]], \"_q_table\"):\n",
    "    agents[cumulative_rewards[0][0]]._q_table"
   ]
  },
  {
   "cell_type": "code",
   "execution_count": null,
   "metadata": {},
   "outputs": [],
   "source": [
    "from itertools import product\n",
    "\n",
    "P = compute_policies([agents[cumulative_rewards[0][0]]])[0]\n",
    "\n",
    "for m, p in zip(product(PAYOFF_LABELS, PAYOFF_LABELS), P):\n",
    "    print(m, \"=>\", p)"
   ]
  }
 ],
 "metadata": {
  "kernelspec": {
   "display_name": "ml",
   "language": "python",
   "name": "python3"
  },
  "language_info": {
   "codemirror_mode": {
    "name": "ipython",
    "version": 3
   },
   "file_extension": ".py",
   "mimetype": "text/x-python",
   "name": "python",
   "nbconvert_exporter": "python",
   "pygments_lexer": "ipython3",
   "version": "3.10.8 | packaged by conda-forge | (main, Nov 22 2022, 08:16:33) [MSC v.1929 64 bit (AMD64)]"
  },
  "orig_nbformat": 4,
  "vscode": {
   "interpreter": {
    "hash": "ea8fc3f6c7fa3223c55434ded24c0b3b1260e6c6965b48cfc542164a121bf59d"
   }
  }
 },
 "nbformat": 4,
 "nbformat_minor": 2
}
