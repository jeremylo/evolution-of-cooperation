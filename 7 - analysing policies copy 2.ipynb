{
 "cells": [
  {
   "cell_type": "code",
   "execution_count": 9,
   "metadata": {},
   "outputs": [],
   "source": [
    "import matplotlib.pyplot as plt\n",
    "import numpy as np\n",
    "from random import random\n",
    "\n",
    "from society.agent import Agent, TrainableAgent\n",
    "from society.simulations.weighted import WeightedNetworkSimulation\n",
    "from society.strategies.gameplay.constant import AllC, AllD\n",
    "from society.strategies.gameplay.random import RandomGameplayStrategy\n",
    "from society.strategies.gameplay.tft import TitForTat\n",
    "from society.strategies.gameplay.qlearning import TabularQLearningGameplayStrategy\n",
    "from society.visualisation.network import *\n",
    "from society.action import Action\n",
    "\n",
    "from tqdm import tqdm\n",
    "\n",
    "plt.rcParams[\"figure.figsize\"] = (10, 6)"
   ]
  },
  {
   "cell_type": "code",
   "execution_count": 10,
   "metadata": {},
   "outputs": [],
   "source": [
    "def generate_population(communities, size):\n",
    "    population = communities * size\n",
    "\n",
    "    agents = [\n",
    "        Agent(TabularQLearningGameplayStrategy(lookback=2), i, population)\n",
    "        for i in range(population)\n",
    "    ]\n",
    "\n",
    "    G = nx.connected_caveman_graph(communities, size)\n",
    "\n",
    "    weights_matrix = np.zeros((population, population))\n",
    "    for u, v, d in G.edges(data=True):\n",
    "        weights_matrix[u, v] = weights_matrix[v, u] = 1.0\n",
    "        try:\n",
    "            d[\"weight\"] = weights_matrix[u, v]\n",
    "        except:\n",
    "            d[\"weight\"] = 0\n",
    "\n",
    "    return agents, weights_matrix, G"
   ]
  },
  {
   "cell_type": "code",
   "execution_count": 11,
   "metadata": {},
   "outputs": [
    {
     "name": "stderr",
     "output_type": "stream",
     "text": [
      "Run 1: 100%|██████████| 10000/10000 [00:18<00:00, 548.16it/s]\n"
     ]
    },
    {
     "name": "stdout",
     "output_type": "stream",
     "text": [
      "BEST: 68520        WORST: 51808\n"
     ]
    },
    {
     "name": "stderr",
     "output_type": "stream",
     "text": [
      "Run 2: 100%|██████████| 10000/10000 [00:16<00:00, 604.26it/s]\n"
     ]
    },
    {
     "name": "stdout",
     "output_type": "stream",
     "text": [
      "BEST: 68481        WORST: 48569\n"
     ]
    },
    {
     "name": "stderr",
     "output_type": "stream",
     "text": [
      "Run 3: 100%|██████████| 10000/10000 [00:17<00:00, 557.53it/s]\n"
     ]
    },
    {
     "name": "stdout",
     "output_type": "stream",
     "text": [
      "BEST: 68804        WORST: 49499\n"
     ]
    },
    {
     "name": "stderr",
     "output_type": "stream",
     "text": [
      "Run 4: 100%|██████████| 10000/10000 [00:17<00:00, 580.11it/s]\n"
     ]
    },
    {
     "name": "stdout",
     "output_type": "stream",
     "text": [
      "BEST: 70008        WORST: 49330\n"
     ]
    },
    {
     "name": "stderr",
     "output_type": "stream",
     "text": [
      "Run 5: 100%|██████████| 10000/10000 [00:17<00:00, 580.72it/s]\n"
     ]
    },
    {
     "name": "stdout",
     "output_type": "stream",
     "text": [
      "BEST: 66126        WORST: 51515\n"
     ]
    },
    {
     "name": "stderr",
     "output_type": "stream",
     "text": [
      "Run 6: 100%|██████████| 10000/10000 [00:16<00:00, 602.26it/s]\n"
     ]
    },
    {
     "name": "stdout",
     "output_type": "stream",
     "text": [
      "BEST: 77675        WORST: 49707\n"
     ]
    },
    {
     "name": "stderr",
     "output_type": "stream",
     "text": [
      "Run 7: 100%|██████████| 10000/10000 [00:17<00:00, 583.91it/s]\n"
     ]
    },
    {
     "name": "stdout",
     "output_type": "stream",
     "text": [
      "BEST: 63869        WORST: 51240\n"
     ]
    },
    {
     "name": "stderr",
     "output_type": "stream",
     "text": [
      "Run 8: 100%|██████████| 10000/10000 [00:17<00:00, 571.44it/s]\n"
     ]
    },
    {
     "name": "stdout",
     "output_type": "stream",
     "text": [
      "BEST: 68736        WORST: 50060\n"
     ]
    },
    {
     "name": "stderr",
     "output_type": "stream",
     "text": [
      "Run 9: 100%|██████████| 10000/10000 [00:18<00:00, 528.76it/s]\n"
     ]
    },
    {
     "name": "stdout",
     "output_type": "stream",
     "text": [
      "BEST: 68568        WORST: 49144\n"
     ]
    },
    {
     "name": "stderr",
     "output_type": "stream",
     "text": [
      "Run 10: 100%|██████████| 10000/10000 [00:22<00:00, 451.12it/s]\n"
     ]
    },
    {
     "name": "stdout",
     "output_type": "stream",
     "text": [
      "BEST: 72380        WORST: 47074\n"
     ]
    },
    {
     "name": "stderr",
     "output_type": "stream",
     "text": [
      "Run 11: 100%|██████████| 10000/10000 [00:22<00:00, 454.08it/s]\n"
     ]
    },
    {
     "name": "stdout",
     "output_type": "stream",
     "text": [
      "BEST: 66695        WORST: 49104\n"
     ]
    },
    {
     "name": "stderr",
     "output_type": "stream",
     "text": [
      "Run 12: 100%|██████████| 10000/10000 [00:17<00:00, 561.89it/s]\n"
     ]
    },
    {
     "name": "stdout",
     "output_type": "stream",
     "text": [
      "BEST: 70843        WORST: 52897\n"
     ]
    },
    {
     "name": "stderr",
     "output_type": "stream",
     "text": [
      "Run 13: 100%|██████████| 10000/10000 [00:16<00:00, 593.05it/s]\n"
     ]
    },
    {
     "name": "stdout",
     "output_type": "stream",
     "text": [
      "BEST: 71242        WORST: 51239\n"
     ]
    },
    {
     "name": "stderr",
     "output_type": "stream",
     "text": [
      "Run 14: 100%|██████████| 10000/10000 [00:16<00:00, 601.32it/s]\n"
     ]
    },
    {
     "name": "stdout",
     "output_type": "stream",
     "text": [
      "BEST: 65509        WORST: 55621\n"
     ]
    },
    {
     "name": "stderr",
     "output_type": "stream",
     "text": [
      "Run 15: 100%|██████████| 10000/10000 [00:16<00:00, 596.58it/s]\n"
     ]
    },
    {
     "name": "stdout",
     "output_type": "stream",
     "text": [
      "BEST: 71483        WORST: 52640\n"
     ]
    },
    {
     "name": "stderr",
     "output_type": "stream",
     "text": [
      "Run 16: 100%|██████████| 10000/10000 [00:19<00:00, 502.29it/s]\n"
     ]
    },
    {
     "name": "stdout",
     "output_type": "stream",
     "text": [
      "BEST: 70292        WORST: 53774\n"
     ]
    },
    {
     "name": "stderr",
     "output_type": "stream",
     "text": [
      "Run 17: 100%|██████████| 10000/10000 [00:20<00:00, 489.33it/s]\n"
     ]
    },
    {
     "name": "stdout",
     "output_type": "stream",
     "text": [
      "BEST: 64109        WORST: 54446\n"
     ]
    },
    {
     "name": "stderr",
     "output_type": "stream",
     "text": [
      "Run 18: 100%|██████████| 10000/10000 [00:17<00:00, 564.88it/s]\n"
     ]
    },
    {
     "name": "stdout",
     "output_type": "stream",
     "text": [
      "BEST: 68226        WORST: 52336\n"
     ]
    },
    {
     "name": "stderr",
     "output_type": "stream",
     "text": [
      "Run 19: 100%|██████████| 10000/10000 [00:16<00:00, 596.66it/s]\n"
     ]
    },
    {
     "name": "stdout",
     "output_type": "stream",
     "text": [
      "BEST: 70300        WORST: 51922\n"
     ]
    },
    {
     "name": "stderr",
     "output_type": "stream",
     "text": [
      "Run 20: 100%|██████████| 10000/10000 [00:16<00:00, 605.14it/s]"
     ]
    },
    {
     "name": "stdout",
     "output_type": "stream",
     "text": [
      "BEST: 70959        WORST: 52432\n"
     ]
    },
    {
     "name": "stderr",
     "output_type": "stream",
     "text": [
      "\n"
     ]
    }
   ],
   "source": [
    "ACTION_LABELS = [\"(C, C)\", \"(C, D)\", \"(D, C)\", \"(D, D)\"]\n",
    "POPULATION = (2, 16)\n",
    "ROUNDS = 25_000\n",
    "\n",
    "results = []\n",
    "\n",
    "for run in range(20):\n",
    "    # Generate a new population\n",
    "    agents, weights_matrix, G = generate_population(*POPULATION)\n",
    "\n",
    "    # Run a number of rounds\n",
    "    sim = WeightedNetworkSimulation(agents, weights_matrix)\n",
    "    sim.reset()\n",
    "    for i in tqdm(range(ROUNDS), desc=f\"Run {run + 1}\"):\n",
    "        sim.play_round()\n",
    "\n",
    "    # Rank agents by cumulative reward\n",
    "    cumulative_rewards_matrix = [\n",
    "        [sum(r) if len(r) > 0 else 0 for r in agent] for agent in sim.rewards\n",
    "    ]\n",
    "    ranked_partners = sorted(\n",
    "        [(i, sum(cumulative_rewards_matrix[i])) for i in range(len(agents))],\n",
    "        key=lambda x: x[1],\n",
    "        reverse=True,\n",
    "    )\n",
    "\n",
    "    print(f\"BEST: {ranked_partners[0][1]:<12} WORST: {ranked_partners[-1][1]}\")\n",
    "\n",
    "    # Find the policy of each agent\n",
    "    policies = [\n",
    "        (agents[partner[0]].gameplay_strategy._q_table.argmax(axis=-1), partner[1])\n",
    "        for partner in ranked_partners\n",
    "    ]\n",
    "\n",
    "    # Log the performance of each policy\n",
    "    results.append([\n",
    "        (''.join([\n",
    "            ('C', 'D')[policy[0][i, j]] # , k\n",
    "            for i, a in enumerate(ACTION_LABELS)\n",
    "            for j, b in enumerate(ACTION_LABELS)\n",
    "            # for k, c in enumerate(ACTION_LABELS)\n",
    "        ]), policy[1])\n",
    "        for policy in policies\n",
    "    ])\n"
   ]
  },
  {
   "cell_type": "code",
   "execution_count": 12,
   "metadata": {},
   "outputs": [
    {
     "name": "stdout",
     "output_type": "stream",
     "text": [
      "1.0              DCCDCCCCDCCCDCCC\n",
      "1.0              DCDCCDDCDCDCCCCC\n",
      "1.0              DCCDDDCCDCCCCDCC\n",
      "1.0              DDDCCCCCDCDCDDCC\n",
      "1.0              DDCCDCCCDCCDCCCC\n",
      "1.0              CDCCCDDCCDDCCCCC\n",
      "1.0              DCDCDCCCDCDCDCCC\n",
      "1.0              DDCDCCDCDCCCCCCD\n",
      "1.0              DDDCCCCCDCCCCCCC\n",
      "1.0              DDCCCCCCDCCCDCCC\n",
      "2.0              DCCCCCCCDCCDDCCC\n",
      "2.0              DCDCCCCCDCDCDCCC\n",
      "2.0              DCCCCCDCCCCCDCCC\n",
      "2.0              DCDCDCDCDCCDDCCC\n",
      "2.0              DCDCCCCDCCDCCCCC\n",
      "2.0              DCCCCCCDCCCCCCDC\n",
      "2.0              DDDDCCCDCDCCCDCC\n",
      "2.0              DDCDCDDCDCCCCCDC\n",
      "2.0              DDCCCCCCDCCCCDDC\n",
      "2.0              DDDCDDCCDCCCCCCC\n",
      "2.0              DCDCCCCCDDCCCCCC\n",
      "2.0              DCDDCCDCCCDCCCDD\n",
      "2.5              DCCCDDCCCCCCCCCC\n",
      "3.0              DCCCDCCCDCCDDDCC\n",
      "3.0              DCDCDCCCCCDCDCCC\n",
      "3.0              DDCCCDCCDCCCCDCC\n",
      "3.0              DCDCDCCCDCCCDCCD\n",
      "3.0              DCDCDDCCDCCCDCCC\n",
      "3.0              DCCCCDCDDCCDCCCC\n",
      "3.0              DCDCCCCCDCDCCCCC\n",
      "3.0              DCCCDDCCDCCCDCCD\n",
      "4.0              DCCCCCCCDCCCDDCC\n",
      "4.0              DCCCCDDCDCCCCCCC\n",
      "4.0              DCCCDCDCDCCCCCCC\n",
      "4.0              DCCCCDCCDCCCCCCC\n",
      "4.0              DCDCCCCCDCCCDCCC\n",
      "4.0              DCCCCCCDDCCCCCCD\n",
      "4.0              DCCCCCCCCCDCCCCC\n",
      "4.0              DCCCCCCCDDCCCCCC\n",
      "4.0              DCCDCCCCDCCCCCCC\n",
      "4.0              DCCDCCDCDCCCCDCC\n",
      "4.0              DCCCCCCCDCCCCDCC\n",
      "4.0              CDDCCDDCCDCCDDCC\n",
      "4.5              DCCCDCCDDCCCDCCC\n",
      "4.5              DCCDDCCCDCCDCCCC\n",
      "4.5              DCCCCCDCDCCDCCCC\n",
      "5.0              DCCCCCCCDCCCDCCC\n",
      "5.0              DCCCCCCDDDCCDDCC\n",
      "5.0              DCCCCCCCDDCCDCCC\n",
      "5.0              CDDCCCCCCCCCCCCC\n",
      "5.0              DCDCCCDDCCCCCCCC\n",
      "5.0              DCDCDCDCDCCCDCCC\n",
      "5.0              DCCCCDCCDCCDCCCD\n",
      "5.0              CCCDDCCCCCCCCCDC\n",
      "5.0              DDCCCCCCCDCCCCDC\n",
      "5.0              CDCCCCDCCCCCCCCC\n",
      "5.0              DCDCDCDCCCDCDCCC\n",
      "5.0              DCCCCCDDDCCCCCCD\n",
      "5.75             DCCCCCCCDCCCCCDC\n",
      "6.0              DDCCCCCCDDCCCCCC\n",
      "6.0              CDCCCDCCCCCCCDDD\n",
      "6.0              DCCDDCDCDCCCCCCC\n",
      "6.0              DDCCCCCCCDCCCCCC\n",
      "6.5              DCCCDCCCDCCCCCCD\n",
      "7.0              DDCCCCCCCCCCCCCC\n",
      "7.0              DCCCCCCDDCCCDCCD\n",
      "7.0              DCDCCCCCCCCCCDCC\n",
      "7.0              DCCCDCCCDCCCCDCC\n",
      "7.0              CDDCCDCDCCCDCCCD\n",
      "7.0              CDCCDCCCCCCCDCCC\n",
      "7.0              CDDCDCCCCCCCCDCC\n",
      "7.0              DCCCCDCCDCCDCCCC\n",
      "7.5              DCCCDCCDDCCCCCCC\n",
      "8.0              CCCCDCCCCCCCDCCC\n",
      "8.0              DCCCDCCCDCCDDDCD\n",
      "8.0              CDCCCDCDCCCCCCCC\n",
      "8.0              CCCDDCCCCCCCCCCC\n",
      "8.0              DCCCCDCCDCCCCCDC\n",
      "8.0              CDCCCCCDCCCCCDCC\n",
      "8.0              CDCCDCCCCDCCCCDC\n",
      "8.0              CDDCDDCCCCCDDCCC\n",
      "8.75             DCCCCCCCDCCCCCCD\n",
      "9.0              CDCCCDCCCCCCCDCC\n",
      "9.0              DCDDDDCCCCCCCCCC\n",
      "9.0              DCDCCCDCCCCCDCCC\n",
      "9.0              CCCDDDCDCCCCCCCC\n",
      "9.0              CDCCCCCCCDCCDCCC\n",
      "9.0              CDCCCCCCCCCDCCCD\n",
      "9.0              CDCCCCCCCCCCCCCD\n",
      "9.0              CCCCCDCCCCCCCCDC\n",
      "9.666666666666666 CDCCCCCDCCCCCCCC\n",
      "10.0             DCCCDCCCDDCCDDCC\n",
      "10.0             DCDCDCCCCCDCCCDC\n",
      "10.0             CCCCDCCCDCCCCCCC\n",
      "10.0             CDCCCCDCCCDCCDCC\n",
      "10.0             CCDCCCCDCCCCCCCC\n",
      "10.0             DCDCCCCCCCCCCCDC\n",
      "10.0             CCCCCDCDCCCCCCDC\n",
      "10.0             DCDCDCDCCDCCCCCC\n",
      "10.666666666666666 DCCCCCCCDCCCCCCC\n",
      "11.0             DCCCDCDCDCCCDCCC\n",
      "11.0             CCCCCCCDCCCCDCCC\n",
      "11.0             DCCCDCCCCDCCDCDC\n",
      "11.0             DCCCDDCCCCCCCCCD\n",
      "11.0             DDCCDCCCCDCCCDCC\n",
      "11.333333333333334 DCCCDCCCDCCCDCCC\n",
      "11.8             CDCCCCCCCDCCCCCC\n",
      "11.8             CDCCCDCCCCCCCCCC\n",
      "12.0             DDCCDDCCCDCCCCCC\n",
      "12.0             DCDCCCCCCCCCDCCC\n",
      "12.0             DCDCDCDCCCCCCCCC\n",
      "12.0             CDCCCCCCCCCDDCCC\n",
      "12.0             CCCCCCCCCCCCDCCD\n",
      "12.0             CCCCDCDCCCCCCDCC\n",
      "12.25            CCCDCCCCCCCCCCCC\n",
      "12.5             DCCCDDCCDCCCCCDC\n",
      "13.0             DCDCDCDCCCCCCCCD\n",
      "13.0             CCCCCCDCCCCCDCCD\n",
      "13.0             DCCCDCDCCCCCDCCC\n",
      "13.0             CCDCCCCCCDCCDCCC\n",
      "13.0             DCCDCCCCDCCCCCCD\n",
      "13.0             CCDDCCCCCCCDCCCC\n",
      "13.0             CCCCCCCCCDCCCCDC\n",
      "13.0             CCDCDCCDCCCCCCCC\n",
      "13.5             CCCCCDCCCCCDCCCC\n",
      "13.6             DCCCDCCCCCCCDCCC\n",
      "14.0             CDCDCCCDCCCDDCCC\n",
      "14.0             DCDCCCCCCCCCCCCC\n",
      "14.0             CDCCCCCCCDCCCDCC\n",
      "14.0             CCDCDCCCCDCCCCCD\n",
      "14.1875          DCCCDCCCDCCCCCCC\n",
      "14.5             CCCCCDCCCDCCCCCC\n",
      "14.666666666666666 CCCCDCCCCDCCCCCC\n",
      "15.0             DCCCDCCCDCCDDCCC\n",
      "15.0             CCCCCCCCCCCCCDDC\n",
      "15.0             CCCDCCCCCDCDCCCC\n",
      "15.0             CCCCCCDCCCCCDCCC\n",
      "15.0             CCCCDDCCCCCCCCCC\n",
      "15.0             CCDCDCCCCCCDCCCC\n",
      "15.285714285714286 DCDCDCCCCCCCCCCC\n",
      "15.5             DCCDDCCCCCCCCCCC\n",
      "15.875           CCCCCCDCCCCCCCCC\n",
      "16.0             CCCDCCCCCCCCCDCD\n",
      "16.0             DCDCDCCCCCCCDCCC\n",
      "16.0             CCCCDDCDCCCCDCCD\n",
      "16.0             DCCCCCCDCCCCCCCC\n",
      "16.0             CDCCCCCCCCCCCDCC\n",
      "16.0             DCCDDCCCDCCCCDCC\n",
      "16.0             DCDDDCCCCCCCCCCC\n",
      "16.0             DCCCCCCCCCCCCCDD\n",
      "16.0             CCCCCDDCCCCCCCCC\n",
      "16.0             DCDCCCDCCCCCCCDC\n",
      "16.333333333333332 CCCCCCCCCCCCDCCC\n",
      "16.636363636363637 CCCCCDCCCCCCCCCC\n",
      "16.714285714285715 CCCCCCCCCDCCCCCC\n",
      "17.0             DCCCDCDCCCCCCCCC\n",
      "17.0             CCDCDCCCCCCCCDCC\n",
      "17.0             CCCDCDCDCCCCCCCC\n",
      "17.0             DCDCDCCCCCCCCCDC\n",
      "17.0             CDCCDCCCCCCCCCCC\n",
      "17.0             CCCCDCCCCCCDCCCC\n",
      "17.0             CCCCCDCDCCCCCCCC\n",
      "17.0             CCDCDDCCCCCCCCCC\n",
      "17.2             CCDCCCCCCCCCCCCC\n",
      "17.25            DCCCCDCCCCCCCCCC\n",
      "17.333333333333332 DCCCDCCCCCCCCCCD\n",
      "17.5             CCCDCCCCCCCDCCCC\n",
      "17.5             DCCCCCCCCDCCCCCD\n",
      "17.666666666666668 CCCCCCCCCCCCCCCD\n",
      "18.0             DCCDDCCCCCCDCCCC\n",
      "18.0             DCCCCCCCCCCCCCCC\n",
      "18.0             CCCCDCCCCCCCCCDC\n",
      "18.0             DCCCDCCCCCCCCCDD\n",
      "18.0             DCCCCCCCCCCCCCCD\n",
      "18.0             CCCCCCCCCDCCDCCC\n",
      "18.0             DCCCDDCDDCCCCCCC\n",
      "18.333333333333332 CDCCDCCCCCCDCCCC\n",
      "18.5             DCCCDCCCDCCCCCDC\n",
      "18.75            DCCCDCCCCCCCCDCC\n",
      "19.0             CCCCCDCCCCCCCCCD\n",
      "19.0             CCCCDCCCCCCCCDCD\n",
      "19.0             DCDCDCCCCCCCCCCD\n",
      "19.0             DCCCCCDCCCCCCCCC\n",
      "19.0             CDCDCDCDCDCCCCCC\n",
      "19.0             DCDCCCCCCCCCDDCC\n",
      "19.0             DCCCCCCCCCCCDCCC\n",
      "19.0             CCDCCCDCCCCCCCCD\n",
      "19.0             DCCCDCDDDCCCCCCC\n",
      "19.0             DCDCDDCCCCCCCCCC\n",
      "19.5             CDCDCCCCCCCCCCCC\n",
      "19.5             CCCCCCCDCCCCCCCC\n",
      "19.884057971014492 CCCCCCCCCCCCCCCC\n",
      "20.0             DCCCDCCDCCCDCCCC\n",
      "20.0             CCCCDCCDDCCDCCCC\n",
      "20.0             DCCCCCCCCCCDCDCC\n",
      "20.0             CCCDCCDCCCCCCCCD\n",
      "20.0             CCCCCCCCCCCCDDCC\n",
      "20.5             CCCDCCDCCCCCCCCC\n",
      "20.5             CDCCCCCCCCCCCCCC\n",
      "20.5             CCCCCCCCCCCDCCCC\n",
      "21.0             CCDCDCDCCCCCCCCC\n",
      "21.0             DCCDDDCCDCCCCCCD\n",
      "21.0             DCCCDCCCCCCDCCDC\n",
      "21.0             CCCCCCCCCCCDCCCD\n",
      "21.09090909090909 CCCCCCCCCCCCCDCC\n",
      "21.666666666666668 CCCCDCCCCCCCCCCD\n",
      "22.0             DCCCDCCDCCCCCCCD\n",
      "22.0             CCCCDCCCCCCCDDCC\n",
      "22.0             CCCCCCCCCDCCCDDC\n",
      "22.0             DCCCCCCCCDCCCCCC\n",
      "22.0             DCCDDCCCCCCDCCCD\n",
      "22.0             CCCDCCDDCCCCDCCC\n",
      "22.0             CDCCCCCCCCCDCCCC\n",
      "22.0             CCCDCCCDCCCCDCCC\n",
      "22.0             CCCDDCCDCCCCCCCC\n",
      "22.2             DCCCDCCDCCCCCCCC\n",
      "22.379310344827587 CCCCDCCCCCCCCCCC\n",
      "22.5             CCCCCCCDCCCCCDCC\n",
      "22.666666666666668 DCCCDCCCCCCDCCCC\n",
      "22.75            DCCCCCCCCCCDCCCC\n",
      "22.783783783783782 DCCCDCCCCCCCCCCC\n",
      "23.0             DCCCDCCCCCCCDCDC\n",
      "23.0             CCCCCCCCCCCCCCDC\n",
      "23.0             DDCCCCCCCCCCCDCC\n",
      "23.0             CDCCDCCCCCCCCDCC\n",
      "24.0             CCCCDCCCDCCCCDCC\n",
      "24.0             DCCCDCCDCCCDCDCC\n",
      "24.0             CDDCCDCCCCCCCCCC\n",
      "24.0             CCCCDCCDCCCCCCCC\n",
      "24.0             CCCCDDCCCCCCCCDC\n",
      "24.5             CCCDCCCCCCCCDCCC\n",
      "25.0             CCCDCCCDCCCCCDCC\n",
      "25.0             CCCDCCCCCCCCCCCD\n",
      "25.0             DCCCCCCCCCCCCCDC\n",
      "25.0             CCCCCDCCCCCCCDCC\n",
      "25.0             CDCCCDCCCCCCCCDC\n",
      "25.285714285714285 CCCCDCCCCCCCCDCC\n",
      "25.666666666666668 CCCCDCDCCCCCCCCC\n",
      "25.666666666666668 DCCCDCCCCCCCCCDC\n",
      "26.0             DCCCDCCCDDCCCCCC\n",
      "26.0             DCCCDCCCCDCCCCDC\n",
      "26.0             CDCCCDCCCDCCCDCC\n",
      "26.0             DCCCCCCCCCCCCDCC\n",
      "26.0             DCCCDCCCDCCDCCCC\n",
      "26.0             CCCDDCCCCCCCDCCC\n",
      "27.0             CCCCDDCCCCCCCDCC\n",
      "27.0             CCDCDCCCCCCCCCCC\n",
      "27.0             CCCCCCCCCCCCCDCD\n",
      "27.0             DCCDCCCCCCCCCCCC\n",
      "27.0             DCCCDCDDCCCCCCCC\n",
      "28.0             CDCCDCCDCCCDCDCC\n",
      "28.0             CCCDCDCCCCCCCCCC\n",
      "28.5             DDCCCDCCCCCCCCCC\n",
      "29.0             DCCCCCCDCCCCCDCC\n",
      "29.0             DCCCDCCCCDCCCCCC\n",
      "29.0             DCCCCCCCCCCCCDDC\n",
      "30.0             DDCCDDCCCCCCCCCC\n",
      "30.0             CCCDDCCCCCCCCCCD\n",
      "30.0             DDCDDCCCCCCCCCCC\n",
      "30.0             CCCCDCCCCCCDCDCC\n",
      "31.0             DCCDCCCCCCCCCDCC\n",
      "31.0             CCCCCCCCCCCDDCDC\n",
      "31.0             CCCCCDCDCDCCCCCC\n",
      "31.0             CCCCDCDCCDCCCCCC\n",
      "31.0             CCCCCCCDCDCCCCCD\n",
      "31.0             CCCCCCDCCCCDDCCC\n",
      "32.0             CCCCDCCCCCCDCCCD\n",
      "32.0             DCCCDCDCCCCDCCCC\n",
      "32.0             DDCCDCCCCCCCCCCC\n"
     ]
    }
   ],
   "source": [
    "policy_ranks = {}\n",
    "\n",
    "for result in results:\n",
    "    for rank, (policy, score) in enumerate(result):\n",
    "        if policy not in policy_ranks:\n",
    "            policy_ranks[policy] = []\n",
    "\n",
    "        policy_ranks[policy].append(rank + 1)\n",
    "\n",
    "mean_policy_ranks = {policy: np.mean(ranks) for policy, ranks in policy_ranks.items()}\n",
    "\n",
    "for policy in sorted(mean_policy_ranks, key=lambda x: mean_policy_ranks[x]):\n",
    "    print(f\"{mean_policy_ranks[policy]:<16} {policy}\")"
   ]
  }
 ],
 "metadata": {
  "kernelspec": {
   "display_name": "ml",
   "language": "python",
   "name": "python3"
  },
  "language_info": {
   "codemirror_mode": {
    "name": "ipython",
    "version": 3
   },
   "file_extension": ".py",
   "mimetype": "text/x-python",
   "name": "python",
   "nbconvert_exporter": "python",
   "pygments_lexer": "ipython3",
   "version": "3.10.8"
  },
  "orig_nbformat": 4,
  "vscode": {
   "interpreter": {
    "hash": "ea8fc3f6c7fa3223c55434ded24c0b3b1260e6c6965b48cfc542164a121bf59d"
   }
  }
 },
 "nbformat": 4,
 "nbformat_minor": 2
}
