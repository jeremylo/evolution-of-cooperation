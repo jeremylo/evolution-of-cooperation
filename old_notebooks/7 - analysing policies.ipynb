{
 "cells": [
  {
   "cell_type": "code",
   "execution_count": 1,
   "metadata": {},
   "outputs": [],
   "source": [
    "import matplotlib.pyplot as plt\n",
    "import numpy as np\n",
    "from random import random\n",
    "\n",
    "from society.agent import Agent, TrainableAgent\n",
    "from society.simulations.weighted import WeightedNetworkSimulation\n",
    "from society.strategies.gameplay.constant import AllC, AllD\n",
    "from society.strategies.gameplay.random import RandomGameplayStrategy\n",
    "from society.strategies.gameplay.tft import TitForTat\n",
    "from society.strategies.gameplay.qlearning import TabularQLearningGameplayStrategy\n",
    "from society.visualisation.network import *\n",
    "from society.action import Action\n",
    "\n",
    "from tqdm import tqdm\n",
    "\n",
    "plt.rcParams[\"figure.figsize\"] = (10, 6)"
   ]
  },
  {
   "cell_type": "code",
   "execution_count": 2,
   "metadata": {},
   "outputs": [],
   "source": [
    "def generate_population(communities, size):\n",
    "    population = communities * size\n",
    "\n",
    "    agents = [\n",
    "        Agent(TabularQLearningGameplayStrategy(lookback=2), i, population)\n",
    "        for i in range(population)\n",
    "    ]\n",
    "\n",
    "    G = nx.connected_caveman_graph(communities, size)\n",
    "\n",
    "    weights_matrix = np.zeros((population, population))\n",
    "    for u, v, d in G.edges(data=True):\n",
    "        weights_matrix[u, v] = weights_matrix[v, u] = 1.0\n",
    "        try:\n",
    "            d[\"weight\"] = weights_matrix[u, v]\n",
    "        except:\n",
    "            d[\"weight\"] = 0\n",
    "\n",
    "    return agents, weights_matrix, G"
   ]
  },
  {
   "cell_type": "code",
   "execution_count": 3,
   "metadata": {},
   "outputs": [
    {
     "name": "stderr",
     "output_type": "stream",
     "text": [
      "Run 1: 100%|██████████| 25000/25000 [00:53<00:00, 466.09it/s]\n"
     ]
    },
    {
     "name": "stdout",
     "output_type": "stream",
     "text": [
      "BEST: 164233       WORST: 116316\n"
     ]
    },
    {
     "name": "stderr",
     "output_type": "stream",
     "text": [
      "Run 2: 100%|██████████| 25000/25000 [00:51<00:00, 486.29it/s]\n"
     ]
    },
    {
     "name": "stdout",
     "output_type": "stream",
     "text": [
      "BEST: 153287       WORST: 114997\n"
     ]
    },
    {
     "name": "stderr",
     "output_type": "stream",
     "text": [
      "Run 3: 100%|██████████| 25000/25000 [00:51<00:00, 481.53it/s]\n"
     ]
    },
    {
     "name": "stdout",
     "output_type": "stream",
     "text": [
      "BEST: 151923       WORST: 120924\n"
     ]
    },
    {
     "name": "stderr",
     "output_type": "stream",
     "text": [
      "Run 4: 100%|██████████| 25000/25000 [00:51<00:00, 483.49it/s]\n"
     ]
    },
    {
     "name": "stdout",
     "output_type": "stream",
     "text": [
      "BEST: 166422       WORST: 123763\n"
     ]
    },
    {
     "name": "stderr",
     "output_type": "stream",
     "text": [
      "Run 5: 100%|██████████| 25000/25000 [00:51<00:00, 486.33it/s]\n"
     ]
    },
    {
     "name": "stdout",
     "output_type": "stream",
     "text": [
      "BEST: 155286       WORST: 110806\n"
     ]
    },
    {
     "name": "stderr",
     "output_type": "stream",
     "text": [
      "Run 6: 100%|██████████| 25000/25000 [00:54<00:00, 458.50it/s]\n"
     ]
    },
    {
     "name": "stdout",
     "output_type": "stream",
     "text": [
      "BEST: 159418       WORST: 119016\n"
     ]
    },
    {
     "name": "stderr",
     "output_type": "stream",
     "text": [
      "Run 7: 100%|██████████| 25000/25000 [00:51<00:00, 483.02it/s]\n"
     ]
    },
    {
     "name": "stdout",
     "output_type": "stream",
     "text": [
      "BEST: 143108       WORST: 118923\n"
     ]
    },
    {
     "name": "stderr",
     "output_type": "stream",
     "text": [
      "Run 8: 100%|██████████| 25000/25000 [00:53<00:00, 466.35it/s]\n"
     ]
    },
    {
     "name": "stdout",
     "output_type": "stream",
     "text": [
      "BEST: 158508       WORST: 117456\n"
     ]
    },
    {
     "name": "stderr",
     "output_type": "stream",
     "text": [
      "Run 9: 100%|██████████| 25000/25000 [00:55<00:00, 447.68it/s]\n"
     ]
    },
    {
     "name": "stdout",
     "output_type": "stream",
     "text": [
      "BEST: 150010       WORST: 115785\n"
     ]
    },
    {
     "name": "stderr",
     "output_type": "stream",
     "text": [
      "Run 10: 100%|██████████| 25000/25000 [00:58<00:00, 428.26it/s]\n"
     ]
    },
    {
     "name": "stdout",
     "output_type": "stream",
     "text": [
      "BEST: 147145       WORST: 117284\n"
     ]
    },
    {
     "name": "stderr",
     "output_type": "stream",
     "text": [
      "Run 11: 100%|██████████| 25000/25000 [00:51<00:00, 486.57it/s]\n"
     ]
    },
    {
     "name": "stdout",
     "output_type": "stream",
     "text": [
      "BEST: 145410       WORST: 117963\n"
     ]
    },
    {
     "name": "stderr",
     "output_type": "stream",
     "text": [
      "Run 12: 100%|██████████| 25000/25000 [00:59<00:00, 417.16it/s]\n"
     ]
    },
    {
     "name": "stdout",
     "output_type": "stream",
     "text": [
      "BEST: 154041       WORST: 110245\n"
     ]
    },
    {
     "name": "stderr",
     "output_type": "stream",
     "text": [
      "Run 13: 100%|██████████| 25000/25000 [00:54<00:00, 457.57it/s]\n"
     ]
    },
    {
     "name": "stdout",
     "output_type": "stream",
     "text": [
      "BEST: 158578       WORST: 110620\n"
     ]
    },
    {
     "name": "stderr",
     "output_type": "stream",
     "text": [
      "Run 14: 100%|██████████| 25000/25000 [00:54<00:00, 461.29it/s]\n"
     ]
    },
    {
     "name": "stdout",
     "output_type": "stream",
     "text": [
      "BEST: 146139       WORST: 117737\n"
     ]
    },
    {
     "name": "stderr",
     "output_type": "stream",
     "text": [
      "Run 15: 100%|██████████| 25000/25000 [00:55<00:00, 448.75it/s]\n"
     ]
    },
    {
     "name": "stdout",
     "output_type": "stream",
     "text": [
      "BEST: 160944       WORST: 112004\n"
     ]
    },
    {
     "name": "stderr",
     "output_type": "stream",
     "text": [
      "Run 16: 100%|██████████| 25000/25000 [00:53<00:00, 467.37it/s]\n"
     ]
    },
    {
     "name": "stdout",
     "output_type": "stream",
     "text": [
      "BEST: 156263       WORST: 112171\n"
     ]
    },
    {
     "name": "stderr",
     "output_type": "stream",
     "text": [
      "Run 17: 100%|██████████| 25000/25000 [00:57<00:00, 433.50it/s]\n"
     ]
    },
    {
     "name": "stdout",
     "output_type": "stream",
     "text": [
      "BEST: 152625       WORST: 126900\n"
     ]
    },
    {
     "name": "stderr",
     "output_type": "stream",
     "text": [
      "Run 18: 100%|██████████| 25000/25000 [00:52<00:00, 473.01it/s]\n"
     ]
    },
    {
     "name": "stdout",
     "output_type": "stream",
     "text": [
      "BEST: 171228       WORST: 114336\n"
     ]
    },
    {
     "name": "stderr",
     "output_type": "stream",
     "text": [
      "Run 19: 100%|██████████| 25000/25000 [00:57<00:00, 435.02it/s]\n"
     ]
    },
    {
     "name": "stdout",
     "output_type": "stream",
     "text": [
      "BEST: 152662       WORST: 118847\n"
     ]
    },
    {
     "name": "stderr",
     "output_type": "stream",
     "text": [
      "Run 20: 100%|██████████| 25000/25000 [00:52<00:00, 471.86it/s]\n"
     ]
    },
    {
     "name": "stdout",
     "output_type": "stream",
     "text": [
      "BEST: 165659       WORST: 118035\n"
     ]
    }
   ],
   "source": [
    "ACTION_LABELS = [\"(C, C)\", \"(C, D)\", \"(D, C)\", \"(D, D)\"]\n",
    "POPULATION = (2, 16)\n",
    "ROUNDS = 25_000\n",
    "\n",
    "results = []\n",
    "\n",
    "for run in range(20):\n",
    "    # Generate a new population\n",
    "    agents, weights_matrix, G = generate_population(*POPULATION)\n",
    "\n",
    "    # Run a number of rounds\n",
    "    sim = WeightedNetworkSimulation(agents, weights_matrix)\n",
    "    sim.reset()\n",
    "    for i in tqdm(range(ROUNDS), desc=f\"Run {run + 1}\"):\n",
    "        sim.play_round()\n",
    "\n",
    "    # Rank agents by cumulative reward\n",
    "    cumulative_rewards_matrix = [\n",
    "        [sum(r) if len(r) > 0 else 0 for r in agent] for agent in sim.rewards\n",
    "    ]\n",
    "    ranked_partners = sorted(\n",
    "        [(i, sum(cumulative_rewards_matrix[i])) for i in range(len(agents))],\n",
    "        key=lambda x: x[1],\n",
    "        reverse=True,\n",
    "    )\n",
    "\n",
    "    print(f\"BEST: {ranked_partners[0][1]:<12} WORST: {ranked_partners[-1][1]}\")\n",
    "\n",
    "    # Find the policy of each agent\n",
    "    policies = [\n",
    "        (agents[partner[0]].gameplay_strategy._q_table.argmax(axis=-1), partner[1])\n",
    "        for partner in ranked_partners\n",
    "    ]\n",
    "\n",
    "    # Log the performance of each policy\n",
    "    results.append([\n",
    "        (''.join([\n",
    "            ('C', 'D')[policy[0][i, j]] # , k\n",
    "            for i, a in enumerate(ACTION_LABELS)\n",
    "            for j, b in enumerate(ACTION_LABELS)\n",
    "            # for k, c in enumerate(ACTION_LABELS)\n",
    "        ]), policy[1])\n",
    "        for policy in policies\n",
    "    ])\n"
   ]
  },
  {
   "cell_type": "code",
   "execution_count": 4,
   "metadata": {},
   "outputs": [
    {
     "name": "stdout",
     "output_type": "stream",
     "text": [
      "1.0              DDDDDCDCDDDDDCDD\n",
      "1.0              DCDDCDDCDDCDCCCD\n",
      "1.0              DCDCCDCCDCDDCCDD\n",
      "1.0              CCCDDCCCCCCDDCDD\n",
      "1.0              CCDCDDCCDCCCDCDC\n",
      "1.0              DDDDDDCDCDDCCDDD\n",
      "1.0              DDCDDDDCDDCDDCCD\n",
      "1.0              DCCDCCCDDDCCDDDD\n",
      "1.0              DCCDDDCCDDCDDDDD\n",
      "1.0              CDCDCDCCDDCCDDDD\n",
      "1.0              CDDDCDDDDDDCDDDC\n",
      "1.0              CDDCCDCDDCCDDCDD\n",
      "1.0              DCDDDCCCDDDDDCDC\n",
      "1.0              DCDDCDCDDDDDCCDD\n",
      "1.0              DCCCDDDDDDCDDCCD\n",
      "1.0              CCDDCDDCCCCDCCDC\n",
      "2.0              DCDDDDDCDDDDDDDD\n",
      "2.0              CDCDDDCCCCCDDCCD\n",
      "2.0              DDDDCDDDCCDDDDCC\n",
      "2.0              DCDDDCDCDCDDDCDC\n",
      "2.0              CCCCDCCDCDDDCDDD\n",
      "2.0              DCDDDDDCDDDDDDCD\n",
      "2.0              CDDDDDCCDCCDCDCD\n",
      "2.0              DCCDCDCDDCDCDCDC\n",
      "2.0              CDDDDDDDDDCDDCCC\n",
      "2.0              DCDDDCCDDCDDDCDD\n",
      "2.0              DCDDDDCCCCDCDDDC\n",
      "2.0              CDCDDDCCDCDDCCCC\n",
      "2.0              DDCDCDDDCDDDDCDC\n",
      "2.0              DCDDDCCCDCDDDCCD\n",
      "2.0              DCDDDDDDDCDDCCCD\n",
      "2.0              DCDCDDCCCCCDDDDD\n",
      "2.4285714285714284 DCDDDCCCDCDDDCDC\n",
      "3.0              CDDCCDDDCCDDCCDD\n",
      "3.0              DDDDCDDCCDDDDCDC\n",
      "3.0              DCDDDDCCDCDDDCDC\n",
      "3.0              DCDDDDCCDDDDDCDD\n",
      "3.0              DDCDCDCCDDDDCCCD\n",
      "3.0              DCCCDCDCDCCDDCDD\n",
      "3.0              DCDCDDCCDCDDDCDC\n",
      "3.0              DCDDDCCCDCCCDCDC\n",
      "3.0              DDCDDDCDCDDDDDDD\n",
      "3.0              CDCDDDCDDDCDCDCC\n",
      "3.0              DCDCDDDCDCDDDCDC\n",
      "3.0              DCDDDDCDDCDDCCDC\n",
      "3.0              CCDCDDDDDDDDCDDC\n",
      "3.0              DCDCCCCCCCCCDDDC\n",
      "3.0              DDDDDDCCDCDDDCCD\n",
      "4.0              CCCDCDCCCCCDDCDD\n",
      "4.0              DDDDCDDCDCDDDDCD\n",
      "4.0              DDDDDDCDDDDDDCDD\n",
      "4.0              DCDDDCDCDCDDDCCD\n",
      "4.0              DDCDDCCCDCDDDCDD\n",
      "4.0              DCCDDDCDCCCCCCCC\n",
      "4.0              DDCCCDDDDDDDCDCD\n",
      "4.0              CDDDCDCDCDDDCCDC\n",
      "4.0              DCDDDDCCDDCDCDDD\n",
      "4.0              DCCDDDCDCCCDCDCC\n",
      "4.0              DCCDDDDDDDDDDCDD\n",
      "4.0              DDDDCDCCDDDDDDDC\n",
      "4.0              DDCCCDCDCCCDCCCD\n",
      "4.0              DCDDCDCCDCCDDCCD\n",
      "4.5              DDDDDDDCDDDDDDDD\n",
      "4.5              DCDDDDCCDCDDCCDD\n",
      "4.5              DCDDDDDCDCDDDCDD\n",
      "5.0              CDCCCCCDCDCDCDCC\n",
      "5.0              CDCDCDCDCDDDCDCC\n",
      "5.0              CDCDCDDCCCDCDDDC\n",
      "5.0              CDCDCDDDCDCCDCCD\n",
      "5.0              DCCDDDCDDDCDDCCC\n",
      "5.0              CDCDDDCDCDDDDDDC\n",
      "5.0              CCCDDDCDDDCCDCCD\n",
      "5.0              DDCCCDDDCCDDCDDC\n",
      "5.0              DCDDDCDDDCDDDCDD\n",
      "5.0              DCDDDCCCDCDDDCDD\n",
      "5.0              CDDCCDDDCCCCCCCC\n",
      "5.0              CCDDDDDDDDDCDDCC\n",
      "5.0              DDCDCDDDDDDDCCDD\n",
      "5.5              DDDDDCCCDCDDDCDC\n",
      "6.0              DCCCCDCDCDCCCDDC\n",
      "6.0              DDCCDDDDDCCCDCCC\n",
      "6.0              DDDDDCDCDCDDDDDC\n",
      "6.0              DCDDDDCCDCCDDCCD\n",
      "6.0              DDDDDDCCDCDDCCDD\n",
      "6.0              DCDDDDCCDCDDDDDD\n",
      "6.0              DDDDDDDCDCDDDDDD\n",
      "6.0              CCCCDDCDCDCCCCCC\n",
      "6.0              DCDDCDCCDCDDCCCD\n",
      "6.0              DCDDDDDCDDCCDDCC\n",
      "6.0              DDCDCDCCCDCDDCDD\n",
      "6.0              CDCCDDCDDDCCDDCD\n",
      "6.0              DDDCCCCDCDCDCDDC\n",
      "6.0              CDDCCDCDCDCCCCCD\n",
      "6.0              CDDCCDDDCDDCCCDC\n",
      "6.0              CCDDDCCCCDCCDCCC\n",
      "6.0              DCDDDDCDDCDDDCDD\n",
      "6.0              CDCCCDCCDDCCCCDD\n",
      "6.0              DCCCCDCDDDCCCCCC\n",
      "6.5              DCDDDDCCDCDDDCCD\n",
      "6.5              DDDDDCDCDCDDDCDD\n",
      "7.0              CDCCCDCDCDDDDCCC\n",
      "7.0              CDCDCDCDCDCDDCCD\n",
      "7.0              CDCCCDDDCDCCCCDC\n",
      "7.0              DCDDCDDCDCDDCCCC\n",
      "7.0              DDDDDDCDDCDDDDDD\n",
      "7.0              DDCCCDCDDDCCDCCC\n",
      "7.0              DDCDCDDDDDCCCCCC\n",
      "7.0              CDCDCDCDDDCCDCCC\n",
      "7.0              DDCCCDDCDCCCCDCD\n",
      "7.0              DDCCCDDDCDDCCDCC\n",
      "7.0              DCDDDDCCDCDDDDDC\n",
      "7.0              DDCDCDCCCDCCCCCC\n",
      "7.0              CDDCCDCDCDCCCDCC\n",
      "7.1              DCDDDDCCDCDDDCDD\n",
      "8.0              DDCDDCCCCDCCCDCD\n",
      "8.0              DCDDDDCDDDCCCCDD\n",
      "8.0              CDDDCDDDCDCDDCCC\n",
      "8.0              DDCCCDCCCDCDCCDC\n",
      "8.0              CDCCCDCDDDCCCCCC\n",
      "8.0              DDDDDCDCDCCCCCCD\n",
      "8.0              DCDDDDDCDCCDDCCD\n",
      "8.0              DCDDDDDDDDDDDDCD\n",
      "8.0              DDDDDDDCDCDDDCDC\n",
      "8.0              DDCDDDDDDDCDDCDC\n",
      "8.5              DDDDDDDDDCDDDCDD\n",
      "9.0              DCCDDDCDDDCCDCCD\n",
      "9.0              DDDDDDDDDDDDDDCC\n",
      "9.0              CCCDDDCCCDDDCDCC\n",
      "9.0              DDDDDDDDDDCCDCCD\n",
      "9.0              CDCCCCCDDDDCCDDC\n",
      "9.0              DCCDCDDDCCCDCDCC\n",
      "9.0              DCCCDDCCCCCCDDCC\n",
      "9.0              CDDDDCCDDDDCDDCC\n",
      "9.0              DDCCDDCDCDCDCDCC\n",
      "9.0              DCCDDDCCDCDDDCDD\n",
      "9.0              CCDDDDCCDCDDDCDD\n",
      "9.0              DDCDCCCDCCCCCDCC\n",
      "9.0              DDDDDDDDDDDDDDDD\n",
      "9.0              CDCDCDCDCDCCCCCD\n",
      "9.5              DCDDDDDCDDDDDCDD\n",
      "10.0             DCCDCDCCDCCCDDDD\n",
      "10.0             CDCDCDDDCCCCCCCC\n",
      "10.0             DCDDDCDCDCDDDCDD\n",
      "10.0             DCCDDDCDDDCDDCDD\n",
      "10.0             CCDDDDCCDDCCDCDC\n",
      "10.0             DDCCDDDCDCCCCCCC\n",
      "10.0             DDDDDCDCDCCDDCCD\n",
      "10.0             DCDDDDCCDCCDDCDD\n",
      "10.0             DCCDDDDCDDCDDCCC\n",
      "10.0             CDCCCCCDCDCCCDCC\n",
      "10.0             DCDCDCCDDDCCDDCC\n",
      "10.0             DDDDCDDDDCDCDDCC\n",
      "10.0             CDCDCCCCDDCDDDCC\n",
      "10.0             DDCDDDCDDDCCCCCC\n",
      "10.0             DCCDCCCDDDCDDDCC\n",
      "10.333333333333334 DDDDDDCCDCDDDCDD\n",
      "11.0             DCDCCDDCDDCCDCCC\n",
      "11.0             CCCDCDCDDDCDDDCC\n",
      "11.0             DDDDDDDDDDDDDCCD\n",
      "11.0             CDCDDDCDCDCCCCCC\n",
      "11.0             DDDCCDDDDDDDCDDD\n",
      "11.0             DCCDCDCDCDCCDCDC\n",
      "11.0             CDDCCDDCCCCCDCCC\n",
      "11.0             DDDDDCCCDCDDDDDD\n",
      "11.0             DDDDDDCDDDCCDDCD\n",
      "11.0             CDDDDDDDDCDDDCCC\n",
      "11.0             DDCDDDCDCDCDCDCC\n",
      "11.0             DDDDDDDDDDDDDCDD\n",
      "11.5             DDCCCDCCDDCCDCCC\n",
      "12.0             CCDDCCDDCDCCDDCC\n",
      "12.0             DDDDCDDDDDCDDDDC\n",
      "12.0             DCCDCDCDCDCDCDCD\n",
      "12.0             DDDDDCDCDCCDCDCC\n",
      "12.0             DDCDDDCDDDCDCDCC\n",
      "12.0             DDCCDDCDCDCCDCCC\n",
      "12.0             CDCCCCCCDDCCCDCC\n",
      "12.0             DDCCCDDCDDCCDDCC\n",
      "12.0             CDCDCDCDDDCCCCCC\n",
      "12.0             CDCDCDCCDCCCCDCC\n",
      "12.0             DDCDDCCDCDCDCCCC\n",
      "12.0             DDDDDDCCDDDDDCDD\n",
      "12.0             DCCCDDCCCCCCDCDD\n",
      "12.0             CDCDDDCDDDCDDDCD\n",
      "12.0             DDCDDCCCDDCCCCCC\n",
      "12.0             DDCCCDCCCDCCCDCC\n",
      "12.0             CDCCDDCDCDCDDCCC\n",
      "12.0             DCCDDDDDDDDDDCCD\n",
      "12.0             DCDDDDDCCCDDDCDD\n",
      "13.0             CDDDCDDDDDDDDDDD\n",
      "13.0             DCDDDDCCDCDDDDCD\n",
      "13.0             CDDDCCDDDCCCDDDC\n",
      "13.0             CDDCCDCDCCCCCDCC\n",
      "13.0             DDCDCDCDCDCCCCCD\n",
      "13.0             DDDDCDDDDDDDDDDC\n",
      "13.0             CDCCCDCDCDCCCCCD\n",
      "13.0             DDDDDDDDDDCDDCDD\n",
      "13.0             CCCDCDCDDDCDCCCC\n",
      "13.0             DDCDDDDDDDDDDCDD\n",
      "13.0             CDCCCDCCDDCCCDCC\n",
      "13.0             DDCDCDCDCDCDDDCC\n",
      "13.0             CDCCDDCCDDCCCCCD\n",
      "13.0             DCCCCDCDCDDDCCDC\n",
      "13.0             DDDDDCCCDCDDDCDD\n",
      "13.0             DDCDDDCCDDCCDCCD\n",
      "13.0             CDDDDDCCDCCDDDCD\n",
      "13.0             CDCDCCCCCDCCCDCC\n",
      "13.0             DDDDDDDCDDDDDDCD\n",
      "13.0             CDCDDCCCCDCCCDCC\n",
      "13.0             DDCCCDCDDCCCCCCC\n",
      "14.0             DDCDDDCDCCCCDDDC\n",
      "14.0             DDCDDDCCDDDCDCDD\n",
      "14.0             CDCCCDCDDDCCCDDC\n",
      "14.0             DCCCCCDCDDCCCCCD\n",
      "14.0             DDCCDDCDCCCCCCCC\n",
      "14.0             DDDDCDDCDDDDDDDD\n",
      "14.0             DDDCCDCCCDCCDCCC\n",
      "14.0             DDCCCDCDCDDCDCCC\n",
      "14.0             DDCDDDCCDDCCDDCD\n",
      "14.0             DCDCDDDDDDCDCDCC\n",
      "14.0             DDCDCDCCDDCCDDCD\n",
      "14.0             CCDDDDCCCDCCCCDC\n",
      "14.0             CDCDCDCDCDCDDDCD\n",
      "14.5             CDCDCCCCCDCDCDCC\n",
      "14.666666666666666 CDCCDDCDCDCCDDCC\n",
      "15.0             CDCDCDCDCCCCDDCC\n",
      "15.0             DCDDDDDDDDCDCDCC\n",
      "15.0             DDCCCCCCCDCCDCCC\n",
      "15.0             CDCCDDCDCDCCCCCC\n",
      "15.0             CDCCCDCDCDCCCCDC\n",
      "15.0             CDCCCDCDCDCDCCCC\n",
      "15.0             CDCDCDCDCDCCDCCC\n",
      "15.0             DDDCCDCCDDCCCCDC\n",
      "15.0             DCDDDDDDDDDDDDDD\n",
      "15.0             DDCDCDCDDDCDDDDC\n",
      "15.0             DCDDDDDDDCCDDCCD\n",
      "15.0             DDCDDDCCDDCCCDCC\n",
      "15.0             DDDDDDCCCDDCDCDC\n",
      "15.0             CCCDDDCDDDCCCDCC\n",
      "15.0             CDCDCDDDCDCDCDCC\n",
      "16.0             CDCDCDCDCDDDDDCC\n",
      "16.0             DCDDCDDCCDCDDCCC\n",
      "16.0             DDCDCDCDDDCCDDCC\n",
      "16.0             CDCDCCCDDCCCCCCC\n",
      "16.0             DCDCDDDCCDCCCCCC\n",
      "16.0             DDCDDDCDDDCCDDCD\n",
      "16.0             DDDCDDCDDDDCDDDC\n",
      "16.0             CDCCCDCDDDCCCDCC\n",
      "16.0             DDDDDDDDDDCDDDDC\n",
      "16.0             DCCDDDCDDDCDDDCD\n",
      "16.0             DDCDCDDCCDCCDCCC\n",
      "16.0             CCCCCDCCCCCCCCCC\n",
      "16.0             DCCDDDCDDDCCCDCD\n",
      "17.0             DDCDDDCDCDCCDCCC\n",
      "17.0             CDCCCDCCCCCCCCCC\n",
      "17.0             CDCDCDCDCDCDCDCC\n",
      "17.0             DDCDDDCDDDCDCDCD\n",
      "17.0             DCDDDDDCDCDDCDCC\n",
      "17.0             DCCDCCDCCDCCCDCC\n",
      "17.0             DCCDDDCDDDCDDCCD\n",
      "17.0             CDCCCDCCCDCCCDDC\n",
      "17.0             DDDDCDDDCDCDCCDC\n",
      "17.0             CDCDCDCDDCCCCDCC\n",
      "17.0             DDCDDDCDDDCCDCCC\n",
      "17.0             DCCCDDDCCCCCDCCC\n",
      "17.0             DCCCDDCCDDCCCCCD\n",
      "17.0             CDDCDCDDDDCCCDCC\n",
      "17.0             DCCDDDCCDDCCDCCD\n",
      "17.0             CCCDCDCDCDCCCDCC\n",
      "18.0             CDCCCCCDCCCDCDCC\n",
      "18.0             DDDDCDDCCDCCCDCC\n",
      "18.0             CDCDCCCDCDCDDCCC\n",
      "18.0             CCCDDDCDCDCCDCCC\n",
      "18.0             DDCCCDDDDDDCDDCC\n",
      "18.0             DDCDCCCDCDCCCDCC\n",
      "18.0             DDDDDDDCDDDDDCDD\n",
      "18.0             DDCCCDCCCDCCCCCD\n",
      "18.0             CDCDDDCDCDCCCDCD\n",
      "18.0             CDCCDDCDDDDDDDCC\n",
      "18.0             CCCDDDCCDDCCDCCD\n",
      "18.0             DDCDDDCDDDCDDCCC\n",
      "18.0             DDCDCDCCCDCCCDCC\n",
      "18.0             CDCDDDCDDDCCDDCD\n",
      "18.0             CCCCCDCDCDCCCDCC\n",
      "18.5             DDCDDDCDDDCDDDCC\n",
      "19.0             DCCDCDDDDDCDCDCC\n",
      "19.0             CDCCDDCCDCCCCCCC\n",
      "19.0             DCDCCDDDDDDCDDCC\n",
      "19.0             DDCCCDCDCDCCCDDC\n",
      "19.0             CCCCCDCCCDCCCDCC\n",
      "19.0             CCCDCDCDCCCCDCCC\n",
      "19.0             DDCDCDDCDDCCDCCD\n",
      "19.0             CDCDDDCDDDCCDDCC\n",
      "19.0             DDCCDDCDCDCCCDCD\n",
      "19.0             CDCCDDCCDDCCCDCC\n",
      "19.0             DDCCDDCDDDCCDDCD\n",
      "19.0             DDCDDDCDDDCCDCDC\n",
      "19.5             CDCCCDCDDDCCDDCC\n",
      "20.0             CCCDCDCDCCCCCDCD\n",
      "20.0             DDCCCCCDCDCDCCDC\n",
      "20.0             CDCDCDCDDDCCDCCD\n",
      "20.0             DDDDDDDDDDDDDCCC\n",
      "20.0             DDDDDDDCDCDDDCDD\n",
      "20.0             CDCCCDCDDDCDCDCC\n",
      "20.0             DDCDCDCDDDCCDCCC\n",
      "20.0             DDDCDDDCDCCCDDCC\n",
      "20.0             CDDDCDDDDDDCDDCC\n",
      "20.0             DDDCCDCDDDCCDDCC\n",
      "20.0             DDCDDDCDDDCCCCCD\n",
      "20.0             CDCCCDCDDDCCDCCC\n",
      "20.0             CDCCDDCDCDCCCDDC\n",
      "20.5             CDCDDDCDCDCCCDCC\n",
      "20.666666666666668 CDCDCDCCCCCCCDCC\n",
      "21.0             CDCDCDCDCCCCCCCC\n",
      "21.0             CDDDCDDCCDCCCDCC\n",
      "21.0             CDDDDDCCCDCDCDDC\n",
      "21.0             CCCCDDCCCCCCCCCC\n",
      "21.0             DDCCCDCDDCCCCDCC\n",
      "21.0             CDCDCDCDCDCDCDDC\n",
      "21.0             DCDDDDDDDDCDDCCD\n",
      "21.0             CDDDDDDDDDDDDDDD\n",
      "21.0             DDCCDDCDCDCCCCDD\n",
      "21.0             DCDDDDDDDCDDDCCC\n",
      "21.0             DCDDDDCDDDCDDCCD\n",
      "21.0             DCDDDCDDCDCCCDCD\n",
      "21.0             DCCCDDCDDDCCDDCC\n",
      "21.0             CDCCCCCDDDCCDDCC\n",
      "21.0             DCCDDDCDDDCCDCCC\n",
      "21.0             DDDDCDCDDDCDDDCC\n",
      "21.0             CDCDCCCDCCCCCCCC\n",
      "21.333333333333332 CCCDCDCCCCCCCCCC\n",
      "21.5             CDCDDDCCCDCCCDCC\n",
      "21.75            CDCDCDCCCDCCCCCC\n",
      "22.0             CDCDCCCCCDCCCDDC\n",
      "22.0             CDCDCDCCDCCCCCCC\n",
      "22.0             DCCDCDCDCCCCCCDC\n",
      "22.0             CDDDDCCDCDCCCDCC\n",
      "22.0             DCCDDDCDDDCCCDDD\n",
      "22.0             DDDCDCDDCDCCCDCC\n",
      "22.0             DCCDDDCDDDCCCDCC\n",
      "22.0             CDCCCDCCDDCCDCCC\n",
      "22.0             DDDDDDDCDCDDDDCD\n",
      "22.0             DCDDDCCDCDDDDDDD\n",
      "22.0             DDCDDCDDDCCCDDCC\n",
      "22.0             DCCDDDCDDCCCDDCC\n",
      "22.0             DDCDCDCCCDCDCDCC\n",
      "22.0             CDCDCCCDCDCCCDCC\n",
      "22.125           CDCDCDCDCDCCCCCC\n",
      "22.333333333333332 DDCCCDCCCDCCCCCC\n",
      "22.6             DDCCDDCDDDCCDDCC\n",
      "22.8             DDCCCDCDCDCCCDCC\n",
      "22.833333333333332 CDCCCDCDCDCCCCCC\n",
      "23.0             CDCDDDCDCDCCDDCC\n",
      "23.0             CDCCCDDDCDCDCCCD\n",
      "23.0             DDCCCCCCCDCCCCCC\n",
      "23.0             CDCDCCCDDDCDCCCD\n",
      "23.0             CCDCDCDCCDCCDCCC\n",
      "23.0             CCCCDDCDDDCCDDCC\n",
      "23.0             CCCCCDCDCDCCCDDC\n",
      "23.0             DDCCDCCCCCDCDDCC\n",
      "23.0             CDCDCDDDDDCDCCDC\n",
      "23.0             DDCDCDCDDDCCCCCC\n",
      "23.0             DCCDDCCCDDCCCDCC\n",
      "23.285714285714285 CDCCCDCCCDCCCDCC\n",
      "23.5             CDCDCDCDCCCCCDCC\n",
      "23.5             CDCDCDCDCDCDCCCC\n",
      "23.5             DDCDDDCDDDCCCDCC\n",
      "24.0             DCCDDDCDDCCCDDCD\n",
      "24.0             DCCDDDCDCDCCDCCD\n",
      "24.0             DDCDCDCDCDCCDCCC\n",
      "24.0             DDCDDDCCCDCCDDCC\n",
      "24.0             CDCCCDCDCDCCCDDD\n",
      "24.0             CDDCCDCDCDDCCCCD\n",
      "24.0             DDCDCDCCCDCCDCCC\n",
      "24.0             DDCDDDDDCDCDDCCC\n",
      "24.0             DDCDDDCDCDCCCDCC\n",
      "24.0             CDCCCDCDCDDDCDCC\n",
      "24.0             DCDDDDDCDDCDDDDD\n",
      "24.0             CDDDCDCDDDDDCCCC\n",
      "24.0             DCCCCCCDDDCCDCCD\n",
      "24.0             DDCDDDCCCDCCDCCD\n",
      "24.0             CDCDCDCDCDCCDDCC\n",
      "24.0             CDCDCDCDCDCCCDDC\n",
      "24.0             DDCCDCCDCCCCDCCC\n",
      "24.357142857142858 CDCCCDCDCDCCCDCC\n",
      "24.466666666666665 CDCDCDCDCDCCCDCC\n",
      "24.5             CDCCCDCDCDCCDDCC\n",
      "24.8             DDCDDDCDDDCCDDCC\n",
      "25.0             DDDCCDCCDDCCDCCC\n",
      "25.0             CCCCCCCCCDCCDDCC\n",
      "25.0             CDCCCDCCCDCCDCCC\n",
      "25.0             CDCDDDDDCDCCDCCC\n",
      "25.0             CDCCCDCCDDCDDCCC\n",
      "25.0             DDCDCDCDCDCCCDCC\n",
      "25.0             CDCCCDCDCDCCCDDC\n",
      "25.0             DDCDDDDDCDCDDDDD\n",
      "25.0             CCCDCDDCDCCCDCDD\n",
      "25.0             CDCDDDCDCDCDCDCC\n",
      "25.0             DDCDCDCCCCCCCDCD\n",
      "25.25            CDCCCDCCCDCCCCCC\n",
      "25.5             DDCCCDCDCDCCCCCC\n",
      "25.833333333333332 DDCDCDCDDDCCCDCC\n",
      "26.0             CCCDCDCDCDCDCCCC\n",
      "26.0             CCDDDDCDCCCDCDCC\n",
      "26.0             CCCCDDCCCDCCCCCC\n",
      "26.0             CDCDDDCCDDCCCCCC\n",
      "26.0             DDDDCDDDDCCDCDCC\n",
      "26.0             DCCDDDCCCDCCCDCC\n",
      "26.0             DCDDCDDDCCDDDCCC\n",
      "26.0             DCCDDDCDDDCCDDCC\n",
      "26.0             CDCCDDCDCDCCDCCD\n",
      "26.0             CDCDDDCDCDCCCCDC\n",
      "26.5             CDCCDDCDCDCCCDCC\n",
      "27.0             CDDCDDDDDDCCCDCC\n",
      "27.0             DCCDDDCCDDCCCCCC\n",
      "27.0             DCCCDCCDDDCCDDCC\n",
      "27.0             CDCCCDCDCDCDCDCC\n",
      "27.0             DCDCDDCCCCCCDDDC\n",
      "27.0             DCDDCDDDCDCDCDDD\n",
      "27.0             CDCCDCCDCDCCCDCC\n",
      "27.0             DDCDCDCDCDCDCCCC\n",
      "27.0             CCCDCCCCCCCDCDCC\n",
      "28.0             CDCCCCCCDCCCCCCC\n",
      "28.0             DDCDCDCCCCCCCDCC\n",
      "28.0             DDCDDDCDCCCCCDCC\n",
      "28.0             DDCDDCCCCDCCCDCC\n",
      "28.0             DCCDDDCCDDCCDCCC\n",
      "28.0             DCDCDDDDDDDDCDCC\n",
      "28.0             DDCCCDCDCCCDCDCC\n",
      "28.0             DDDCCDDDCCCDCCCC\n",
      "28.0             DDCCDCCDCDCCCDCC\n",
      "28.0             CDCDCCCDCDCDCDCC\n",
      "28.0             CDCDCDCDCCCCDCCC\n",
      "28.0             CDCCDDCCDDCCDDCC\n",
      "28.5             CCCDDDCDDDCCDDCC\n",
      "28.5             CDCCDDCDDDCCCDCC\n",
      "29.0             CDCDCDCCCDCCCDCC\n",
      "29.0             CDCDCDCDCDDCCDCC\n",
      "29.0             DDCCDDCCCDCCCDCC\n",
      "29.0             CCDDCDCCCDCCCDCC\n",
      "29.0             DDDDDCCDDDCCDDDC\n",
      "29.0             DDCDDDCDDDCDCDDC\n",
      "29.0             DDCDCDDDCDDCCDCC\n",
      "29.0             CDCDCCCCCDCCCCCC\n",
      "29.0             CDCDCDCCDCCCDDCD\n",
      "29.0             CDCDCDCDDDCCCDCC\n",
      "29.0             DDCDDCCDCCCCDDCD\n",
      "29.0             CDCCCDCDCCCCCDCC\n",
      "29.5             CDCCCDCCCDCCDDCC\n",
      "29.5             CDCDDDCDDDCCDCCC\n",
      "30.0             CCCDDDCDDDCDDDCD\n",
      "30.0             DCCCCDCDCDCCCDCC\n",
      "30.0             CCCDCDCDCCCCCDCC\n",
      "30.0             DDCDDCDDCDCCDDCC\n",
      "30.0             DDCCCDCCCDCCDCCC\n",
      "30.0             CDDCCDDDCDCCDDCC\n",
      "30.0             CDCCDCCCCDCCDDCC\n",
      "30.0             CDCDCDCDCDCCDDDC\n",
      "31.0             CDCCCDCCCCDDCCCC\n",
      "31.0             DCCCDDCCCDCCCCCC\n",
      "31.0             CDCCCDCDCDCCDCCC\n",
      "31.0             DDCDDDCDDDCDDDCD\n",
      "31.0             DCCDDDCDCDCCCCCC\n",
      "31.0             DDCCCDCDCDCDCDDC\n",
      "31.0             CCCDCCCDDCCCDCCC\n",
      "31.0             CCCDDDCDCDCCCCCC\n",
      "31.0             DCCCDDCCDDCCCDCC\n",
      "31.0             DDDDCDDCDDCDCCDD\n",
      "31.0             DDCCCDCCCDCCCDCD\n",
      "31.0             CDCCCCCCCDCCCDCC\n",
      "32.0             CCCCCDCCCDCCCCCC\n",
      "32.0             CDCCCDCCCDCCCCDC\n",
      "32.0             DDCCCDCCCDCCCDDC\n",
      "32.0             CCCCCCCCCCCCCDCC\n",
      "32.0             DCCDCDCDCDCCCDCC\n",
      "32.0             DDCCDDDDCDCCDDDD\n",
      "32.0             DDCDCCCCCCCCCCCC\n",
      "32.0             DCDCDDDDCCCCCDCC\n",
      "32.0             DDCDDDCDDDCCDCCD\n",
      "32.0             CDCDDDCDCDCDCDDD\n",
      "32.0             CDCCCCCDDDCCCDCC\n"
     ]
    }
   ],
   "source": [
    "policy_ranks = {}\n",
    "\n",
    "for result in results:\n",
    "    for rank, (policy, score) in enumerate(result):\n",
    "        if policy not in policy_ranks:\n",
    "            policy_ranks[policy] = []\n",
    "\n",
    "        policy_ranks[policy].append(rank + 1)\n",
    "\n",
    "mean_policy_ranks = {policy: np.mean(ranks) for policy, ranks in policy_ranks.items()}\n",
    "\n",
    "for policy in sorted(mean_policy_ranks, key=lambda x: mean_policy_ranks[x]):\n",
    "    print(f\"{mean_policy_ranks[policy]:<16} {policy}\")"
   ]
  }
 ],
 "metadata": {
  "kernelspec": {
   "display_name": "ml",
   "language": "python",
   "name": "python3"
  },
  "language_info": {
   "codemirror_mode": {
    "name": "ipython",
    "version": 3
   },
   "file_extension": ".py",
   "mimetype": "text/x-python",
   "name": "python",
   "nbconvert_exporter": "python",
   "pygments_lexer": "ipython3",
   "version": "3.10.8"
  },
  "orig_nbformat": 4,
  "vscode": {
   "interpreter": {
    "hash": "ea8fc3f6c7fa3223c55434ded24c0b3b1260e6c6965b48cfc542164a121bf59d"
   }
  }
 },
 "nbformat": 4,
 "nbformat_minor": 2
}
