{
 "cells": [
  {
   "cell_type": "code",
   "execution_count": 1,
   "metadata": {},
   "outputs": [],
   "source": [
    "from itertools import chain\n",
    "from random import random\n",
    "\n",
    "import matplotlib.pyplot as plt\n",
    "import numpy as np\n",
    "from tqdm.notebook import tqdm\n",
    "\n",
    "from society.action import Action\n",
    "from society.agent import Agent, TrainableAgent\n",
    "from society.simulations.weighted import WeightedNetworkSimulation\n",
    "from society.strategies.gameplay.constant import AllC, AllD\n",
    "from society.strategies.gameplay.qlearning import TabularQLearningGameplayStrategy\n",
    "from society.strategies.gameplay.random import RandomGameplayStrategy\n",
    "from society.strategies.gameplay.tft import TitForTat\n",
    "from society.visualisation.network import *\n",
    "\n",
    "plt.rcParams[\"figure.figsize\"] = (10, 6)"
   ]
  },
  {
   "cell_type": "code",
   "execution_count": 2,
   "metadata": {},
   "outputs": [],
   "source": [
    "def generate_population(communities, size):\n",
    "    population = communities * size\n",
    "\n",
    "    agents = [\n",
    "        Agent(TabularQLearningGameplayStrategy(lookback=2, epsilon=0.2), i, population)\n",
    "        for i in range(population)\n",
    "    ]\n",
    "\n",
    "    G = nx.connected_caveman_graph(communities, size)\n",
    "\n",
    "    weights_matrix = np.zeros((population, population))\n",
    "    for u, v, d in G.edges(data=True):\n",
    "        weights_matrix[u, v] = weights_matrix[v, u] = 1.0\n",
    "        try:\n",
    "            d[\"weight\"] = weights_matrix[u, v]\n",
    "        except:\n",
    "            d[\"weight\"] = 0\n",
    "\n",
    "    return agents, weights_matrix, G"
   ]
  },
  {
   "cell_type": "code",
   "execution_count": 3,
   "metadata": {},
   "outputs": [],
   "source": [
    "def compute_policies(agents, rankings):\n",
    "    policies = [\n",
    "        (agents[partner[0]].gameplay_strategy._q_table.argmax(axis=-1), partner[1])\n",
    "        for partner in rankings\n",
    "    ]\n",
    "\n",
    "    return [\n",
    "        (\n",
    "            \"\".join(\n",
    "                [\n",
    "                    (\"C\", \"D\")[policy[0][i, j]]  # , k\n",
    "                    for i in range(4)\n",
    "                    for j in range(4)\n",
    "                    # for k in range(4)\n",
    "                ]\n",
    "            ),\n",
    "            policy[1],\n",
    "        )\n",
    "        for policy in policies\n",
    "    ]\n",
    "\n",
    "def calculate_cooperativeness(history):\n",
    "    count = history.count(Action.COOPERATE)\n",
    "\n",
    "    return count / len(history)"
   ]
  },
  {
   "cell_type": "code",
   "execution_count": 4,
   "metadata": {},
   "outputs": [
    {
     "data": {
      "application/vnd.jupyter.widget-view+json": {
       "model_id": "998b8ba4e6d643b5a55a06de0fd51357",
       "version_major": 2,
       "version_minor": 0
      },
      "text/plain": [
       "Training Run 1:   0%|          | 0/5000 [00:00<?, ?it/s]"
      ]
     },
     "metadata": {},
     "output_type": "display_data"
    },
    {
     "data": {
      "application/vnd.jupyter.widget-view+json": {
       "model_id": "7d5c2080473b4e3390a4139dd688b6cd",
       "version_major": 2,
       "version_minor": 0
      },
      "text/plain": [
       "Evaluation Run 1:   0%|          | 0/5000 [00:00<?, ?it/s]"
      ]
     },
     "metadata": {},
     "output_type": "display_data"
    },
    {
     "name": "stdout",
     "output_type": "stream",
     "text": [
      "BEST REWARD: 43674 (0.0) \t\t\t WORST REWARD: 21438 (1.0)\n"
     ]
    },
    {
     "data": {
      "application/vnd.jupyter.widget-view+json": {
       "model_id": "e5c77eeda0824a01995c7d6a54d0c578",
       "version_major": 2,
       "version_minor": 0
      },
      "text/plain": [
       "Training Run 2:   0%|          | 0/5000 [00:00<?, ?it/s]"
      ]
     },
     "metadata": {},
     "output_type": "display_data"
    },
    {
     "data": {
      "application/vnd.jupyter.widget-view+json": {
       "model_id": "de40f9fd9a0649c294d79df407bf641a",
       "version_major": 2,
       "version_minor": 0
      },
      "text/plain": [
       "Evaluation Run 2:   0%|          | 0/5000 [00:00<?, ?it/s]"
      ]
     },
     "metadata": {},
     "output_type": "display_data"
    },
    {
     "name": "stdout",
     "output_type": "stream",
     "text": [
      "BEST REWARD: 43091 (0.1330093235469153) \t\t\t WORST REWARD: 23310 (1.0)\n"
     ]
    },
    {
     "data": {
      "application/vnd.jupyter.widget-view+json": {
       "model_id": "bbbfa87619c549e0b174dcca1afeb9b8",
       "version_major": 2,
       "version_minor": 0
      },
      "text/plain": [
       "Training Run 3:   0%|          | 0/5000 [00:00<?, ?it/s]"
      ]
     },
     "metadata": {},
     "output_type": "display_data"
    },
    {
     "data": {
      "application/vnd.jupyter.widget-view+json": {
       "model_id": "c559c8d4f3f44a5b91e06808c6036169",
       "version_major": 2,
       "version_minor": 0
      },
      "text/plain": [
       "Evaluation Run 3:   0%|          | 0/5000 [00:00<?, ?it/s]"
      ]
     },
     "metadata": {},
     "output_type": "display_data"
    },
    {
     "name": "stdout",
     "output_type": "stream",
     "text": [
      "BEST REWARD: 41000 (0.19441962069307914) \t\t\t WORST REWARD: 22140 (1.0)\n"
     ]
    },
    {
     "data": {
      "application/vnd.jupyter.widget-view+json": {
       "model_id": "b44f223d4a064fdeae40f96c744f8512",
       "version_major": 2,
       "version_minor": 0
      },
      "text/plain": [
       "Training Run 4:   0%|          | 0/5000 [00:00<?, ?it/s]"
      ]
     },
     "metadata": {},
     "output_type": "display_data"
    },
    {
     "data": {
      "application/vnd.jupyter.widget-view+json": {
       "model_id": "43aa8cc98cb54db3878e14bcebce3318",
       "version_major": 2,
       "version_minor": 0
      },
      "text/plain": [
       "Evaluation Run 4:   0%|          | 0/5000 [00:00<?, ?it/s]"
      ]
     },
     "metadata": {},
     "output_type": "display_data"
    },
    {
     "name": "stdout",
     "output_type": "stream",
     "text": [
      "BEST REWARD: 43173 (0.03988375588736346) \t\t\t WORST REWARD: 22257 (1.0)\n"
     ]
    },
    {
     "data": {
      "application/vnd.jupyter.widget-view+json": {
       "model_id": "c426d1ef346e4b9687267de18afce2e0",
       "version_major": 2,
       "version_minor": 0
      },
      "text/plain": [
       "Training Run 5:   0%|          | 0/5000 [00:00<?, ?it/s]"
      ]
     },
     "metadata": {},
     "output_type": "display_data"
    },
    {
     "data": {
      "application/vnd.jupyter.widget-view+json": {
       "model_id": "03228fdbe3894464975f9ef260521865",
       "version_major": 2,
       "version_minor": 0
      },
      "text/plain": [
       "Evaluation Run 5:   0%|          | 0/5000 [00:00<?, ?it/s]"
      ]
     },
     "metadata": {},
     "output_type": "display_data"
    },
    {
     "name": "stdout",
     "output_type": "stream",
     "text": [
      "BEST REWARD: 42441 (0.0) \t\t\t WORST REWARD: 19530 (1.0)\n"
     ]
    },
    {
     "data": {
      "application/vnd.jupyter.widget-view+json": {
       "model_id": "2c96d3522d274faaa7aaeb34b3c0050f",
       "version_major": 2,
       "version_minor": 0
      },
      "text/plain": [
       "Training Run 6:   0%|          | 0/5000 [00:00<?, ?it/s]"
      ]
     },
     "metadata": {},
     "output_type": "display_data"
    },
    {
     "data": {
      "application/vnd.jupyter.widget-view+json": {
       "model_id": "51f492f1e166433f97b6de025c8d774b",
       "version_major": 2,
       "version_minor": 0
      },
      "text/plain": [
       "Evaluation Run 6:   0%|          | 0/5000 [00:00<?, ?it/s]"
      ]
     },
     "metadata": {},
     "output_type": "display_data"
    },
    {
     "name": "stdout",
     "output_type": "stream",
     "text": [
      "BEST REWARD: 38635 (0.2256743256743257) \t\t\t WORST REWARD: 24441 (1.0)\n"
     ]
    },
    {
     "data": {
      "application/vnd.jupyter.widget-view+json": {
       "model_id": "d74dddff2bdf4b1385932d3edbac02fe",
       "version_major": 2,
       "version_minor": 0
      },
      "text/plain": [
       "Training Run 7:   0%|          | 0/5000 [00:00<?, ?it/s]"
      ]
     },
     "metadata": {},
     "output_type": "display_data"
    },
    {
     "data": {
      "application/vnd.jupyter.widget-view+json": {
       "model_id": "877245ca72db4e45b0dfb63528bf8341",
       "version_major": 2,
       "version_minor": 0
      },
      "text/plain": [
       "Evaluation Run 7:   0%|          | 0/5000 [00:00<?, ?it/s]"
      ]
     },
     "metadata": {},
     "output_type": "display_data"
    },
    {
     "name": "stdout",
     "output_type": "stream",
     "text": [
      "BEST REWARD: 43641 (0.06615930999492643) \t\t\t WORST REWARD: 23982 (1.0)\n"
     ]
    },
    {
     "data": {
      "application/vnd.jupyter.widget-view+json": {
       "model_id": "4f50b6084a7f499a9b5fdb9e4ea2bd46",
       "version_major": 2,
       "version_minor": 0
      },
      "text/plain": [
       "Training Run 8:   0%|          | 0/5000 [00:00<?, ?it/s]"
      ]
     },
     "metadata": {},
     "output_type": "display_data"
    },
    {
     "data": {
      "application/vnd.jupyter.widget-view+json": {
       "model_id": "b361398f6b1e4cf9b06b7073cb832e73",
       "version_major": 2,
       "version_minor": 0
      },
      "text/plain": [
       "Evaluation Run 8:   0%|          | 0/5000 [00:00<?, ?it/s]"
      ]
     },
     "metadata": {},
     "output_type": "display_data"
    },
    {
     "name": "stdout",
     "output_type": "stream",
     "text": [
      "BEST REWARD: 46417 (0.006358668653750621) \t\t\t WORST REWARD: 22803 (1.0)\n"
     ]
    },
    {
     "data": {
      "application/vnd.jupyter.widget-view+json": {
       "model_id": "beaaf36046ea461aa571896ba43e27a2",
       "version_major": 2,
       "version_minor": 0
      },
      "text/plain": [
       "Training Run 9:   0%|          | 0/5000 [00:00<?, ?it/s]"
      ]
     },
     "metadata": {},
     "output_type": "display_data"
    },
    {
     "data": {
      "application/vnd.jupyter.widget-view+json": {
       "model_id": "06deb540e2af4f44aea4583b16f5c159",
       "version_major": 2,
       "version_minor": 0
      },
      "text/plain": [
       "Evaluation Run 9:   0%|          | 0/5000 [00:00<?, ?it/s]"
      ]
     },
     "metadata": {},
     "output_type": "display_data"
    },
    {
     "name": "stdout",
     "output_type": "stream",
     "text": [
      "BEST REWARD: 42947 (0.0) \t\t\t WORST REWARD: 21732 (1.0)\n"
     ]
    },
    {
     "data": {
      "application/vnd.jupyter.widget-view+json": {
       "model_id": "fd2b718d93554183ab6be03f4bbc6b79",
       "version_major": 2,
       "version_minor": 0
      },
      "text/plain": [
       "Training Run 10:   0%|          | 0/5000 [00:00<?, ?it/s]"
      ]
     },
     "metadata": {},
     "output_type": "display_data"
    },
    {
     "data": {
      "application/vnd.jupyter.widget-view+json": {
       "model_id": "471ca6791d7e40a79d940d5c95899bd0",
       "version_major": 2,
       "version_minor": 0
      },
      "text/plain": [
       "Evaluation Run 10:   0%|          | 0/5000 [00:00<?, ?it/s]"
      ]
     },
     "metadata": {},
     "output_type": "display_data"
    },
    {
     "name": "stdout",
     "output_type": "stream",
     "text": [
      "BEST REWARD: 45636 (0.08793944826212528) \t\t\t WORST REWARD: 23691 (1.0)\n"
     ]
    },
    {
     "data": {
      "application/vnd.jupyter.widget-view+json": {
       "model_id": "9c2d2248be6a463a8d9a38e3ece484ae",
       "version_major": 2,
       "version_minor": 0
      },
      "text/plain": [
       "Training Run 11:   0%|          | 0/5000 [00:00<?, ?it/s]"
      ]
     },
     "metadata": {},
     "output_type": "display_data"
    },
    {
     "data": {
      "application/vnd.jupyter.widget-view+json": {
       "model_id": "1cdb88e32b474055ae725a417b0d7bae",
       "version_major": 2,
       "version_minor": 0
      },
      "text/plain": [
       "Evaluation Run 11:   0%|          | 0/5000 [00:00<?, ?it/s]"
      ]
     },
     "metadata": {},
     "output_type": "display_data"
    },
    {
     "name": "stdout",
     "output_type": "stream",
     "text": [
      "BEST REWARD: 43982 (0.10058997050147493) \t\t\t WORST REWARD: 19755 (1.0)\n"
     ]
    },
    {
     "data": {
      "application/vnd.jupyter.widget-view+json": {
       "model_id": "63658f8504b14e6a8dd645d82b62af1e",
       "version_major": 2,
       "version_minor": 0
      },
      "text/plain": [
       "Training Run 12:   0%|          | 0/5000 [00:00<?, ?it/s]"
      ]
     },
     "metadata": {},
     "output_type": "display_data"
    },
    {
     "data": {
      "application/vnd.jupyter.widget-view+json": {
       "model_id": "b40424269d014bc8ac6c73fc7bf5c0c5",
       "version_major": 2,
       "version_minor": 0
      },
      "text/plain": [
       "Evaluation Run 12:   0%|          | 0/5000 [00:00<?, ?it/s]"
      ]
     },
     "metadata": {},
     "output_type": "display_data"
    },
    {
     "name": "stdout",
     "output_type": "stream",
     "text": [
      "BEST REWARD: 37346 (0.3092555331991952) \t\t\t WORST REWARD: 24435 (1.0)\n"
     ]
    },
    {
     "data": {
      "application/vnd.jupyter.widget-view+json": {
       "model_id": "52412dbd40be4ef4bd0758a5648c8eb1",
       "version_major": 2,
       "version_minor": 0
      },
      "text/plain": [
       "Training Run 13:   0%|          | 0/5000 [00:00<?, ?it/s]"
      ]
     },
     "metadata": {},
     "output_type": "display_data"
    },
    {
     "data": {
      "application/vnd.jupyter.widget-view+json": {
       "model_id": "de6df6135b5c4467b2e6142bc74c6e11",
       "version_major": 2,
       "version_minor": 0
      },
      "text/plain": [
       "Evaluation Run 13:   0%|          | 0/5000 [00:00<?, ?it/s]"
      ]
     },
     "metadata": {},
     "output_type": "display_data"
    },
    {
     "name": "stdout",
     "output_type": "stream",
     "text": [
      "BEST REWARD: 41935 (0.0) \t\t\t WORST REWARD: 22623 (1.0)\n"
     ]
    },
    {
     "data": {
      "application/vnd.jupyter.widget-view+json": {
       "model_id": "ff120e2239d04fb98a3a686d4858ec66",
       "version_major": 2,
       "version_minor": 0
      },
      "text/plain": [
       "Training Run 14:   0%|          | 0/5000 [00:00<?, ?it/s]"
      ]
     },
     "metadata": {},
     "output_type": "display_data"
    },
    {
     "data": {
      "application/vnd.jupyter.widget-view+json": {
       "model_id": "a7b0eabc44414031863ef3b7a3724235",
       "version_major": 2,
       "version_minor": 0
      },
      "text/plain": [
       "Evaluation Run 14:   0%|          | 0/5000 [00:00<?, ?it/s]"
      ]
     },
     "metadata": {},
     "output_type": "display_data"
    },
    {
     "name": "stdout",
     "output_type": "stream",
     "text": [
      "BEST REWARD: 40898 (0.15705864721750423) \t\t\t WORST REWARD: 19512 (1.0)\n"
     ]
    },
    {
     "data": {
      "application/vnd.jupyter.widget-view+json": {
       "model_id": "4472d5f50cf744b7af61fb95316a32ad",
       "version_major": 2,
       "version_minor": 0
      },
      "text/plain": [
       "Training Run 15:   0%|          | 0/5000 [00:00<?, ?it/s]"
      ]
     },
     "metadata": {},
     "output_type": "display_data"
    },
    {
     "data": {
      "application/vnd.jupyter.widget-view+json": {
       "model_id": "c2aa4dd9a4cc477aadaa4928bb76bf21",
       "version_major": 2,
       "version_minor": 0
      },
      "text/plain": [
       "Evaluation Run 15:   0%|          | 0/5000 [00:00<?, ?it/s]"
      ]
     },
     "metadata": {},
     "output_type": "display_data"
    },
    {
     "name": "stdout",
     "output_type": "stream",
     "text": [
      "BEST REWARD: 46025 (0.0) \t\t\t WORST REWARD: 22053 (1.0)\n"
     ]
    },
    {
     "data": {
      "application/vnd.jupyter.widget-view+json": {
       "model_id": "1c0cd903f0e9485bbe5f033ad57a808a",
       "version_major": 2,
       "version_minor": 0
      },
      "text/plain": [
       "Training Run 16:   0%|          | 0/5000 [00:00<?, ?it/s]"
      ]
     },
     "metadata": {},
     "output_type": "display_data"
    },
    {
     "data": {
      "application/vnd.jupyter.widget-view+json": {
       "model_id": "59f09c4b81064958811841e0cc2f8d66",
       "version_major": 2,
       "version_minor": 0
      },
      "text/plain": [
       "Evaluation Run 16:   0%|          | 0/5000 [00:00<?, ?it/s]"
      ]
     },
     "metadata": {},
     "output_type": "display_data"
    },
    {
     "name": "stdout",
     "output_type": "stream",
     "text": [
      "BEST REWARD: 42952 (0.04110687788249449) \t\t\t WORST REWARD: 22053 (1.0)\n"
     ]
    },
    {
     "data": {
      "application/vnd.jupyter.widget-view+json": {
       "model_id": "e5f6bc31f1de4b1c920dc49481dc4715",
       "version_major": 2,
       "version_minor": 0
      },
      "text/plain": [
       "Training Run 17:   0%|          | 0/5000 [00:00<?, ?it/s]"
      ]
     },
     "metadata": {},
     "output_type": "display_data"
    },
    {
     "data": {
      "application/vnd.jupyter.widget-view+json": {
       "model_id": "cd1bcdd0598a49359dc73d528c5e6534",
       "version_major": 2,
       "version_minor": 0
      },
      "text/plain": [
       "Evaluation Run 17:   0%|          | 0/5000 [00:00<?, ?it/s]"
      ]
     },
     "metadata": {},
     "output_type": "display_data"
    },
    {
     "name": "stdout",
     "output_type": "stream",
     "text": [
      "BEST REWARD: 38095 (0.2576510333863275) \t\t\t WORST REWARD: 24057 (1.0)\n"
     ]
    },
    {
     "data": {
      "application/vnd.jupyter.widget-view+json": {
       "model_id": "a2b10746e98a41b29f77d015f1fe3a54",
       "version_major": 2,
       "version_minor": 0
      },
      "text/plain": [
       "Training Run 18:   0%|          | 0/5000 [00:00<?, ?it/s]"
      ]
     },
     "metadata": {},
     "output_type": "display_data"
    },
    {
     "data": {
      "application/vnd.jupyter.widget-view+json": {
       "model_id": "301212af6c734c06892fe8edd4dba5d8",
       "version_major": 2,
       "version_minor": 0
      },
      "text/plain": [
       "Evaluation Run 18:   0%|          | 0/5000 [00:00<?, ?it/s]"
      ]
     },
     "metadata": {},
     "output_type": "display_data"
    },
    {
     "name": "stdout",
     "output_type": "stream",
     "text": [
      "BEST REWARD: 40868 (0.2005579356381389) \t\t\t WORST REWARD: 24285 (1.0)\n"
     ]
    },
    {
     "data": {
      "application/vnd.jupyter.widget-view+json": {
       "model_id": "a8d991af3ad64587b0e14eac7fa6b685",
       "version_major": 2,
       "version_minor": 0
      },
      "text/plain": [
       "Training Run 19:   0%|          | 0/5000 [00:00<?, ?it/s]"
      ]
     },
     "metadata": {},
     "output_type": "display_data"
    },
    {
     "data": {
      "application/vnd.jupyter.widget-view+json": {
       "model_id": "8c98d67f8df7477c97c750797f22ecdf",
       "version_major": 2,
       "version_minor": 0
      },
      "text/plain": [
       "Evaluation Run 19:   0%|          | 0/5000 [00:00<?, ?it/s]"
      ]
     },
     "metadata": {},
     "output_type": "display_data"
    },
    {
     "name": "stdout",
     "output_type": "stream",
     "text": [
      "BEST REWARD: 40549 (0.1863817097415507) \t\t\t WORST REWARD: 22428 (1.0)\n"
     ]
    },
    {
     "data": {
      "application/vnd.jupyter.widget-view+json": {
       "model_id": "d11c658ad44a46acbe778a1c0f697d1d",
       "version_major": 2,
       "version_minor": 0
      },
      "text/plain": [
       "Training Run 20:   0%|          | 0/5000 [00:00<?, ?it/s]"
      ]
     },
     "metadata": {},
     "output_type": "display_data"
    },
    {
     "data": {
      "application/vnd.jupyter.widget-view+json": {
       "model_id": "acb6694ff6d341d7a456976ca3c98798",
       "version_major": 2,
       "version_minor": 0
      },
      "text/plain": [
       "Evaluation Run 20:   0%|          | 0/5000 [00:00<?, ?it/s]"
      ]
     },
     "metadata": {},
     "output_type": "display_data"
    },
    {
     "name": "stdout",
     "output_type": "stream",
     "text": [
      "BEST REWARD: 38006 (0.20423312268030896) \t\t\t WORST REWARD: 19782 (1.0)\n"
     ]
    }
   ],
   "source": [
    "# PAYOFF_LABELS = [\"(C, C)\", \"(C, D)\", \"(D, C)\", \"(D, D)\"]\n",
    "\n",
    "PAYOFF_LABELS = [\"R\", \"S\", \"T\", \"P\"]\n",
    "\n",
    "POPULATION = (2, 32)\n",
    "ROUNDS = 10_000\n",
    "\n",
    "cumulative_reward_results = []\n",
    "# cooperativeness_results = []\n",
    "\n",
    "for run in range(20):\n",
    "    # Generate a new population\n",
    "    agents, weights_matrix, G = generate_population(*POPULATION)\n",
    "\n",
    "    # Run a number of rounds\n",
    "    sim = WeightedNetworkSimulation(agents, weights_matrix)\n",
    "\n",
    "    # Training phase\n",
    "    sim.reset()\n",
    "    for i in tqdm(range(ROUNDS // 2), desc=f\"Training Run {run + 1}\"):\n",
    "        sim.play_round(train=True)\n",
    "\n",
    "    # Evaluation phase\n",
    "    for agent in agents:\n",
    "        agent.gameplay_strategy._epsilon = 0.0\n",
    "\n",
    "    sim.reset()\n",
    "    for i in tqdm(range(ROUNDS // 2), desc=f\"Evaluation Run {run + 1}\"):\n",
    "        sim.play_round(train=False)\n",
    "\n",
    "    # Rank agents by cumulative reward\n",
    "    cumulative_rewards_matrix = [\n",
    "        [sum(r) if len(r) > 0 else 0 for r in agent] for agent in sim.rewards\n",
    "    ]\n",
    "    cumulative_reward_rankings = sorted(\n",
    "        [(i, sum(cumulative_rewards_matrix[i])) for i in range(len(agents))],\n",
    "        key=lambda x: x[1],\n",
    "        reverse=True,\n",
    "    )\n",
    "\n",
    "    cumulative_reward_results.append(compute_policies(agents, cumulative_reward_rankings))\n",
    "\n",
    "    # Rank agents by cooperativeness\n",
    "    # cooperativeness_rankings = sorted(\n",
    "    #     [\n",
    "    #         (i, calculate_cooperativeness(list(chain(*history))))\n",
    "    #         for i, history in enumerate(sim.action_histories)\n",
    "    #     ],\n",
    "    #     key=lambda x: x[1],\n",
    "    #     reverse=True,\n",
    "    # )\n",
    "\n",
    "    tqdm.write(\n",
    "        f\"BEST REWARD: {cumulative_reward_rankings[0][1]} ({calculate_cooperativeness(list(chain(*sim.action_histories[cumulative_reward_rankings[0][0]])))}) \\t\\t\\t WORST REWARD: {cumulative_reward_rankings[-1][1]} ({calculate_cooperativeness(list(chain(*sim.action_histories[cumulative_reward_rankings[-1][0]])))})\"\n",
    "    )\n",
    "\n",
    "    # tqdm.write(\n",
    "    #     f\"BEST COOPERATOR: {cumul} ({cooperativeness_rankings[0][1]:<24}) \\t\\t\\t WORST COOPERATOR: ({cooperativeness_rankings[-1][1]})\"\n",
    "    # )\n",
    "\n",
    "    # cooperativeness_results.append(compute_policies(agents, cooperativeness_rankings))\n"
   ]
  },
  {
   "cell_type": "code",
   "execution_count": 5,
   "metadata": {},
   "outputs": [
    {
     "name": "stdout",
     "output_type": "stream",
     "text": [
      "1.0                      DDDDCCCCDCDDCDDD\n",
      "1.0                      DDDDDDDCCCDCCCDC\n",
      "1.0                      DCDCCDDCDCDCDCDC\n",
      "1.0                      DCDCCCDDDCDDDDDC\n",
      "1.0                      DCDDDCDCCCDDCCDD\n",
      "1.0                      DCDCCCCDCCDCDCDC\n",
      "1.0                      DCDDCCCDCCDDCCDC\n",
      "1.0                      DCDDDDDDCCDDDDDC\n",
      "1.0                      DCDDDCDCDCDDCCDD\n",
      "1.0                      DDDCCDCCCDDCDCDC\n",
      "1.0                      DCDCCDDCDCDCDDCC\n",
      "1.0                      DCDCCCDDDCDCCCCC\n",
      "1.0                      DDDDCDDCCCDDCCDD\n",
      "1.0                      DCDCCDCCCDDCDDCC\n",
      "1.0                      DDDDCCDCCDDDCCDD\n",
      "1.0                      DDDDCDCCCCDDDCDC\n",
      "1.0                      DCDDDDCCCCDDCDCD\n",
      "1.0                      DCDCCCDDCCDDCCDD\n",
      "1.0                      DDDDDCCCDCDCCCCD\n",
      "1.5                      DCDCDDCCDCDCDCCC\n",
      "2.0                      DDDCCCCCCCDCDCDC\n",
      "2.0                      DCDDDDCDDCDDCDDC\n",
      "2.0                      DDDCDCCDDCCCCCCC\n",
      "2.0                      DCDDDCCCCCDDCCDC\n",
      "2.0                      DDDCCDCCCDDCDDCC\n",
      "2.0                      DCDCCDCCCDDCDCCC\n",
      "2.0                      DCDCCCDCCDDCDCCC\n",
      "2.0                      DCDCDCDCCCDCDCDC\n",
      "2.0                      DCDCCCCCCDDCCCCC\n",
      "2.0                      DCDDDCCCCCDDCCDD\n",
      "2.0                      DCDCCCCCDCDCCDDC\n",
      "2.0                      DDDCDCCCCCDCDDCD\n",
      "2.0                      DCDDDCCCDDCCDCCD\n",
      "2.0                      DDDDDDDCCCDDCCDC\n",
      "2.0                      DCDCCCCCCCDCDDCC\n",
      "2.0                      DCDCCCCCCCDCDCDC\n",
      "2.0                      DCDCCCDCCCDCDCCD\n",
      "3.0                      DCDCCCDCDCDDDCCC\n",
      "3.0                      DDDCCCDCCDDCCCCC\n",
      "3.0                      DCCCDCDCDDCCDCCC\n",
      "3.0                      DCDCDDCCCCDCCDDC\n",
      "3.0                      DDCCCCCDDCCDCCCC\n",
      "3.0                      DDDCCCDCDCDCDCCC\n",
      "3.0                      DCDCDCCCDCDCDCCC\n",
      "3.0                      DCCDDCCCDDCCDCCC\n",
      "3.0                      DDCDDCCCDDCCCCCC\n",
      "3.0                      DCDDCCCCDCDCDCDC\n",
      "3.0                      DCDCCCCCDCDCCCCC\n",
      "3.0                      DDDCDDCCCCDCDCCC\n",
      "3.0                      DCDCDCDDDCDDCCCC\n",
      "3.0                      DCDCDCCDCCDCCCCC\n",
      "3.0                      DCDCCDCCCCDDDCDC\n",
      "3.0                      DDDCDDDCCCDCDDCC\n",
      "3.0                      DDDCCCDCDCDDCCDC\n",
      "3.0                      DCCDCCCDDDCCCCCC\n",
      "3.0                      DDDDCCCCDCCCCCCD\n",
      "3.0                      DCDDCDCCCCDCDCCC\n",
      "4.0                      DDDDCCDCDDDDDCCD\n",
      "4.0                      CDCCCCDDCCDDCDDC\n",
      "4.0                      DDCDCCCCDCCDCCCC\n",
      "4.0                      DDDCDCDCDCDCCCCC\n",
      "4.0                      DCDCCDCDCCDCDCCC\n",
      "4.0                      DCDCCCDCCCDCCCCC\n",
      "4.0                      DDDCCDDCCCDCCDCC\n",
      "4.0                      DCDCDCCCDDDCCCCC\n",
      "4.0                      DDDCCCDCCCDCDCCC\n",
      "4.0                      DDCCCCCDDCCCDCCC\n",
      "4.0                      DDDCCDDCCCDCCCCC\n",
      "4.0                      DCDCDCCDDCDCDCDC\n",
      "4.0                      DCDCCCCCDCDCDDDC\n",
      "4.0                      DDCCCCCDDCCCCDCC\n",
      "4.0                      DCCCCDCCDDCCDCCC\n",
      "4.0                      DCDCCCCCCCDCCCCD\n",
      "4.5                      DCDCDCDCCCDCCCDC\n",
      "4.5                      DCDCDCDCDCCCDDCC\n",
      "5.0                      DCDCDDCCCCDCDCCC\n",
      "5.0                      DCCDCDDDDDCCCDCD\n",
      "5.0                      DDCCDCCDDCCCDCCC\n",
      "5.0                      DDCDDDCCDCCCCCDC\n",
      "5.0                      DCDCDCDCDCDCDCCC\n",
      "5.0                      DDCDDDCCDCCCCCCC\n",
      "5.0                      DCDCDCCCCCDCCCCD\n",
      "5.0                      DDDCCDDCDDCCDDCC\n",
      "5.0                      DCDDCDDDCCDCCCCC\n",
      "5.0                      DDCDDDCDDDCDCCDD\n",
      "5.0                      DCDCDDCCDDCCCCDC\n",
      "5.0                      DDDCCCDDCCDCCCDC\n",
      "5.0                      DCDCCDDCDCDDCDDD\n",
      "5.0                      DCDCCDCCCCDDCCCC\n",
      "5.0                      DDCCDCCDDDCCCCCC\n",
      "5.0                      DCCDDCCCDCCCCCDD\n",
      "5.0                      DCDDDCDDDDCDDCCC\n",
      "5.5                      DCCCCCCCDCCDDCCC\n",
      "6.0                      DDCDCCCCDDCCDCCC\n",
      "6.0                      DDCCDDDCDDCCDDCC\n",
      "6.0                      DDCDCCCCDDCCCCCC\n",
      "6.0                      DCDCCCCCCCDCCCCC\n",
      "6.0                      DCDCCCCCDDCCDCCC\n",
      "6.0                      DCCCDCCCDDCCDDCC\n",
      "6.0                      DDCDCCDCDDCCCCCD\n",
      "6.0                      DCDCDDCCCCDCCCCC\n",
      "6.0                      DCDDDCCDDCCDCCCD\n",
      "6.0                      DCDCCCCCDDDCDCCC\n",
      "6.0                      DCDCDCCCCCDCCDCC\n",
      "6.0                      DDDCCCCCCCDCCCCC\n",
      "6.0                      DDCDCCCCDCCCCCCC\n",
      "6.0                      DDDCCDCCDDCDCDCD\n",
      "6.0                      DCDCDCDCCCDCCCCC\n",
      "6.0                      DDCCCCCCDDCDDCCC\n",
      "6.0                      DCDCDCCCDCCCCDCC\n",
      "6.0                      DCCCDCCCDDCCDCCC\n",
      "7.0                      DCCDCDCDDCCDCCCC\n",
      "7.0                      DDCDCDCDDCCCCCCD\n",
      "7.0                      DCCDCDCDDCCDCCCD\n",
      "7.0                      DCDCCDCCCCDCDCDC\n",
      "7.0                      DCCDCDCCDDCCCDCC\n",
      "7.0                      DCCDCDDDDCCDDCDC\n",
      "7.0                      DCDCDCCCDCDCCCCC\n",
      "7.0                      DCDCCCCCDCCCDDCC\n",
      "7.0                      DDCCDDCCDCCCDCCC\n",
      "7.0                      DCDCDDCCDCDCCCCC\n",
      "7.0                      DCCDDDDCDCCCCCCD\n",
      "7.0                      DCDCDDCCCCDCCCDC\n",
      "7.0                      DCCDDCCCDDCCCCCD\n",
      "7.0                      DCCCCCCCDCCCCCCD\n",
      "7.0                      DDCCDCCCDDCCDCCC\n",
      "7.0                      DDCDDCCDDCCDDCCD\n",
      "7.0                      DCDCDCCCDCCDDCCC\n",
      "8.0                      DDDCCDCCDCCCDDDC\n",
      "8.0                      DCCCDDDDDCCCDCCD\n",
      "8.0                      DCDCCCDCCDDCCCCC\n",
      "8.0                      DDCCDCCCDCCCDCCC\n",
      "8.0                      DCCDCDDCDCCCCCDC\n",
      "8.0                      DCDCDCCCDCCDDCCD\n",
      "8.0                      DCCCCCCCDCCCDCCC\n",
      "8.0                      DDCCDDCCDDCCCCCC\n",
      "8.0                      DDCDCDCDDDDDCCCD\n",
      "8.0                      DDCCDCCCDCCCDDCC\n",
      "8.0                      DDCCCDDCDDCCDCCC\n",
      "8.0                      DCCCDCCCDCCCCCDD\n",
      "8.0                      DDDCCDDCDCCCCCCC\n",
      "8.0                      DCCCDCCCDCCCCDCC\n",
      "8.0                      DDDCDCCDDCCCDDCC\n",
      "8.0                      DCCCDCCCCCCDCCCD\n",
      "8.0                      DDDCCCDCCCDCCCCC\n",
      "8.0                      DCCDDCDCDCCCDCCC\n",
      "9.0                      DCCDDDCCDCCCCCCD\n",
      "9.0                      DCCDDCCCDCCCDCCC\n",
      "9.0                      DCCDDCDDCCCCCCCD\n",
      "9.0                      DCCDDCCCDCCCCCCC\n",
      "9.0                      CDCDCDCDCDCCCCCC\n",
      "9.0                      DCCCCCCCDCCCDDCC\n",
      "9.0                      DCCDCDCCDDCDDCCC\n",
      "9.0                      DCCCDCDCDCCCCCCC\n",
      "9.0                      DDCDCDCDDCCDCCCD\n",
      "9.0                      DCDCCCCDCCDCCCCC\n",
      "9.0                      DCDCCDCCDDCCCDCC\n",
      "9.0                      DCDCCCCDCCDCCCDC\n",
      "9.0                      DDDCDDCCCDCDCDCC\n",
      "9.0                      DCCDDCCCDCCCCCCD\n",
      "9.0                      DCCCCCCCCDCCDCCC\n",
      "9.0                      DCDDDCDDCCCDCCCD\n",
      "9.0                      DCCDDCCCDDCCCCCC\n",
      "10.0                     DDDCCDCCCDCDDDCD\n",
      "10.0                     DDCCCCCDDDCCCCCC\n",
      "10.0                     DDCDCDDCCDCDCDCC\n",
      "10.0                     DCCDDCCDDCCDCCCC\n",
      "10.0                     DCCCDCCCDCDCCCCC\n",
      "10.0                     DDCCCCDCDCCCCCCC\n",
      "10.0                     DCCDCCCCDDCCCCCC\n",
      "10.0                     DCDCDCCCCCCCDCCC\n",
      "10.0                     DCCCDCCCDCCDCCCD\n",
      "10.0                     DCCCDDCCDCCCDCCC\n",
      "10.0                     DCDCCCDCCCCCCDDC\n",
      "10.0                     DDDCCDCCDDCCCDCC\n",
      "10.0                     DCCDCDCDDCCDCDCC\n",
      "10.0                     DCDCCDCCDCCCDCCC\n",
      "10.0                     DDCCDCCCDDCCCCCD\n",
      "10.0                     DCDDCDCCCCCCCCCC\n",
      "10.0                     DCCCDDCCDDCCCCCC\n",
      "10.5                     DCCCDDCCDCCCCCCC\n",
      "11.0                     DCDCDDCCCCCCCCCC\n",
      "11.0                     DCDCDCDCDCCCCCCC\n",
      "11.0                     DCDCDCCCCDCCCCCC\n",
      "11.0                     CDDCCCDDCCCCCCCC\n",
      "11.0                     DCDDCCDCCCCCCCCC\n",
      "11.0                     DCCCDCDCDCCDCCCC\n",
      "11.0                     DCDCDCCCCCCCCDCC\n",
      "11.0                     DCCDDCCCDCCDCCDC\n",
      "11.0                     DCDCCDDDCCDCCDCC\n",
      "11.0                     DCDDDCCCCDCCCCCC\n",
      "11.0                     DDCCCDCCDCCCDCCD\n",
      "11.0                     DDDDCDCCDCCCCCCC\n",
      "11.0                     DCCDCDCCDCDCCDCD\n",
      "11.0                     DCCDCDCCDCCDCCCD\n",
      "11.0                     DCDCCCCCCCCCCDDC\n",
      "11.0                     DCCCCCCCDCCCCDCC\n",
      "11.0                     DDCCCCCCDCCCCDCC\n",
      "12.0                     DCDCCDCCCCCDCDCC\n",
      "12.0                     CDCCCCDCCDDCCCCC\n",
      "12.0                     CDCCCCCDCDCDCCCC\n",
      "12.0                     CDCDCCDCCCDCCDCD\n",
      "12.0                     DCCDDDCCCCDCCDCC\n",
      "12.0                     DCDCDCCDCCCCCCCC\n",
      "12.0                     DDCCDCDCCCCDCCCC\n",
      "12.0                     DCCCDCCDDDCCDCCC\n",
      "12.0                     DDCCCCDCCCCCCCCC\n",
      "12.0                     DCCCDCCCCCCCDCDC\n",
      "12.0                     DCDCDCCDDCCCCCCC\n",
      "12.0                     DCCCCCCCDDCDDCCC\n",
      "12.0                     DDCCCCCCCCCCDDCC\n",
      "12.0                     DDCCCCCCDCCCCCDC\n",
      "12.0                     DCCCCDCCDDCDCCCC\n",
      "12.0                     DCCDCCCCDCCCDCCC\n",
      "13.0                     DCCCCCCCDDCCCCCC\n",
      "13.0                     DDCCCDCCCDCDCDCC\n",
      "13.0                     DCCDCCCDCCCDCCCD\n",
      "13.0                     DCCCDDCCDCCDCCCC\n",
      "13.0                     DCDCDCCCCCCDCCCC\n",
      "13.0                     CCCCDCCDCCCDDCCC\n",
      "13.0                     DCCDCDCCCDCDDCCC\n",
      "13.0                     DCCDCCDCDCCDCDCC\n",
      "13.0                     DCCCCCDCCDCCDDCC\n",
      "13.0                     DCCDCCCCDCCCCCCD\n",
      "13.0                     DCCCDCDCCDCCCCCC\n",
      "13.0                     CDCCCDDCCDDDDCDC\n",
      "13.0                     DCCDDDCCCCCDDCCD\n",
      "13.0                     DCCDCCCCDCCCCCDC\n",
      "13.0                     DCDCCCCCCCCCDCCD\n",
      "13.0                     DDDCCCCCCDDCCCCD\n",
      "13.5                     DCCCDCDCCCCCCCCC\n",
      "14.0                     DCDCDCCCCCCCCCCC\n",
      "14.0                     DCCDCCCDCCCDCCCC\n",
      "14.0                     CDCCCCCCCDCCCDCD\n",
      "14.0                     DCDCCDCCCDCCCCCC\n",
      "14.0                     DCCCCDCDCCCCCDCC\n",
      "14.0                     DCDCDCCCDDCCCDCC\n",
      "14.0                     DDDCDDDCDCCCCDCC\n",
      "14.0                     DCCCCDCDCCCCCCCC\n",
      "14.0                     DDCCCCCCDCCDCCCD\n",
      "14.0                     DCDDCCDCDCCCCDCC\n",
      "14.0                     DCDDCCDCCCCCDCCC\n",
      "14.0                     DCDCCCCCCCCCDCDC\n",
      "14.0                     DCCCDDCDDCCDCCCC\n",
      "14.0                     DDCCDDCCDCCCCCCC\n",
      "14.333333333333334       DCCCCCDCDCCCCCCC\n",
      "15.0                     DCCCCCCCDCDCCCCC\n",
      "15.0                     DCCCDCCCDDCCCCCC\n",
      "15.0                     DDCCCCCCCCCCCCCC\n",
      "15.0                     DCDCDCCCCCCCCCDC\n",
      "15.0                     CDCCDCDCCDCCCDCC\n",
      "15.0                     DDCCCCDCCCCCCDCC\n",
      "15.0                     CCDCDCCCCDCDCDCD\n",
      "15.0                     DDCCDDDDCDCCDDCC\n",
      "15.0                     CDDDCCCDCCCCCCCC\n",
      "15.0                     DCDCDDCCCCCCCCDC\n",
      "15.0                     DCDCDCDCCCCCCCCC\n",
      "15.0                     DDCDCCCDCCCCCCCD\n",
      "15.0                     DDCDCDCCCDCCCDCC\n",
      "15.0                     DDCCCDCCDCCCCCCC\n",
      "15.0                     DCDCCDCDDDCDCCCC\n",
      "15.25                    DCCCDCCCDCCCDCCC\n",
      "15.333333333333334       DCCCDCCDDCCCCCCC\n",
      "16.0                     DCCDCCCCCCCCDCCC\n",
      "16.0                     CDDCCCCDCDCCCDDD\n",
      "16.0                     DDDCCCCCCCCCCCCC\n",
      "16.0                     DCCCDCDCDCCCDCDC\n",
      "16.0                     CDCCCCDDCDCCCDDC\n",
      "16.0                     CDCDCDCDCCCDDCDD\n",
      "16.0                     DCCDCDCCCCCCDCCC\n",
      "16.0                     DCCCCDCCCCDCCCCC\n",
      "17.0                     DCCCCCCCCCCCCDCC\n",
      "17.0                     CDDDCDDCCCCDCDDC\n",
      "17.0                     DDCCCCCCCCCCCDCC\n",
      "17.0                     CDCCCCCCCCCDCCCD\n",
      "17.0                     DCCCDCCCCDCCCCCC\n",
      "17.0                     CDCCCDDDCCDCCDCC\n",
      "17.0                     DDCCCCCCCDCCCDCC\n",
      "17.0                     DCDCCCDCDCCCCCCC\n",
      "17.0                     DCCCDCDCCCCCCDCC\n",
      "17.0                     DCCCCDCCCCCDCCCC\n",
      "17.0                     DDCCCDCCDDCCCDCC\n",
      "17.0                     CCDCDCCCDCCCCCCC\n",
      "17.0                     DCCDDCCCCDCCCCCC\n",
      "17.0                     CDCCCCCCCCCCCCCD\n",
      "17.0                     DDCCDCCCDDCCCCCC\n",
      "17.0                     DCDDCCCCCDCCCCCC\n",
      "17.0                     CDDDCDDCCDDCCCCC\n",
      "17.5                     DCCCDCDCCCCCDCCC\n",
      "17.5                     DCCCDDCCCDCCCCCC\n",
      "17.5                     DDCCCCCCDDCCCCCC\n",
      "17.666666666666668       DCCCDCCCDCCCCCCC\n",
      "18.0                     DCCCDCCCDCCDCCCC\n",
      "18.0                     CDCCCCDCCDCCCCCD\n",
      "18.0                     CDCCCCDDCCCCCCCC\n",
      "18.0                     DDCCCCCCCCCDDCCD\n",
      "18.0                     CDDCDDCDCDCCCCDC\n",
      "18.0                     DDCCCCCCCDCCCDCD\n",
      "18.0                     DCDCCCCCDCCCCDCC\n",
      "18.0                     CDCCDCCDCCDCCDDC\n",
      "18.0                     CDCDCCCDCCCCDCCC\n",
      "18.0                     DCCCDCCCCDCCDDCC\n",
      "18.0                     DDCCDDCCCDCCCCCC\n",
      "18.0                     DDCCCCCCCCCCDCCC\n",
      "18.0                     DCCDDCCCCCCCDCCC\n",
      "18.0                     DDDCCCCDDCCDCCCC\n",
      "18.8                     DCCCDCCCCCCCCCDC\n",
      "19.0                     DCDDCCDDCCCCCCCC\n",
      "19.0                     DCCCCCDDCCCCCCDC\n",
      "19.0                     CCCDDCCDCCCCCDCC\n",
      "19.0                     DCCCCCCCDCCDCCDC\n",
      "19.0                     CDCCCDCCCCCCCDCC\n",
      "19.0                     DCCCDCCDCCCCCCCC\n",
      "19.0                     DCDCCCDCCCCCCCCD\n",
      "19.0                     CCCCDCCCCCCCCDDD\n",
      "19.0                     DCCCCDCCDCCDCCCC\n",
      "19.0                     DCDCCCDCCDCCCCCC\n",
      "19.0                     DCCDCDCCCCCDCCCC\n",
      "20.0                     CDCCCCDCCCCCCCCC\n",
      "20.0                     DCCDCCCCCDCCCCCC\n",
      "20.0                     DCCCCCCCDCCCCCCC\n",
      "20.0                     CDCDCCDDCCCCCCCD\n",
      "20.0                     CDCCCCDCCCCDCCCC\n",
      "20.0                     CDCCCCDCCCCDCCCD\n",
      "20.0                     DCCDCCCCCCCDCDCC\n",
      "20.0                     CDDCCDDCDDCCCCCC\n",
      "20.0                     DDCDCCCDCCCCCCCC\n",
      "20.5                     DCCCCDCCDCCCCCCC\n",
      "21.0                     CCCCDCCDCCCCCCCC\n",
      "21.0                     CDDCCDDCCCCCCCDD\n",
      "21.0                     CDCCCCCCCCCCDCCC\n",
      "21.0                     CDDCCDCCCCCDCDCC\n",
      "21.0                     DCDDDCDCCCCCCCDC\n",
      "21.0                     DCCDCCCCCCCCCCCC\n",
      "21.0                     DDCCCCCDCCCCDCCC\n",
      "21.0                     CDCCCCDCCCCCCDCC\n",
      "21.0                     DCCCCDCCCDCCCCCC\n",
      "21.0                     CDCDCCCDCCCCCCCC\n",
      "21.0                     CDCCCDDDCCCCCCCC\n",
      "21.0                     DCDCCCCCCCCDDCDC\n",
      "21.0                     CDDCCDDCCCCCCCCC\n",
      "21.2                     DCCCCCCCCCCCDCCC\n",
      "21.5                     CDCCCDCDCDCCCCCC\n",
      "22.0                     DCCCDCDDCCCCCCCC\n",
      "22.0                     CDCCCCDCCCCCCDDC\n",
      "22.0                     CDCDCDCCCCCCCDCC\n",
      "22.0                     CDDCCDDCCCCCCDCD\n",
      "22.0                     CCCDCCCDCCCCCDCD\n",
      "22.0                     CDCDCDCCCDCCDDCC\n",
      "22.0                     CDCDDCCDCDCCCCCC\n",
      "22.0                     CDCCCCCCCDCCDCCC\n",
      "22.0                     CDCCCDCDCCCCCCCC\n",
      "22.0                     DCCDDCCCCCCCCCCC\n",
      "22.25                    DCCCCCCDCCCCDCCC\n",
      "23.0                     DDCCDCDCCDCCCCCC\n",
      "23.0                     DCCCCDCCCCCCCDDC\n",
      "23.0                     CDCCCCCCCDCCDDCC\n",
      "23.0                     CDCCCCDDCCCDCCCC\n",
      "23.0                     CCDDCDCDCCCCCCCC\n",
      "23.0                     CDCCCCDCCDCCCCCC\n",
      "23.0                     DCCDCCCDCDCDCCCC\n",
      "23.0                     CDCDCCCDCCCCCCCD\n",
      "24.0                     DCCDCCCCCCDCDDCC\n",
      "24.0                     CDDCCCCCCCCCDDCC\n",
      "24.0                     CDCCDDCCCCCCCCDC\n",
      "24.0                     CDCCCDCDCDCCDCCD\n",
      "24.0                     DCDCCDCCCCCCCCDC\n",
      "24.0                     CDDCCCCCCCCCCDCC\n",
      "24.0                     CDDDCCCCCCCCCCCD\n",
      "24.0                     DCDCDCCCDCCCCCCC\n",
      "24.5                     DCCCCCCCCDCCCCCC\n",
      "24.5                     DCCCCCDCCCCCCCCC\n",
      "24.75                    CDCCCDCCCDCCCDCC\n",
      "25.0                     CDCCCCCCCDCCCCDC\n",
      "25.0                     DCCCCCCCCCCDCCDC\n",
      "25.0                     CDDCCCCDCDCCCCCC\n",
      "25.0                     CDDDCDDCCDCCCDCC\n",
      "25.0                     CDCCCCDCCDCDCCCC\n",
      "25.0                     DDDCCCCCCCCCCCDC\n",
      "25.2                     DCCCDCCCCCCCCCCC\n",
      "25.958333333333332       DCCCCCCCCCCCCCCC\n",
      "26.0                     CDDDCCCCCCCDCCCC\n",
      "26.0                     CDCCCCCCCCCDCCCC\n",
      "26.0                     CDCCCCCDCDCCCCCD\n",
      "26.0                     CCCCCDDCCDDCCCDC\n",
      "26.0                     CDCCCDDCCCCCCCCC\n",
      "26.0                     DDDCDDCCCCCCCCCC\n",
      "26.0                     CDCDCCCDCDCCDCCD\n",
      "26.0                     CDDCCCCCCDCCCCCC\n",
      "26.0                     CDDCDCCCCCCCCCCC\n",
      "26.0                     DCCCCCCCCCDCCCCC\n",
      "26.5                     CDDCCDCCCCCCCCCC\n",
      "26.6875                  CDCCCCCCCCCCCCCC\n",
      "27.0                     DCCCCCCCCCCCCCCD\n",
      "27.0                     CCCDCCCCCDCCCCDD\n",
      "27.0                     CCCDCCCCCCCDCCDC\n",
      "27.0                     CDDCCDDCCCCCCDCC\n",
      "27.0                     CCCCCDCDCDCCCCCC\n",
      "27.0                     DDCCCDCCCDCCCCCC\n",
      "27.0                     DDCCCCCCCCCCCDDC\n",
      "27.0                     CDCCCCCCCCCCCDDC\n",
      "27.0                     CDCCCCDCCCCCCDCD\n",
      "27.0                     CDCCCDCCCDDCCCCC\n",
      "27.0                     CDCCCCCCCDCDDCCD\n",
      "27.0                     CDCDCCCCCCCDCCCC\n",
      "27.0                     CDCCCCDCCCCCCCDC\n",
      "27.5                     DCCCCCCCCCCDCCCC\n",
      "27.5                     DCCCDDCCCCCCCCCC\n",
      "27.5                     CDCDCCCCCCCCCDCC\n",
      "27.666666666666668       CDCCCCCCCDCCCDCC\n",
      "27.75                    DCDCCCCCCCCCCCCC\n",
      "28.0                     DDCCCDCCCCCCCCCC\n",
      "28.0                     CDCCDCCCCCCCCCCC\n",
      "28.0                     CCCDDCCDCCCDCCCD\n",
      "28.0                     CDCCDCCCCCCDCCDC\n",
      "28.0                     CDCCCCCDCCCDCDCD\n",
      "28.333333333333332       CDCCCCCCCCCCCDCC\n",
      "28.5                     CDCDCCCCCCCCCCDC\n",
      "29.0                     CDCCCDCCCCCCCCCD\n",
      "29.0                     CCCDCDCDCCCDCCCC\n",
      "29.0                     CDCDCCCCCCCCCCCC\n",
      "29.0                     DCCCCCCDCCCCDDCC\n",
      "29.0                     CDCCCDCDCDCCCDCC\n",
      "29.0                     CDCCCDCDCCCDCCCC\n",
      "29.0                     CCDCCDDDCCCCCCCC\n",
      "29.0                     CCDDDDCDCCCCCCCC\n",
      "29.0                     DDCCCDCCCDCCCDCC\n",
      "29.333333333333332       CDCCCDCCCCCCCCCC\n",
      "30.0                     CDDCCCCDCCCCCCDC\n",
      "30.0                     CDCCCCCCCCCCCCDC\n",
      "30.0                     DCCCCCDCCCCCCDCC\n",
      "30.0                     CDCCCCCDCCCCCCCC\n",
      "30.0                     CDCCDDCCCDCCCCDC\n",
      "30.0                     CDCCCCCCCCCCDDDC\n",
      "30.0                     CCDCCDCDCCCCCDCC\n",
      "30.0                     CCCDCCCDCDCCCCCC\n",
      "30.0                     DCCCCCDCDCCCCCCD\n",
      "30.0                     CCDCCDCDCDCCCCDC\n",
      "30.0                     CDCDCCDCCCCCCCCD\n",
      "30.333333333333332       DCCCDCCCCCCCCDCC\n",
      "30.5                     DCCCCCCDCCCCCCCC\n",
      "30.5                     CCDDCCDCCCCCCCDC\n",
      "30.666666666666668       DCCCCDCCCCCCCCCC\n",
      "31.0                     DCDCDCCDCCCDCCDC\n",
      "31.0                     CDDCCDCDCCCCCCCC\n",
      "31.0                     CCCDCDCCCCCCCCCD\n",
      "31.2                     CCCCDCCCCCCCCCCC\n",
      "32.0                     CDCCCDCCCCCDCCDC\n",
      "32.0                     CDCDCDCCCCCCCCCC\n",
      "32.0                     DCCCCCCCCCCCDDCC\n",
      "32.0                     DDCCDDCCCCCDCCCC\n",
      "32.0                     CCCDCCDCCDCDCCCC\n",
      "32.0                     CCCDCDCDCCCCCCCC\n",
      "32.5                     CCCCCDCCCCCCCCDC\n",
      "32.666666666666664       CCCCCDDCCCCCCCCC\n",
      "33.0                     DCCCCCCCCCDCCCDC\n",
      "33.0                     CCCCCDDDCCCCCDCD\n",
      "33.0                     CCCCCDCCCDCCCCDC\n",
      "33.0                     CDCCDDCCCCCCCCCC\n",
      "33.0                     CCDCCDCCCDCCCCCD\n",
      "33.0                     CCCDDDCCCDCCCCCC\n",
      "33.5                     CCCDCCCDCCCDCCCC\n",
      "33.666666666666664       CCCCCDCCCDCCCCCC\n",
      "34.0                     CCCDDCCDCCCCCCCD\n",
      "34.0                     CDCCCCCCCCCCCDCD\n",
      "34.0                     DCCCCCDCCDCCCCCC\n",
      "34.0                     CCCCCDCDCCCDDCCC\n",
      "34.0                     CCCDCDCCCCCCCDCD\n",
      "34.0                     DCCCDCCCCCCDCCCC\n",
      "34.333333333333336       CDCCCCCCCDCCCCCC\n",
      "35.0                     CDCDCDCCCDCCCCDC\n",
      "35.0                     CCCDDCDCCCCDCCCD\n",
      "35.0                     CCDCDDCCCCCCCCCC\n",
      "35.0                     CDDCCDCCCDCCCCDC\n",
      "35.0                     CCDCCDDCCCCCCCCC\n",
      "35.0                     CCCCCDCDCCCCDCCC\n",
      "35.0                     CCCDCCCCCDCDCCCC\n",
      "35.5                     CCCCCDCCCCCCCDCC\n",
      "36.0                     CCDCCCDCCCCCCDDC\n",
      "36.0                     CDCCDDCCCDCCCDCC\n",
      "36.5                     CDDCCDCCCDCCCCCC\n",
      "36.666666666666664       CDDCCCCCCCCCCCCC\n",
      "36.666666666666664       CCCCCCCCCCCDCCDC\n",
      "37.0                     CCDCCDCCCCCCCCCC\n",
      "37.0                     CCCDCDCCCCCDCCCD\n",
      "37.0                     CCCCCDDCCDCCCCCC\n",
      "37.0                     CCCCCDCDCCCCCCCC\n",
      "37.57142857142857        CDCCCDCCCDCCCCCC\n",
      "38.0                     CCCCCCDCCCCDCCCC\n",
      "38.0                     CCCCDCCCCCDCDCCC\n",
      "38.0                     CCDCCCCCCCCCCDDC\n",
      "38.0                     CDDCCCCCCCCCCCDC\n",
      "38.0                     CCDDCCCDCCCCCCCD\n",
      "38.0                     CCCCCCDCCCCCDDCC\n",
      "38.0                     CCCCDCDCCCCDCCCC\n",
      "38.0                     CCCDCCCDCDCCDCCC\n",
      "38.0                     CCDCCDDCCCCCCCDC\n",
      "39.0                     DCCCCCDDCCCCCCCC\n",
      "39.0                     CCDDCCCDCCCDDCCD\n",
      "39.0                     CCCCDCCCCDCCDCDC\n",
      "39.0                     CCCCDDCDCCCCCCCC\n",
      "39.0                     CCDCCCCDCCCDCDCC\n",
      "39.0                     DCCCCCCCCCCCDCDC\n",
      "39.0                     CCCDCCCCCCCDCDCC\n",
      "39.0                     CDCCCCCCCDCDCCCC\n",
      "39.0                     CCCCDCDDCDCCCDCC\n",
      "39.333333333333336       CCCCCDCCCCCDCCCC\n",
      "39.5                     CCCDCCCCCCCCCDCD\n",
      "40.0                     CCCDCCCDCCCDCCCD\n",
      "40.0                     CCCDCDCDCCCCDCCC\n",
      "40.0                     CCCCCCCCCCCDDCCC\n",
      "40.0                     CCCDCDCCCDCCCCDD\n",
      "40.0                     CCDDCCDCCCCCCCCC\n",
      "41.0                     CDDCDDCCCCCCCCCC\n",
      "41.0                     CCCDCCCCCCCCDCCC\n",
      "41.0                     CCCCCCCDCCCDCCCC\n",
      "41.388888888888886       CCCCCDCCCCCCCCCC\n",
      "41.5                     CCDCCDCCCCCCDCDC\n",
      "41.5                     CCCDCDDCCCCCCCCC\n",
      "41.857142857142854       CCCDCCCCCCCCCCCD\n",
      "42.0                     DCDDCCCCCCCCCDCD\n",
      "42.0                     CCCDCCCCCDCCCDCC\n",
      "42.0                     CCCDCCCCCDCCDCCD\n",
      "42.0                     CCCDCCDDCCCDCCCC\n",
      "43.0                     DCCCDDCDCCCCCCCD\n",
      "43.0                     CCDCCDDCCDCCCCCC\n",
      "43.0                     CCDCCCDDCCCDCCCC\n",
      "43.0                     CCDDCCDDCCCDCCCC\n",
      "44.0                     CCCCCCCDCCCCCCCD\n",
      "44.0                     CDDCCDDCCDDCCCCC\n",
      "44.0                     CCDCCCDCCDCCCCCC\n",
      "44.0                     CCCCCCDCCCCDDCCC\n",
      "44.0                     CCCCCCCCCCCCDDDC\n",
      "44.35294117647059        CCCCCCCCCCCCDCCC\n",
      "44.5                     CCCCDCCCCDCCCCCC\n",
      "44.666666666666664       CCDCCCCCCCCCCCCD\n",
      "45.0                     CCCCCCCCCDCCCCCC\n",
      "45.0                     DCDCCCCCCCDCCCDC\n",
      "45.0                     CCCCCCCCCDCCCDCC\n",
      "45.0                     CCCDCCCCCCCDDCCC\n",
      "45.0                     CCCCCCCCCDCCCCDC\n",
      "45.0                     CCCCCCDCCCCDDCDC\n",
      "45.0                     CCCCCCDCCCCCCCDC\n",
      "45.5                     CCCCCDCCCDCCCDCC\n",
      "46.0                     DCCCCCCCCCCCCCDC\n",
      "46.0                     DCCCCDCCDDCCCCCC\n",
      "46.0                     CCDCCCCCCCCDCDCD\n",
      "46.25                    CCCCCCCCCCCCDCDC\n",
      "46.44444444444444        CCCCCCCCCCCCCDCC\n",
      "47.0                     CCCCDCCCCCCCCCDC\n",
      "47.0                     CCCCDCDCCCCCDCCC\n",
      "47.0                     CCCCCCCCCCCCDCCD\n",
      "47.1                     CCCCCCCCCCCCCCCD\n",
      "47.5                     CCDCCCCCCDCCCDCC\n",
      "47.5                     CCCCCCCCCCCCCDCD\n",
      "47.80952380952381        CCCCCCCCCCCDCCCC\n",
      "48.0                     CCCDCCCDCCCCCDCC\n",
      "48.0                     CCCCCCCCCDCDCCCC\n",
      "48.0                     CCCCDCDCCCCCCCCC\n",
      "48.0                     CDDCCCDCCCCCCCDC\n",
      "48.0                     CCCCCDCCCCCCDCCD\n",
      "48.130434782608695       CCDCCCCCCCCCCCCC\n",
      "48.4                     CCDCCCCCCCCDCCCC\n",
      "48.5                     CCDDCCCCCCDCCCCC\n",
      "48.526315789473685       CCCCCCDCCCCCCCCC\n",
      "48.64705882352941        CCCCCCCCCCCCCCCC\n",
      "48.75                    CCDCCCDCCCCCCCCC\n",
      "48.75                    CCCDCCCDCCCCCCCC\n",
      "49.0                     CCDDCCDCCCCCDCCC\n",
      "49.0                     CCCCCCDDCCCCCCCC\n",
      "49.0                     CCDDCCCCCCDCCCCD\n",
      "49.0                     CCCCCCCCCDCCCCCD\n",
      "49.5                     CCCCCCCCCCCCCDDC\n",
      "49.625                   CCCDCCCCCCCDCCCC\n",
      "50.0                     CCCCCCCCCCCCCCDC\n",
      "50.0                     CCDCCCDCCCCDCCCC\n",
      "50.0                     CCDCCCDCCCCCCCCD\n",
      "50.0                     DDCCDCCCCCCCCCDC\n",
      "50.0                     CCDCCCCCCCCCDCCC\n",
      "50.0                     CCCDCCCCCCCCCCDC\n",
      "50.0                     CCDCCCCCCCCDCCCD\n",
      "50.0                     CCCCCCCDCCCCDCCC\n",
      "50.0                     CCCDDCCDCCCDCCCC\n",
      "50.44444444444444        CCCDCCCCCCCCCCCC\n",
      "50.5                     CCCDCDCCCCCCCCCC\n",
      "50.5                     CCCCCCCCDCCCCCCC\n",
      "50.625                   CCDCCCCCCCCCCCDC\n",
      "51.0                     CCDCDCCCCCCCCCCC\n",
      "51.0                     CCCDCDDDCDCDDCCD\n",
      "51.0                     CCCCCCDCCCCDCCDC\n",
      "51.0                     CCDCCCDDCCCCCCCC\n",
      "51.0                     CCCDCDDCCDCCCCCC\n",
      "51.0                     CCCCCDDDCCCCDCCC\n",
      "51.0                     CDCCCCCCCCDCCCCC\n",
      "51.5                     CCCDCCDCCCCDCCCC\n",
      "52.0                     CDDCCCDCDCCCCCCD\n",
      "52.0                     CCCCCDDCCCCCCCDC\n",
      "52.0                     CCCDCDCCCCCDCCCC\n",
      "52.8                     CCCDCCCDCCCCCCCD\n",
      "53.0                     CCCCCCCDCCCCCCDC\n",
      "53.0                     CCDCCCCCCDCCCCCC\n",
      "53.0                     CCDDCCCCCCCDCCCC\n",
      "53.0                     CCCCCCCCDCCCCDCC\n",
      "53.0                     CCDDCCCCCCCDCCDC\n",
      "53.0                     CCCCCCDDCDCCCCCC\n",
      "53.333333333333336       CCCCCCCCCCCDCDCC\n",
      "53.5                     CCCCCCCCCCCCDDCC\n",
      "54.0                     CCCCCCCCCCCCCCDD\n",
      "54.0                     CCCCCDCCCCCCDCCC\n",
      "54.0                     CCDDCCCDCCCDCCCC\n",
      "54.0                     CCCCCCCDCCCCCDCC\n",
      "54.0                     CCCCDCCCCCCCDCCC\n",
      "54.5                     CCCDCCDDCCCCCCCC\n",
      "54.5                     CCCDCCCCCCCDCCCD\n",
      "54.81818181818182        CCCCCCCDCCCCCCCC\n",
      "55.0                     CCCCCCCDCCCCDCCD\n",
      "55.0                     CCDDCCCCCCCCCCCC\n",
      "55.0                     CCCDCCCDCCCDCDCD\n",
      "55.0                     CCCDCCCDCCCDDCDD\n",
      "56.0                     CCCDCDCCCCCCCCDC\n",
      "56.0                     CCCCDCCCCCCDCCCD\n",
      "56.0                     CCDCCCDCCCCCCDCC\n",
      "57.0                     CCCDCCDCCDCCCDCD\n",
      "57.0                     CCCDCCDCCDCCCCCC\n",
      "57.0                     CCDCCCCCCCCCCDCC\n",
      "57.0                     CCDCCCCCDCCCCCCC\n",
      "57.0                     CCCCCCCCCCCDDDCD\n",
      "57.5                     CCCDCCCCCCCCCDCC\n",
      "58.0                     CCDDCCDCCCCCCDCC\n",
      "58.0                     CCCCCCDCCDCCCCCC\n",
      "58.0                     CCCDCCCDCCCDDCCC\n",
      "58.0                     CCCCCCCDCCCDCDCC\n",
      "58.0                     CCCCCCDDCCCCDCCD\n",
      "58.0                     CCCDCCCCCDCCCCCC\n",
      "59.0                     CCDDCCCDCCCCCCDC\n",
      "59.0                     CCCDCCCDCCCDCDCC\n",
      "59.0                     CCCDCCDCCCCCCCCD\n",
      "60.0                     CCCDCCDCCCCCCCDC\n",
      "60.0                     CCDCCDCCCCDCCDCC\n",
      "60.0                     CCDDCCCCCCCCDCCC\n",
      "61.0                     CCCDCCCDCDCCCCCD\n",
      "62.0                     CCCCCCCDCDCCCCDC\n",
      "62.0                     CCCCCCDCDCCDCCCC\n",
      "62.0                     CCDCCCDCCCCCCCDC\n",
      "62.0                     CCCDCCCCCDCCCCCD\n",
      "63.0                     CCDCCCCDCCCCCCCC\n",
      "63.0                     CCCDCCCCCCCCCCDD\n",
      "64.0                     CCCDCCDCCCCCDDDC\n",
      "64.0                     CCDCCCCCCDCCCCCD\n",
      "64.0                     CCCCCCDCCCCCDCDC\n"
     ]
    }
   ],
   "source": [
    "cumulative_reward_policy_ranks = {}\n",
    "\n",
    "for result in cumulative_reward_results:\n",
    "    for rank, (policy, score) in enumerate(result):\n",
    "        if policy not in cumulative_reward_policy_ranks:\n",
    "            cumulative_reward_policy_ranks[policy] = []\n",
    "\n",
    "        cumulative_reward_policy_ranks[policy].append(rank + 1)\n",
    "\n",
    "mean_cumulative_reward_policy_ranks = {policy: np.mean(ranks) for policy, ranks in cumulative_reward_policy_ranks.items()}\n",
    "\n",
    "for policy in sorted(mean_cumulative_reward_policy_ranks, key=lambda x: mean_cumulative_reward_policy_ranks[x]):\n",
    "    print(f\"{mean_cumulative_reward_policy_ranks[policy]:<24} {policy}\")"
   ]
  },
  {
   "cell_type": "code",
   "execution_count": 6,
   "metadata": {},
   "outputs": [
    {
     "ename": "NameError",
     "evalue": "name 'cooperativeness_results' is not defined",
     "output_type": "error",
     "traceback": [
      "\u001b[1;31m---------------------------------------------------------------------------\u001b[0m",
      "\u001b[1;31mNameError\u001b[0m                                 Traceback (most recent call last)",
      "\u001b[1;32m~\\AppData\\Local\\Temp/ipykernel_28820/3082945147.py\u001b[0m in \u001b[0;36m<module>\u001b[1;34m\u001b[0m\n\u001b[0;32m      2\u001b[0m \u001b[0mcooperativeness_policy_scores\u001b[0m \u001b[1;33m=\u001b[0m \u001b[1;33m{\u001b[0m\u001b[1;33m}\u001b[0m\u001b[1;33m\u001b[0m\u001b[1;33m\u001b[0m\u001b[0m\n\u001b[0;32m      3\u001b[0m \u001b[1;33m\u001b[0m\u001b[0m\n\u001b[1;32m----> 4\u001b[1;33m \u001b[1;32mfor\u001b[0m \u001b[0mresult\u001b[0m \u001b[1;32min\u001b[0m \u001b[0mcooperativeness_results\u001b[0m\u001b[1;33m:\u001b[0m\u001b[1;33m\u001b[0m\u001b[1;33m\u001b[0m\u001b[0m\n\u001b[0m\u001b[0;32m      5\u001b[0m     \u001b[1;32mfor\u001b[0m \u001b[0mrank\u001b[0m\u001b[1;33m,\u001b[0m \u001b[1;33m(\u001b[0m\u001b[0mpolicy\u001b[0m\u001b[1;33m,\u001b[0m \u001b[0mscore\u001b[0m\u001b[1;33m)\u001b[0m \u001b[1;32min\u001b[0m \u001b[0menumerate\u001b[0m\u001b[1;33m(\u001b[0m\u001b[0mresult\u001b[0m\u001b[1;33m)\u001b[0m\u001b[1;33m:\u001b[0m\u001b[1;33m\u001b[0m\u001b[1;33m\u001b[0m\u001b[0m\n\u001b[0;32m      6\u001b[0m         \u001b[1;32mif\u001b[0m \u001b[0mpolicy\u001b[0m \u001b[1;32mnot\u001b[0m \u001b[1;32min\u001b[0m \u001b[0mcooperativeness_policy_ranks\u001b[0m\u001b[1;33m:\u001b[0m\u001b[1;33m\u001b[0m\u001b[1;33m\u001b[0m\u001b[0m\n",
      "\u001b[1;31mNameError\u001b[0m: name 'cooperativeness_results' is not defined"
     ]
    }
   ],
   "source": [
    "cooperativeness_policy_ranks = {}\n",
    "cooperativeness_policy_scores = {}\n",
    "\n",
    "for result in cooperativeness_results:\n",
    "    for rank, (policy, score) in enumerate(result):\n",
    "        if policy not in cooperativeness_policy_ranks:\n",
    "            cooperativeness_policy_ranks[policy] = []\n",
    "            cooperativeness_policy_scores[policy] = []\n",
    "\n",
    "        cooperativeness_policy_ranks[policy].append(rank + 1)\n",
    "        cooperativeness_policy_scores[policy].append(score)        \n",
    "\n",
    "mean_cooperativeness_policy_ranks = {policy: (np.mean(ranks), len(ranks)) for policy, ranks in cooperativeness_policy_ranks.items()}\n",
    "\n",
    "mean_cooperativeness_policy_scores = {policy: (np.mean(scores), len(scores)) for policy, scores in cooperativeness_policy_scores.items()}\n",
    "\n",
    "for policy in sorted(mean_cooperativeness_policy_ranks, key=lambda x: mean_cooperativeness_policy_ranks[x][0]):\n",
    "    print(f\"{mean_cooperativeness_policy_ranks[policy][0]:<24} {policy:<24} {mean_cooperativeness_policy_ranks[policy][1]:<8} {mean_cooperativeness_policy_scores[policy][0]}\")"
   ]
  },
  {
   "cell_type": "code",
   "execution_count": null,
   "metadata": {},
   "outputs": [],
   "source": [
    "for policy in sorted(mean_cooperativeness_policy_scores, key=lambda x: mean_cooperativeness_policy_scores[x][0], reverse=True):\n",
    "    print(f\"{mean_cooperativeness_policy_ranks[policy][0]:<24} {policy:<24} {mean_cooperativeness_policy_ranks[policy][1]:<8} {mean_cooperativeness_policy_scores[policy][0]}\")"
   ]
  }
 ],
 "metadata": {
  "kernelspec": {
   "display_name": "ml",
   "language": "python",
   "name": "python3"
  },
  "language_info": {
   "codemirror_mode": {
    "name": "ipython",
    "version": 3
   },
   "file_extension": ".py",
   "mimetype": "text/x-python",
   "name": "python",
   "nbconvert_exporter": "python",
   "pygments_lexer": "ipython3",
   "version": "3.10.8 | packaged by conda-forge | (main, Nov 22 2022, 08:16:33) [MSC v.1929 64 bit (AMD64)]"
  },
  "orig_nbformat": 4,
  "vscode": {
   "interpreter": {
    "hash": "ea8fc3f6c7fa3223c55434ded24c0b3b1260e6c6965b48cfc542164a121bf59d"
   }
  }
 },
 "nbformat": 4,
 "nbformat_minor": 2
}
