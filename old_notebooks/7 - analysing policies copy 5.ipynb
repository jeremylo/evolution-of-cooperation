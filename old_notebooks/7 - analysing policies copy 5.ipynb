{
 "cells": [
  {
   "cell_type": "code",
   "execution_count": 1,
   "metadata": {},
   "outputs": [],
   "source": [
    "from itertools import chain\n",
    "from random import random\n",
    "\n",
    "import matplotlib.pyplot as plt\n",
    "import numpy as np\n",
    "from tqdm.notebook import tqdm\n",
    "\n",
    "from society.action import Action\n",
    "from society.agent import Agent, TrainableAgent\n",
    "from society.simulations.weighted import WeightedNetworkSimulation\n",
    "from society.strategies.gameplay.constant import AllC, AllD\n",
    "from society.strategies.gameplay.qlearning import TabularQLearningGameplayStrategy\n",
    "from society.strategies.gameplay.random import RandomGameplayStrategy\n",
    "from society.strategies.gameplay.tft import TitForTat\n",
    "from society.visualisation.network import *\n",
    "\n",
    "plt.rcParams[\"figure.figsize\"] = (10, 6)"
   ]
  },
  {
   "cell_type": "code",
   "execution_count": 2,
   "metadata": {},
   "outputs": [],
   "source": [
    "def generate_population(communities, size):\n",
    "    population = communities * size\n",
    "\n",
    "    agents = [\n",
    "        Agent(TabularQLearningGameplayStrategy(lookback=2), i, population)\n",
    "        for i in range(population)\n",
    "    ]\n",
    "\n",
    "    G = nx.connected_caveman_graph(communities, size)\n",
    "\n",
    "    weights_matrix = np.zeros((population, population))\n",
    "    for u, v, d in G.edges(data=True):\n",
    "        weights_matrix[u, v] = weights_matrix[v, u] = 1.0\n",
    "        try:\n",
    "            d[\"weight\"] = weights_matrix[u, v]\n",
    "        except:\n",
    "            d[\"weight\"] = 0\n",
    "\n",
    "    return agents, weights_matrix, G"
   ]
  },
  {
   "cell_type": "code",
   "execution_count": 3,
   "metadata": {},
   "outputs": [],
   "source": [
    "def compute_policies(agents, rankings):\n",
    "    policies = [\n",
    "        (agents[partner[0]].gameplay_strategy._q_table.argmax(axis=-1), partner[1])\n",
    "        for partner in rankings\n",
    "    ]\n",
    "\n",
    "    return [\n",
    "        (\n",
    "            \"\".join(\n",
    "                [\n",
    "                    (\"C\", \"D\")[policy[0][i, j]]  # , k\n",
    "                    for i in range(4)\n",
    "                    for j in range(4)\n",
    "                    # for k in range(4)\n",
    "                ]\n",
    "            ),\n",
    "            policy[1],\n",
    "        )\n",
    "        for policy in policies\n",
    "    ]\n",
    "\n",
    "def calculate_cooperativeness(history):\n",
    "    count = history.count(Action.COOPERATE)\n",
    "\n",
    "    return count / len(history)"
   ]
  },
  {
   "cell_type": "code",
   "execution_count": 4,
   "metadata": {},
   "outputs": [
    {
     "data": {
      "application/vnd.jupyter.widget-view+json": {
       "model_id": "8c8ccea80f1542a88f38be9f87936141",
       "version_major": 2,
       "version_minor": 0
      },
      "text/plain": [
       "Run 1:   0%|          | 0/10000 [00:00<?, ?it/s]"
      ]
     },
     "metadata": {},
     "output_type": "display_data"
    },
    {
     "name": "stdout",
     "output_type": "stream",
     "text": [
      "BEST REWARD: 75787                        WORST REWARD: 48019\n",
      "BEST COOPERATOR: 0.9500378501135504       WORST COOPERATOR: 0.31609824003181863\n"
     ]
    },
    {
     "data": {
      "application/vnd.jupyter.widget-view+json": {
       "model_id": "c76d24c5e5a24e82a58288f47eed4da5",
       "version_major": 2,
       "version_minor": 0
      },
      "text/plain": [
       "Run 2:   0%|          | 0/10000 [00:00<?, ?it/s]"
      ]
     },
     "metadata": {},
     "output_type": "display_data"
    },
    {
     "name": "stdout",
     "output_type": "stream",
     "text": [
      "BEST REWARD: 75785                        WORST REWARD: 53101\n",
      "BEST COOPERATOR: 0.949314004659591        WORST COOPERATOR: 0.4549115132233048\n"
     ]
    },
    {
     "data": {
      "application/vnd.jupyter.widget-view+json": {
       "model_id": "455cadb49ddf4fe79fa2f51b00e4ac15",
       "version_major": 2,
       "version_minor": 0
      },
      "text/plain": [
       "Run 3:   0%|          | 0/10000 [00:00<?, ?it/s]"
      ]
     },
     "metadata": {},
     "output_type": "display_data"
    },
    {
     "name": "stdout",
     "output_type": "stream",
     "text": [
      "BEST REWARD: 67274                        WORST REWARD: 54349\n",
      "BEST COOPERATOR: 0.9515390609779856       WORST COOPERATOR: 0.6053941082802548\n"
     ]
    },
    {
     "data": {
      "application/vnd.jupyter.widget-view+json": {
       "model_id": "247846be6cb04ef9a00ad195e2d4f100",
       "version_major": 2,
       "version_minor": 0
      },
      "text/plain": [
       "Run 4:   0%|          | 0/10000 [00:00<?, ?it/s]"
      ]
     },
     "metadata": {},
     "output_type": "display_data"
    },
    {
     "name": "stdout",
     "output_type": "stream",
     "text": [
      "BEST REWARD: 69602                        WORST REWARD: 50534\n",
      "BEST COOPERATOR: 0.9497198318991394       WORST COOPERATOR: 0.5083458219213477\n"
     ]
    },
    {
     "data": {
      "application/vnd.jupyter.widget-view+json": {
       "model_id": "adb332c79580494d934cd22551f1275e",
       "version_major": 2,
       "version_minor": 0
      },
      "text/plain": [
       "Run 5:   0%|          | 0/10000 [00:00<?, ?it/s]"
      ]
     },
     "metadata": {},
     "output_type": "display_data"
    },
    {
     "name": "stdout",
     "output_type": "stream",
     "text": [
      "BEST REWARD: 70566                        WORST REWARD: 48171\n",
      "BEST COOPERATOR: 0.9472820410802208       WORST COOPERATOR: 0.5263237139272271\n"
     ]
    },
    {
     "data": {
      "application/vnd.jupyter.widget-view+json": {
       "model_id": "5f64221d3ca3499f9d56b4b1892a082a",
       "version_major": 2,
       "version_minor": 0
      },
      "text/plain": [
       "Run 6:   0%|          | 0/10000 [00:00<?, ?it/s]"
      ]
     },
     "metadata": {},
     "output_type": "display_data"
    },
    {
     "name": "stdout",
     "output_type": "stream",
     "text": [
      "BEST REWARD: 69069                        WORST REWARD: 48931\n",
      "BEST COOPERATOR: 0.9524854165627961       WORST COOPERATOR: 0.54622336055671\n"
     ]
    },
    {
     "data": {
      "application/vnd.jupyter.widget-view+json": {
       "model_id": "f3b6e89d00bd48748cb2c3f20bcf8416",
       "version_major": 2,
       "version_minor": 0
      },
      "text/plain": [
       "Run 7:   0%|          | 0/10000 [00:00<?, ?it/s]"
      ]
     },
     "metadata": {},
     "output_type": "display_data"
    },
    {
     "name": "stdout",
     "output_type": "stream",
     "text": [
      "BEST REWARD: 71193                        WORST REWARD: 50373\n",
      "BEST COOPERATOR: 0.9489519606859894       WORST COOPERATOR: 0.4236236236236236\n"
     ]
    },
    {
     "data": {
      "application/vnd.jupyter.widget-view+json": {
       "model_id": "42bc88100df44655b5ee1624de171e68",
       "version_major": 2,
       "version_minor": 0
      },
      "text/plain": [
       "Run 8:   0%|          | 0/10000 [00:00<?, ?it/s]"
      ]
     },
     "metadata": {},
     "output_type": "display_data"
    },
    {
     "name": "stdout",
     "output_type": "stream",
     "text": [
      "BEST REWARD: 60290                        WORST REWARD: 55740\n",
      "BEST COOPERATOR: 0.9494323013054569       WORST COOPERATOR: 0.8614024572969733\n"
     ]
    },
    {
     "data": {
      "application/vnd.jupyter.widget-view+json": {
       "model_id": "40bd6afb19fe4317a52c71319a087094",
       "version_major": 2,
       "version_minor": 0
      },
      "text/plain": [
       "Run 9:   0%|          | 0/10000 [00:00<?, ?it/s]"
      ]
     },
     "metadata": {},
     "output_type": "display_data"
    },
    {
     "name": "stdout",
     "output_type": "stream",
     "text": [
      "BEST REWARD: 68756                        WORST REWARD: 53300\n",
      "BEST COOPERATOR: 0.9484171231880545       WORST COOPERATOR: 0.5569868666029286\n"
     ]
    },
    {
     "data": {
      "application/vnd.jupyter.widget-view+json": {
       "model_id": "3c116177de84488b834bd95b50a00383",
       "version_major": 2,
       "version_minor": 0
      },
      "text/plain": [
       "Run 10:   0%|          | 0/10000 [00:00<?, ?it/s]"
      ]
     },
     "metadata": {},
     "output_type": "display_data"
    },
    {
     "name": "stdout",
     "output_type": "stream",
     "text": [
      "BEST REWARD: 68016                        WORST REWARD: 51332\n",
      "BEST COOPERATOR: 0.9502321825156471       WORST COOPERATOR: 0.520692874183176\n"
     ]
    },
    {
     "data": {
      "application/vnd.jupyter.widget-view+json": {
       "model_id": "c6561015011b4f38bf2026d8fe23a564",
       "version_major": 2,
       "version_minor": 0
      },
      "text/plain": [
       "Run 11:   0%|          | 0/10000 [00:00<?, ?it/s]"
      ]
     },
     "metadata": {},
     "output_type": "display_data"
    },
    {
     "name": "stdout",
     "output_type": "stream",
     "text": [
      "BEST REWARD: 70045                        WORST REWARD: 50507\n",
      "BEST COOPERATOR: 0.9471562919838782       WORST COOPERATOR: 0.42284589892294944\n"
     ]
    },
    {
     "data": {
      "application/vnd.jupyter.widget-view+json": {
       "model_id": "7d44a97e62b84837898aae30169c3c82",
       "version_major": 2,
       "version_minor": 0
      },
      "text/plain": [
       "Run 12:   0%|          | 0/10000 [00:00<?, ?it/s]"
      ]
     },
     "metadata": {},
     "output_type": "display_data"
    },
    {
     "name": "stdout",
     "output_type": "stream",
     "text": [
      "BEST REWARD: 66817                        WORST REWARD: 53736\n",
      "BEST COOPERATOR: 0.9517241379310345       WORST COOPERATOR: 0.6151121008148186\n"
     ]
    },
    {
     "data": {
      "application/vnd.jupyter.widget-view+json": {
       "model_id": "913eebdd0d4c427a97b11c4662d4cd3b",
       "version_major": 2,
       "version_minor": 0
      },
      "text/plain": [
       "Run 13:   0%|          | 0/10000 [00:00<?, ?it/s]"
      ]
     },
     "metadata": {},
     "output_type": "display_data"
    },
    {
     "name": "stdout",
     "output_type": "stream",
     "text": [
      "BEST REWARD: 77917                        WORST REWARD: 50252\n",
      "BEST COOPERATOR: 0.9467842776135317       WORST COOPERATOR: 0.3679537064751073\n"
     ]
    },
    {
     "data": {
      "application/vnd.jupyter.widget-view+json": {
       "model_id": "b9ae11492c3d4a15809b4b6809c2cadd",
       "version_major": 2,
       "version_minor": 0
      },
      "text/plain": [
       "Run 14:   0%|          | 0/10000 [00:00<?, ?it/s]"
      ]
     },
     "metadata": {},
     "output_type": "display_data"
    },
    {
     "name": "stdout",
     "output_type": "stream",
     "text": [
      "BEST REWARD: 69111                        WORST REWARD: 52827\n",
      "BEST COOPERATOR: 0.9452791317019246       WORST COOPERATOR: 0.5744712764361782\n"
     ]
    },
    {
     "data": {
      "application/vnd.jupyter.widget-view+json": {
       "model_id": "0a6ad5a92d1f4578b695e544f75d2825",
       "version_major": 2,
       "version_minor": 0
      },
      "text/plain": [
       "Run 15:   0%|          | 0/10000 [00:00<?, ?it/s]"
      ]
     },
     "metadata": {},
     "output_type": "display_data"
    },
    {
     "name": "stdout",
     "output_type": "stream",
     "text": [
      "BEST REWARD: 73002                        WORST REWARD: 51427\n",
      "BEST COOPERATOR: 0.9481530143008742       WORST COOPERATOR: 0.5737786392326425\n"
     ]
    },
    {
     "data": {
      "application/vnd.jupyter.widget-view+json": {
       "model_id": "7f247aee15704521baef18a407b8ac03",
       "version_major": 2,
       "version_minor": 0
      },
      "text/plain": [
       "Run 16:   0%|          | 0/10000 [00:00<?, ?it/s]"
      ]
     },
     "metadata": {},
     "output_type": "display_data"
    },
    {
     "name": "stdout",
     "output_type": "stream",
     "text": [
      "BEST REWARD: 69679                        WORST REWARD: 53008\n",
      "BEST COOPERATOR: 0.952222892778113        WORST COOPERATOR: 0.5950591300861896\n"
     ]
    },
    {
     "data": {
      "application/vnd.jupyter.widget-view+json": {
       "model_id": "69c9468189ef4c9c8f66a8c3a67e85d2",
       "version_major": 2,
       "version_minor": 0
      },
      "text/plain": [
       "Run 17:   0%|          | 0/10000 [00:00<?, ?it/s]"
      ]
     },
     "metadata": {},
     "output_type": "display_data"
    },
    {
     "name": "stdout",
     "output_type": "stream",
     "text": [
      "BEST REWARD: 78716                        WORST REWARD: 49356\n",
      "BEST COOPERATOR: 0.9340236094437775       WORST COOPERATOR: 0.2920946626384693\n"
     ]
    },
    {
     "data": {
      "application/vnd.jupyter.widget-view+json": {
       "model_id": "9d11de221d734e8c88979b51cac62e34",
       "version_major": 2,
       "version_minor": 0
      },
      "text/plain": [
       "Run 18:   0%|          | 0/10000 [00:00<?, ?it/s]"
      ]
     },
     "metadata": {},
     "output_type": "display_data"
    },
    {
     "name": "stdout",
     "output_type": "stream",
     "text": [
      "BEST REWARD: 64643                        WORST REWARD: 50453\n",
      "BEST COOPERATOR: 0.9499542851643328       WORST COOPERATOR: 0.6292563061030039\n"
     ]
    },
    {
     "data": {
      "application/vnd.jupyter.widget-view+json": {
       "model_id": "7d745d39e28a4b0bb116eedbd6fe6785",
       "version_major": 2,
       "version_minor": 0
      },
      "text/plain": [
       "Run 19:   0%|          | 0/10000 [00:00<?, ?it/s]"
      ]
     },
     "metadata": {},
     "output_type": "display_data"
    },
    {
     "name": "stdout",
     "output_type": "stream",
     "text": [
      "BEST REWARD: 73321                        WORST REWARD: 54293\n",
      "BEST COOPERATOR: 0.9493803195460654       WORST COOPERATOR: 0.5058705469141997\n"
     ]
    },
    {
     "data": {
      "application/vnd.jupyter.widget-view+json": {
       "model_id": "7e1fe89b0a1840fd92adb14398c88d54",
       "version_major": 2,
       "version_minor": 0
      },
      "text/plain": [
       "Run 20:   0%|          | 0/10000 [00:00<?, ?it/s]"
      ]
     },
     "metadata": {},
     "output_type": "display_data"
    },
    {
     "name": "stdout",
     "output_type": "stream",
     "text": [
      "BEST REWARD: 73276                        WORST REWARD: 48476\n",
      "BEST COOPERATOR: 0.9480383348307877       WORST COOPERATOR: 0.46974149524331327\n"
     ]
    }
   ],
   "source": [
    "ACTION_LABELS = [\"(C, C)\", \"(C, D)\", \"(D, C)\", \"(D, D)\"]\n",
    "POPULATION = (2, 16)\n",
    "ROUNDS = 10_000\n",
    "\n",
    "cumulative_reward_results = []\n",
    "cooperativeness_results = []\n",
    "\n",
    "for run in range(20):\n",
    "    # Generate a new population\n",
    "    agents, weights_matrix, G = generate_population(*POPULATION)\n",
    "\n",
    "    # Run a number of rounds\n",
    "    sim = WeightedNetworkSimulation(agents, weights_matrix)\n",
    "    sim.reset()\n",
    "    for i in tqdm(range(ROUNDS), desc=f\"Run {run + 1}\"):\n",
    "        sim.play_round()\n",
    "\n",
    "    # Rank agents by cumulative reward\n",
    "    cumulative_rewards_matrix = [\n",
    "        [sum(r) if len(r) > 0 else 0 for r in agent] for agent in sim.rewards\n",
    "    ]\n",
    "    cumulative_reward_rankings = sorted(\n",
    "        [(i, sum(cumulative_rewards_matrix[i])) for i in range(len(agents))],\n",
    "        key=lambda x: x[1],\n",
    "        reverse=True,\n",
    "    )\n",
    "\n",
    "    tqdm.write(\n",
    "        f\"BEST REWARD: {cumulative_reward_rankings[0][1]:<28} WORST REWARD: {cumulative_reward_rankings[-1][1]}\"\n",
    "    )\n",
    "\n",
    "    cumulative_reward_results.append(compute_policies(agents, cumulative_reward_rankings))\n",
    "\n",
    "    # Rank agents by cooperativeness\n",
    "    cooperativeness_rankings = sorted(\n",
    "        [\n",
    "            (i, calculate_cooperativeness(list(chain(*history))))\n",
    "            for i, history in enumerate(sim.action_histories)\n",
    "        ],\n",
    "        key=lambda x: x[1],\n",
    "        reverse=True,\n",
    "    )\n",
    "\n",
    "    tqdm.write(\n",
    "        f\"BEST COOPERATOR: {cooperativeness_rankings[0][1]:<24} WORST COOPERATOR: {cooperativeness_rankings[-1][1]}\"\n",
    "    )\n",
    "\n",
    "    cooperativeness_results.append(compute_policies(agents, cooperativeness_rankings))\n"
   ]
  },
  {
   "cell_type": "code",
   "execution_count": 5,
   "metadata": {},
   "outputs": [
    {
     "name": "stdout",
     "output_type": "stream",
     "text": [
      "1.0                      DCDCDCCCDCDCDCCD\n",
      "1.0                      DCDCCCDCCCDCCCCC\n",
      "1.0                      DDCCCCDCCDCCCDDC\n",
      "1.0                      CDDCCCDCCCDCCCDC\n",
      "1.0                      DCDCDCCDCCDCCCCC\n",
      "1.0                      DCCCDCCCDDCCDCCC\n",
      "1.0                      DCDDCCDCCDDCCDCC\n",
      "1.0                      DCCCDCCCDCCCCDCD\n",
      "1.0                      DCDCCDDCDCDDCDCC\n",
      "1.0                      DCCDCCCCDCCDCCCD\n",
      "1.0                      DCCDCCCDDCCDCCCC\n",
      "1.0                      DCCCCDCCDCCCCCDC\n",
      "1.0                      DCDCCDCCCCDCDCCC\n",
      "1.0                      DDCDCDDCDDCDCCCC\n",
      "1.0                      DDDCCCCCDCDCCCCC\n",
      "1.3333333333333333       DCDCCCCCCCDCDCCC\n",
      "2.0                      DCCDDCCCDCCCCCCC\n",
      "2.0                      DCDCDDCCCCCCCCCC\n",
      "2.0                      DCCCDDCCDDCCCCDC\n",
      "2.0                      DDCDCCCCDCCCCCDC\n",
      "2.0                      CCCCCCDCCCCCCCDC\n",
      "2.0                      DCDCCCCCDCCCCCCC\n",
      "2.0                      DDCCCCCCDCCCDCCC\n",
      "2.0                      DCCCDCCCDCCCCCDD\n",
      "2.0                      DCCCDDCCDCCCCCCC\n",
      "2.0                      DCDCCCDCDCDCDCCC\n",
      "2.0                      DCCDCCCCCDCCCCCD\n",
      "2.0                      CDCCCDDCCCDCCCCC\n",
      "2.5                      DDCCCCCCDCCCCCCC\n",
      "3.0                      CCCCDCCCCCCCDCCC\n",
      "3.0                      DCDCDCCCCCDCDCCC\n",
      "3.0                      DCCDDCCCDCCDCCCC\n",
      "3.0                      CCCCDCCCCDCCDCCC\n",
      "3.0                      DCDCCCCCDCCCCDDD\n",
      "3.0                      DDCCDCCCCDCDCDCC\n",
      "3.0                      DCDCDCDCCCDCDCDC\n",
      "3.0                      DCCDDDCCDCCDCCCD\n",
      "4.0                      CDCCCCDCCCCCCCCD\n",
      "4.0                      DCCCCCCCDCCCDCCC\n",
      "4.0                      CCCDCCCCCCCCCCDC\n",
      "4.0                      CCCCDDCCDCCCCCCC\n",
      "4.0                      DDCCCCCCCCCCCDCC\n",
      "4.0                      DCCCCCDCCCCDCCDC\n",
      "4.0                      DDCCCCCCDCCCCDCC\n",
      "4.0                      DCCCDCCCCCCCDCDD\n",
      "4.0                      DCCCCCCDDCCDCDCD\n",
      "5.0                      CDCDCDCCCCCCCCCC\n",
      "5.0                      CDCCCCDCCCCCDCCC\n",
      "5.0                      CCCCCCDDCCCCDCCC\n",
      "5.0                      CCDCDCCCCCCCCDCC\n",
      "5.0                      CDDCCCDCCCCCDCCC\n",
      "5.0                      DCDCCCCCDCCCCCDC\n",
      "5.0                      CDCDCCDCCCCDCCCC\n",
      "5.0                      DCCCCDCCCCCCDCCC\n",
      "6.0                      CDCCDCCDCDCCCCCC\n",
      "6.0                      CDDCCCDCCCCCCCCC\n",
      "6.0                      DCCCDDCCDDCCDCCC\n",
      "6.0                      DCCCCCCCDCCCCDCC\n",
      "6.0                      CDCDCCCCCCCCCCCD\n",
      "6.0                      CDCCCDCCCCCDCCCC\n",
      "6.0                      DCCCCCDCDCCCCCCC\n",
      "6.0                      DCCCDCCDDCCCCCCC\n",
      "6.0                      CDCCDDCCCCCDCCCC\n",
      "6.0                      DCCCCCCCDDCCCCCC\n",
      "6.0                      DDCCCCCCCCCCCCCD\n",
      "6.0                      CCDCCCCCCCCCDCCC\n",
      "6.0                      CCDCCCDDCCCDCCCC\n",
      "6.0                      CDCCCCCCCDDCCCCC\n",
      "6.142857142857143        DCCCCCCCDCCCCCCC\n",
      "7.0                      DDCCCCCCDDCCDDCC\n",
      "7.0                      DCCDDCCDCCCCDCCD\n",
      "7.0                      CDCCDCCCCCCCCDCC\n",
      "7.0                      DCCDDDCDDCCCCCCC\n",
      "7.0                      CCCDCCCCCCCCCCCD\n",
      "7.0                      CDCCCDDDCCCCCDCC\n",
      "7.0                      CDCCDDDCCCCCCCCC\n",
      "7.666666666666667        DCCCDCCCDCCCCCCD\n",
      "8.0                      DCCCCCCCDCCCCCDC\n",
      "8.0                      DCCCCCCCDCCCDDCC\n",
      "8.0                      DDCCCDCCCCCCCDCD\n",
      "8.0                      CCCCCCCCDCCCCCCC\n",
      "8.0                      CCCCCCDCCCCCDDCC\n",
      "8.0                      CDDCCCCCCCCDCCCC\n",
      "8.0                      DCCCCDCCDCCDCCCC\n",
      "8.0                      CDCDCCCDCCCCCCCC\n",
      "8.0                      CDDCCDCCCCCCCCDC\n",
      "8.5                      CDCCCCCDCCCCCCCC\n",
      "9.0                      CCCCCCCDCCCCCDCD\n",
      "9.0                      CCCCDCCCCCCDCCDC\n",
      "9.0                      CCCDCCCDCCCCCCCD\n",
      "9.0                      CCDDCDCCCCCCCCCC\n",
      "9.0                      CCCCCCCCDCCCDCCD\n",
      "9.0                      DCCCDCCCCDCDCCCC\n",
      "9.0                      DCCCCDCCCDCCCCCC\n",
      "9.0                      DCCCCCDCCCCDCCCC\n",
      "9.5                      CCDCCCCCCCCCCCDC\n",
      "10.0                     DDCCCDCCCCCCCCDC\n",
      "10.0                     CCCCCDDCCCCCCCCC\n",
      "10.0                     DCDCCCCCCCCCCCDC\n",
      "10.714285714285714       DCCCDCCCDCCCCCCC\n",
      "11.0                     DCDCCCDCCCCCCCDC\n",
      "11.0                     CCCDCCDDCCCCCCCC\n",
      "11.0                     CCCCCDCDCCCCCCCC\n",
      "11.0                     CCCCCCCCCCCDCCDC\n",
      "11.0                     CCCCDCCDDCCCCCCC\n",
      "11.0                     CDDCCCCCCDCCCCCC\n",
      "11.5                     CDCDCCCCCCCCCDCC\n",
      "12.0                     DCCCCDCCDCCCCCCC\n",
      "12.0                     DCCCCDCCCCCDDDCC\n",
      "12.0                     CCCCCCDCCCCCCDDC\n",
      "12.0                     DCCCCCCDCCCCCCCC\n",
      "12.333333333333334       CCDCCCCCCCCCCCCC\n",
      "12.5                     DCCCDCCCCCCCDCCC\n",
      "12.5                     DCDCCCCCCCCCCCCD\n",
      "13.0                     CCCCCCCCCCCDCCCD\n",
      "13.0                     CCDCCCCCCCCDCCCC\n",
      "13.0                     CCCCCCCCCCCCDDDC\n",
      "13.0                     CCCCCCCCCCCCCDDC\n",
      "13.0                     CCDDCCCCCCCCCCCC\n",
      "13.5                     CDDCCCCCCCCCCCCC\n",
      "13.666666666666666       CDCCCCCCCCCCCCDC\n",
      "14.0                     CCCCCCCDCCCCCCCD\n",
      "14.0                     DDCCCCCCDDCCCCCC\n",
      "14.0                     DCDCCCCDCCCCCCCC\n",
      "14.142857142857142       CCCCCCCCCCCCCCCD\n",
      "14.166666666666666       DCDCDCCCCCCCCCCC\n",
      "14.5                     CCCCCCDCCCCCDCCC\n",
      "14.625                   DCDCCCCCCCCCCCCC\n",
      "15.0                     DCCCCCDCCCCCCCCC\n",
      "15.0                     DCCCCCDCCCCCCDCC\n",
      "15.0                     CCCCCCCDCDCCCCDC\n",
      "15.333333333333334       CCCDCCCCCCCCCCCC\n",
      "15.5                     DCCCCCCCCCCCDCCC\n",
      "15.538461538461538       CCCCCCCCCCCDCCCC\n",
      "15.666666666666666       CCCCCCDCCCCCCCCC\n",
      "16.0                     DCCCDCCCCDCCCCCC\n",
      "16.0                     CCCCCCCCCDCCDCCC\n",
      "16.0                     DCCCCDCCDCCCCDCC\n",
      "16.125                   DCCCDCCCDCCCDCCC\n",
      "16.2                     CDCDCCCCCCCCCCCC\n",
      "16.333333333333332       CDCCCCCCCDCCCCCC\n",
      "16.428571428571427       CCCCCCCDCCCCCCCC\n",
      "16.5                     CCCDCCCDCDCCCCCC\n",
      "16.5                     CDCCCCCCCCCCCDCC\n",
      "17.0                     CCCCDCCCCCCDCCCC\n",
      "17.0                     CCCCCCDDCCCCCCCC\n",
      "17.0                     CCCDCCDCCCCDDCDC\n",
      "17.0                     CCCCCCCDCCCDDCCC\n",
      "17.48148148148148        DCCCCCCCCCCCCCCC\n",
      "17.90909090909091        CCCCCCCCCCCCDCCC\n",
      "18.0                     CCCCDDCCCDCCCCCC\n",
      "18.0                     CCCCCCDCCCCDCCCC\n",
      "18.0                     CCCCCCCCCDCCCCCD\n",
      "18.0                     DCCCCDCCCCCCCCCC\n",
      "18.5                     CCCCDCCCCCCCCDCC\n",
      "18.5625                  CDCCCCCCCCCCCCCC\n",
      "18.6875                  CCCCCDCCCCCCCCCC\n",
      "18.78787878787879        CCCCCCCCCCCCCCCC\n",
      "18.88888888888889        CDCCCDCCCCCCCCCC\n",
      "19.0                     CCCCCCCCCDCCCCCC\n",
      "19.0                     CDCCDCCCCCCCCCCC\n",
      "19.0                     CCDCCDCCCCCCCCCC\n",
      "19.0                     DCCCCDCCCCCCCDCC\n",
      "19.0                     CCCCCCDDCCCCCDCC\n",
      "19.083333333333332       CCCCCCCCCCCCCDCC\n",
      "19.333333333333332       DCCCCCCCCCCCCCCD\n",
      "19.5                     CCDCCCCCCCCCCCCD\n",
      "19.8                     DCCDCCCCCCCCCCCC\n",
      "20.0                     CDDCCDCCCCCCCCCC\n",
      "20.0                     CCCCCCCCCCCCDDCC\n",
      "20.0                     DCDCCCDCCCCCCCCC\n",
      "20.0                     DCCCCCCDCCCDDCCD\n",
      "20.0                     CCCCCCCDCCCCDCCC\n",
      "20.0                     DCCCCDCDDCCCCCCC\n",
      "20.5                     CCDCDCCCCCCCCCCC\n",
      "20.666666666666668       DCCCCCCCCCCDCCCC\n",
      "20.75                    CCCCCCCCCCCCCCDC\n",
      "21.0                     CDCCDDCCCCCCCCCC\n",
      "21.0                     CCCDDCCCCCCDCCCD\n",
      "21.0                     DCCCCCCDCCCCCCCD\n",
      "21.0                     CCCCDCDCCDCCCCCC\n",
      "21.0                     CCCCDCDDCCCDCCCC\n",
      "21.5                     CCCDCCCDCCCCDCCC\n",
      "21.5                     DCCCCCCCCDCCCCCC\n",
      "21.5                     CCCDCCCDCCCCCCCC\n",
      "21.666666666666668       CCCDDCCCCCCCCCCC\n",
      "21.736842105263158       CCCCDCCCCCCCCCCC\n",
      "22.0                     DCDCDCCCCDCCDCCC\n",
      "22.0                     CDDDCCCCCCCCDDDC\n",
      "22.0                     CCCCCDCCCDCCCCCC\n",
      "22.0                     CCCCCCCDCDCCCCCC\n",
      "22.25                    CDCCCDCCCCCCCCCD\n",
      "22.5                     CCCDCCCCCCCCCDCC\n",
      "22.5                     DCCCCCCCCCCCCCDC\n",
      "22.91176470588235        DCCCDCCCCCCCCCCC\n",
      "23.0                     DCCCDCCDCCCCCCCC\n",
      "23.0                     DCCCDCCCCCCCCDCC\n",
      "23.0                     DCCCCDCCCCCDCCCC\n",
      "23.0                     DCCDCCCCCCCCCCCD\n",
      "23.0                     CCCCCCCCCCCCDCDC\n",
      "24.0                     CCCCCDCCCCCCCCCD\n",
      "24.0                     DCCCDCCCCCCCCCCD\n",
      "24.0                     DCDCDCCCCCCCCCCD\n",
      "24.0                     DCCDCCCCCCCCDCCC\n",
      "24.0                     CCCCCCCCCDCCCCDC\n",
      "24.0                     DCCCCCCCCCCCCDCC\n",
      "24.5                     CCCCDCCDCCCCCCCC\n",
      "25.0                     CCCCCCCCDCCDCCCD\n",
      "25.0                     CDCCCDCCCDCDCCCC\n",
      "25.0                     CCDCCCCCCDCCCCCC\n",
      "25.0                     CDCCCDCCCCCCDDCC\n",
      "25.5                     DDCCCCCCCCCCCCCC\n",
      "26.0                     DDCCDCCCCCCCCCCC\n",
      "26.0                     CCCCCCCDCCCDCCCC\n",
      "26.0                     CCCCCCCCCCCCDCCD\n",
      "26.0                     DCDCCCCDCDCCCCCC\n",
      "26.333333333333332       DCCCDCCCCCCCCCDC\n",
      "27.0                     CCCDDCCCCCCCCCCD\n",
      "27.0                     DCCCCCDCCDCCCCCC\n",
      "28.0                     DDCCDDCCCCCCCDCC\n",
      "28.0                     CCCDCCCCCDCCCCCC\n",
      "29.0                     DCCCDCCCCCCCDDCD\n",
      "29.0                     CCCCDCDCCCCCCCCC\n",
      "29.0                     DCCDDCCCCCCDCDCC\n",
      "29.0                     CDCDCCCCCDCCCCCC\n",
      "29.0                     CDCCDDCCCCCCCCDC\n",
      "29.0                     CCCDCCCCCCCDCCCC\n",
      "29.0                     CCCCCCCCCCCCCDCD\n",
      "29.0                     CCCCCCCCCCCDCCDD\n",
      "30.0                     CCCDCDCCCCCCCCCC\n",
      "30.333333333333332       CCCCDCCCCCCCCCDC\n",
      "30.5                     CDCCCCCCCCCCCCCD\n",
      "31.0                     CCCDCCCCCCCCDCCD\n",
      "32.0                     DDCCDCCCCCCCCCCD\n",
      "32.0                     CCCDCCCCCCCCDCCC\n",
      "32.0                     CCCDCCDCCCCCCCCC\n",
      "32.0                     CCCCCCCCCCDCCCDC\n"
     ]
    }
   ],
   "source": [
    "cumulative_reward_policy_ranks = {}\n",
    "\n",
    "for result in cumulative_reward_results:\n",
    "    for rank, (policy, score) in enumerate(result):\n",
    "        if policy not in cumulative_reward_policy_ranks:\n",
    "            cumulative_reward_policy_ranks[policy] = []\n",
    "\n",
    "        cumulative_reward_policy_ranks[policy].append(rank + 1)\n",
    "\n",
    "mean_cumulative_reward_policy_ranks = {policy: np.mean(ranks) for policy, ranks in cumulative_reward_policy_ranks.items()}\n",
    "\n",
    "for policy in sorted(mean_cumulative_reward_policy_ranks, key=lambda x: mean_cumulative_reward_policy_ranks[x]):\n",
    "    print(f\"{mean_cumulative_reward_policy_ranks[policy]:<24} {policy}\")"
   ]
  },
  {
   "cell_type": "code",
   "execution_count": 10,
   "metadata": {},
   "outputs": [
    {
     "name": "stdout",
     "output_type": "stream",
     "text": [
      "1.0                      CCCCCCCCCCCDCCCD         1        0.9515390609779856\n",
      "2.0                      CCCDCDCCCCCCCCCC         1        0.9332371523804786\n",
      "3.0                      DCCCCCCCCCCCCDCC         1        0.9454783221003923\n",
      "4.0                      CCCCCCCCCCCCDDDC         1        0.9475975975975977\n",
      "4.0                      CCCCCCDDCCCCCCCC         1        0.9420949902407287\n",
      "5.0                      CCCDCCCCCCCCCDCC         2        0.9393387470705339\n",
      "6.0                      CCCCCCCDCCCCCDCD         1        0.9438725004949515\n",
      "6.0                      CCCCCCCDCCCCCCCD         2        0.9469223410858749\n",
      "6.0                      CCCCCCCCCCCCCDCD         1        0.9478416372758433\n",
      "6.142857142857143        CCCCCCCDCCCCCCCC         7        0.9413036882477629\n",
      "7.0                      CCCCCCCDCCCCDCCC         1        0.945045045045045\n",
      "7.0                      CCCCCCCDCCCDDCCC         1        0.9413794828189866\n",
      "7.5                      CCCCCCCDCDCCCCCC         2        0.9442542265038196\n",
      "7.583333333333333        CCCCCCCCCCCCCCDC         12       0.9447882169573066\n",
      "7.846153846153846        CCCCCCCCCCCDCCCC         13       0.9371734094267343\n",
      "8.0                      CCCCCCCCCCCCCCCC         99       0.9368721445412479\n",
      "8.0                      CCCCCCCDCCCDCCCC         1        0.9463244455519562\n",
      "8.0                      CCCCCCCCCCCCCDDC         1        0.9448196508079444\n",
      "8.0                      CCCDCCCCCCCCCCCD         2        0.9435347608698468\n",
      "8.0                      DCCCCCDCCCCCCDCC         1        0.9345613425351273\n",
      "8.0                      CCCCCCDDCCCCCDCC         1        0.9440380761523046\n",
      "8.5                      CCCDCCCDCDCCCCCC         2        0.9389552574548287\n",
      "8.583333333333334        CCCCCCCCCCCCCDCC         12       0.9385455036318523\n",
      "9.0                      CCCDCCCDCCCCCCCC         2        0.9447717533831559\n",
      "9.0                      CCCCCCCCCCCDCCDC         1        0.9233793729206573\n",
      "9.0                      DCCCCCCDCCCCCCCC         1        0.9400868740326527\n",
      "9.333333333333334        CDCCCCCCCCCCCCDC         3        0.9170475288431238\n",
      "9.571428571428571        CCCCCCCCCCCCCCCD         7        0.9194990573820817\n",
      "10.0                     CCCCDCCCCCCDCCDC         1        0.9169664699956829\n",
      "10.0                     CCCCCCDCCCCCCDDC         1        0.9431331540683199\n",
      "10.0                     CCCCCCCCDCCCCCCC         1        0.9220128211307659\n",
      "10.0                     CCCCCCCCCCCCDCCD         1        0.929102229363326\n",
      "10.5                     DCCCCCCCCDCCCCCC         2        0.9424068046945298\n",
      "11.0                     CCCCCCCCCCCCDDCC         1        0.9436429215509468\n",
      "11.0                     CCDCCCCCCCCDCCCC         1        0.9062123039806996\n",
      "11.0                     CCCDCCDCCCCDDCDC         1        0.937800963081862\n",
      "11.0                     CCCCCCCCCCCCDCDC         1        0.9427834269236607\n",
      "11.0                     CCCCDCDDCCCDCCCC         1        0.9313740342372367\n",
      "11.166666666666666       CCCDCCCCCCCCCCCC         6        0.9192839549745367\n",
      "12.0                     CCCCCCCCCDCCCCCC         6        0.9362475868113131\n",
      "12.0                     CCCDCCCCCCCCDCCC         1        0.9428807947019867\n",
      "12.0                     CCCCDCCDCCCCCCCC         2        0.9409568970004771\n",
      "12.0                     CCCDCCDCCCCCCCCC         1        0.9427892807352714\n",
      "12.0                     DCCCCCCCCCCCCCCD         3        0.9184234930595391\n",
      "12.0                     DCCCDCCCCCCCCDCC         2        0.913797753011977\n",
      "12.0                     CCCCCCCCCCCDCCDD         1        0.9328402958225065\n",
      "12.5                     DCCCCDCCCCCCCDCC         2        0.9018890132773215\n",
      "12.666666666666666       CCCCCCDCCCCDCCCC         3        0.9367266652945955\n",
      "12.818181818181818       CCCCCCCCCCCCDCCC         11       0.9302271854401833\n",
      "13.0                     CCCCCCDCCCCCDCCC         2        0.9384241292414187\n",
      "13.0                     DCCCCCCDCCCDDCCD         1        0.9400917065390749\n",
      "13.0                     CCCCCCCCDCCCDCCD         1        0.9134505253722425\n",
      "13.0                     DCCCCDCCCCCDCCCC         1        0.9219389043170917\n",
      "13.0                     CCCDDCCCCCCCCCCD         1        0.9284349225507946\n",
      "13.25                    DCCCCCCCCCCCDCCC         4        0.87352870517469\n",
      "13.4375                  CCCCCDCCCCCCCCCC         16       0.9311718889672266\n",
      "13.5                     CCCCCCDCCCCCCCCC         6        0.9071056371270972\n",
      "14.0                     DDCCDCCCCCCCCCCC         1        0.8971316499141947\n",
      "14.368421052631579       CCCCDCCCCCCCCCCC         19       0.9120752254166409\n",
      "14.666666666666666       CCCCCDCCCCCCCCCD         3        0.9237258149429529\n",
      "14.703703703703704       DCCCCCCCCCCCCCCC         27       0.8880460299831\n",
      "15.0                     DCCCDCCCCCCCCCCD         2        0.8988121639469605\n",
      "15.0                     CCCDDCCCCCCDCCCD         1        0.9178647828466245\n",
      "15.333333333333334       CCCCDCCCCCCCCCDC         3        0.919955624220305\n",
      "15.5                     CDCCDCCCCCCCCCCC         2        0.8989520617603272\n",
      "16.0                     CCCDCCCDCCCCDCCC         2        0.9396023972132647\n",
      "16.0                     CDCCCCCCCCCCCCCD         2        0.9239622045929694\n",
      "16.0                     CDCDCCCCCDCCCCCC         1        0.911965343823134\n",
      "16.0                     CCCCCDDCCCCCCCCC         1        0.9187605092481383\n",
      "16.0                     DCCCCCDCCCCCCCCC         3        0.8585964825087201\n",
      "16.333333333333332       CCDCCDCCCCCCCCCC         3        0.8980451844138565\n",
      "16.5                     CCCCDCDCCCCCCCCC         2        0.9111928121628912\n",
      "17.0                     DDCCDCCCCCCCCCCD         1        0.8845904257974342\n",
      "17.0                     CCCDCCCCCDCCCCCC         1        0.9369351375642883\n",
      "17.0                     CDCCCDCCCCCCCCCD         4        0.8955553115656809\n",
      "17.0                     CCDCCCCCCDCCCCCC         1        0.91385711418824\n",
      "17.0                     DCCCCDCCDCCDCCCC         1        0.9268122792178716\n",
      "17.0                     DCDCCCCDCCCCCCCC         1        0.8934869739478958\n",
      "17.333333333333332       CCCDDCCCCCCCCCCC         3        0.9150223009883397\n",
      "17.5                     CCCCCCCCCDCCCCDC         2        0.9339406126244917\n",
      "17.5                     DCCCCCCCCCCCCCDC         4        0.8760012819678453\n",
      "17.558823529411764       DCCCDCCCCCCCCCCC         34       0.8834312903400143\n",
      "17.6                     DCCDCCCCCCCCCCCC         5        0.8781332659355133\n",
      "18.0                     CCCCCCCCDCCDCCCD         1        0.9310673284203138\n",
      "18.0                     DCCDDCCCCCCDCDCC         1        0.8729477140692093\n",
      "18.0                     DCDCCCDCCCCCCCCC         1        0.9050648891582084\n",
      "18.0                     CDCCDDCCCCCCCCDC         1        0.9065518794734471\n",
      "18.0                     DCCCCCCCCCCDCCCC         3        0.8530119075191567\n",
      "18.333333333333332       CDCCCCCCCDCCCCCC         3        0.8917637682480994\n",
      "18.4                     CDCDCCCCCCCCCCCC         5        0.9021069331838725\n",
      "18.5                     DCCCDCCCCDCCCCCC         2        0.7932088026657946\n",
      "18.666666666666668       DCCCDCCDCCCCCCCC         3        0.844296589891871\n",
      "18.6875                  CDCCCCCCCCCCCCCC         16       0.8963094570267651\n",
      "19.0                     DCCCDCCCCCCCDDCD         1        0.8808531994981179\n",
      "19.0                     CCCDCCDDCCCCCCCC         1        0.9336690229495497\n",
      "19.0                     CCCCCCCCCCDCCCDC         1        0.9181363383698014\n",
      "19.0                     DCCDCCCCCCCCDCCC         1        0.942608520698154\n",
      "19.0                     CCCCCCCCCDCCCCCD         1        0.9333895446880269\n",
      "19.0                     CCCDCCCCCCCDCCCC         1        0.9305051909989568\n",
      "19.0                     CCCCCDCCCDCCCCCC         1        0.9188241774750864\n",
      "19.0                     CCCCCCCCCDCCDCCC         1        0.935863415611075\n",
      "19.0                     DCDCCCCDCDCCCCCC         1        0.8993036421020991\n",
      "19.5                     CCCCDCCCCCCCCDCC         2        0.8870745554434507\n",
      "19.77777777777778        CDCCCDCCCCCCCCCC         9        0.8912358294496239\n",
      "20.0                     DDCCDDCCCCCCCDCC         1        0.8769884942471236\n",
      "20.0                     CCDCCCCCCCCCCCDC         2        0.9068198708207207\n",
      "20.0                     DDCCCDCCCCCCCCDC         1        0.8682089029092184\n",
      "20.0                     CCDDCCCCCCCCCCCC         1        0.8940251414834477\n",
      "20.0                     CCCCDCCDDCCCCCCC         1        0.914588965655352\n",
      "20.0                     CCCCCCCDCDCCCCDC         1        0.9346136488993632\n",
      "20.0                     DCCCCCDCCCCDCCCC         1        0.9128341441396258\n",
      "20.0                     DDCCCCCCDDCCCCCC         2        0.8751168444874715\n",
      "20.0                     CDDCCCCCCDCCCCCC         1        0.8700935046752337\n",
      "20.0                     DCCCCCDCCDCCCCCC         1        0.9212254926540641\n",
      "20.5                     CCDCDCCCCCCCCCCC         2        0.8985581042611765\n",
      "21.0                     CDCCCDCCCDCDCCCC         1        0.8643455576180203\n",
      "21.0                     CCCCCDCDCCCCCCCC         1        0.938498957609451\n",
      "21.0                     CCDCCCCCCCCCCCCD         2        0.9123579806334103\n",
      "21.0                     DCCCDCCCCDCDCCCC         1        0.8550233993826546\n",
      "21.0                     DCCCCCCDCCCCCCCD         1        0.9119490340291087\n",
      "21.0                     CDCDCCCDCCCCCCCC         1        0.8763405995909612\n",
      "21.5                     CDDCCCCCCCCCCCCC         4        0.8699271090634673\n",
      "21.5                     CDCCCCCCCCCCCDCC         2        0.8803534738538551\n",
      "21.5                     DCCCCDCCCCCCCCCC         2        0.8136415178357941\n",
      "22.0                     DCDCCCCCCCCCCCCC         8        0.8415565237036796\n",
      "22.0                     CDCCDCCDCDCCCCCC         1        0.8758360573296454\n",
      "22.0                     CCCCDDCCCDCCCCCC         1        0.8978978978978979\n",
      "22.0                     DCCDDCCDCCCCDCCD         1        0.8839294659853723\n",
      "22.0                     DCCCCDCCCCCDDDCC         1        0.9162453066332916\n",
      "22.0                     DCCCCDCCCDCCCCCC         1        0.9267151249626605\n",
      "22.0                     CCDCCCCCCCCCDCCC         1        0.868421052631579\n",
      "22.333333333333332       CCDCCCCCCCCCCCCC         3        0.9090323231607608\n",
      "22.666666666666668       DCCCDCCCCCCCCCDC         3        0.8996884585611366\n",
      "23.0                     DCDCDCCCCDCCDCCC         1        0.8198288373955257\n",
      "23.0                     DCDCDCCCCCCCCCCD         1        0.8646940822467403\n",
      "23.0                     CCCCDCDCCDCCCCCC         1        0.8199073382155134\n",
      "23.0                     CDDCCDCCCCCCCCDC         1        0.819139945314442\n",
      "23.5                     CDDCCDCCCCCCCCCC         2        0.8462172815679347\n",
      "24.0                     DDCCCCCCCCCCCCCC         2        0.8582483737664123\n",
      "24.0                     CDCCCCCDCCCCCCCC         2        0.8644550513123771\n",
      "24.0                     CDCDCCCCCCCCCCCD         1        0.8755820357482601\n",
      "24.0                     DCCCCCCCDCCCCDCC         2        0.7774355619542419\n",
      "24.0                     CDCCCDCCCCCDCCCC         1        0.8979193758127438\n",
      "24.0                     CCCCCCDCCCCCDDCC         2        0.8790894449835965\n",
      "24.0                     DCCDCCCCCCCCCCCD         1        0.9106325840461508\n",
      "24.0                     CDCCCDCCCCCCDDCC         1        0.8152360180713507\n",
      "24.0                     CDCCCCCCCDDCCCCC         1        0.7952526722537261\n",
      "24.5                     CDCDCCCCCCCCCDCC         2        0.8482697445575371\n",
      "24.5                     DCDCCCCCCCCCCCCD         2        0.8960227717781831\n",
      "24.666666666666668       DCCCDCCCDCCCCCCD         3        0.7589553103436323\n",
      "25.0                     CCCCDCCCCCCCDCCC         1        0.8653521406575941\n",
      "25.0                     CDCDCDCCCCCCCCCC         1        0.9036048595897231\n",
      "25.0                     CCCCCCDDCCCCDCCC         1        0.8754686796980453\n",
      "25.0                     CCDCDCCCCCCCCDCC         1        0.7862302595526329\n",
      "25.0                     CCCDCCCDCCCCCCCD         1        0.875068877423233\n",
      "25.0                     CCDDCDCCCCCCCCCC         1        0.8950632847561898\n",
      "25.0                     DDCCCDCCCCCCCDCD         1        0.8517124939700916\n",
      "25.0                     DCCCCCCCDCCCCCCC         7        0.7212913174190864\n",
      "25.0                     CCCCDCCCCDCCDCCC         1        0.8888833573953303\n",
      "25.0                     CDCCDDDCCCCCCCCC         1        0.7826021784750674\n",
      "25.0                     CCDCCCDDCCCDCCCC         1        0.9070643169151981\n",
      "25.0                     DCCDDDCCDCCDCCCD         1        0.740290672240315\n",
      "25.142857142857142       DCCCDCCCDCCCCCCC         7        0.8069826861036712\n",
      "25.166666666666668       DCDCDCCCCCCCCCCC         6        0.746750621221013\n",
      "26.0                     CDDDCCCCCCCCDDDC         1        0.8525254522091529\n",
      "26.0                     DCCCCCDCDCCCCCCC         3        0.7659610724559299\n",
      "26.0                     CDCCDDCCCCCDCCCC         1        0.8510150465727251\n",
      "26.0                     CDDCCCCCCCCDCCCC         1        0.8500075601028174\n",
      "26.0                     DCDCCCCCCCCCCCDC         1        0.878046440222606\n",
      "26.0                     DCCCCDCDDCCCCCCC         1        0.9031549520766773\n",
      "27.0                     CCCCDCCCCCCDCCCC         2        0.8308947732607119\n",
      "27.0                     CDDCCCDCCCCCCCCC         1        0.7864751052761952\n",
      "27.0                     CCCCCCDCCCCCCCDC         1        0.7961132112048076\n",
      "27.0                     CDCCDDCCCCCCCCCC         1        0.8258915193287384\n",
      "27.0                     CDCCCDDDCCCCCDCC         1        0.8133273614014134\n",
      "27.0                     DDCCCCCCCCCCCCCD         1        0.677763315979175\n",
      "27.5                     DCCCDCCCCCCCDCCC         2        0.7712946564610959\n",
      "28.0                     DCCCDCCCDCCCDCCC         8        0.7020849252748138\n",
      "28.0                     CDCCCCDCCCCCDCCC         1        0.811522799255945\n",
      "28.0                     DCCCCDCCDCCCCCCC         2        0.72933832883307\n",
      "28.0                     DCCCCCCCDCCCDDCC         1        0.6823269587913466\n",
      "28.0                     CCCDCCCCCCCCCCDC         1        0.887805609719514\n",
      "28.0                     DCCDDDCDDCCCCCCC         1        0.7751547215012977\n",
      "28.0                     CDDCCCDCCCCCDCCC         1        0.7859908657664814\n",
      "28.0                     DCDCCCCCDCCCCCDC         1        0.7036091505231016\n",
      "28.0                     CDCDCCDCCCCDCCCC         1        0.8121367007416316\n",
      "28.0                     DDCCCCCCDCCCCDCC         1        0.6401296111665005\n",
      "28.0                     DCCCDCCCCCCCDCDD         1        0.882494004796163\n",
      "29.0                     DCDCCCDCCCCCCCDC         1        0.8790944605829911\n",
      "29.0                     DCCCCCCCDCCCCCDC         1        0.7022639261245159\n",
      "29.0                     DCCCCCCCDCCCDCCC         1        0.6583111468327724\n",
      "29.0                     DCCCDCCDDCCCCCCC         1        0.7563770426464727\n",
      "29.0                     CCCCDDCCDCCCCCCC         1        0.7081637779452399\n",
      "29.0                     DCCCCCCCDDCCCCCC         1        0.7004097132007595\n",
      "29.0                     DDCCCCCCCCCCCDCC         1        0.6652613827993255\n",
      "29.0                     DCCCCCDCCCCDCCDC         1        0.6902309769023097\n",
      "29.0                     DCCCCDCCDCCCCCDC         1        0.6598097325297604\n",
      "29.0                     DCCCCDCCDCCCCDCC         1        0.8640096134588424\n",
      "29.0                     DCCCCDCCCCCCDCCC         1        0.6761805140466228\n",
      "30.0                     DDCCCCCCDDCCDDCC         1        0.6455095207156779\n",
      "30.0                     CDCCCCDCCCCCCCCD         1        0.8757110068855404\n",
      "30.0                     DDCDCCCCDCCCCCDC         1        0.545028945381324\n",
      "30.0                     DCCCDDCCDDCCDCCC         1        0.6420744331666919\n",
      "30.0                     CCCDCCCCCCCCDCCD         1        0.8816623376623377\n",
      "30.0                     DCDCCCCCDCCCCDDD         1        0.5863887368787623\n",
      "30.0                     DCDCCCDCDCDCDCCC         1        0.36958208086880634\n",
      "30.0                     DCCCCCCDDCCDCDCD         1        0.6097585412283338\n",
      "31.0                     DCCDDCCCDCCCCCCC         1        0.5049137585238668\n",
      "31.0                     DCDCDDCCCCCCCCCC         1        0.7948756293305419\n",
      "31.0                     DDCCCCCCDCCCCCCC         2        0.5956141518310863\n",
      "31.0                     DCCCDDCCDDCCCCDC         1        0.5888992035960326\n",
      "31.0                     DCCDDCCCDCCDCCCC         1        0.6278815580286169\n",
      "31.0                     CDCCDCCCCCCCCDCC         1        0.8717426912195364\n",
      "31.0                     DCDCCCCCDCCCCCCC         1        0.6276286801522131\n",
      "31.0                     DDCCCCCCDCCCDCCC         1        0.6495250410304869\n",
      "31.0                     DCCCDCCCDCCCCCDD         1        0.5853792689634482\n",
      "31.0                     DCCDCCCCDCCDCCCD         1        0.6259424603174604\n",
      "31.0                     DCCDCCCDDCCDCCCC         1        0.5875409185596667\n",
      "31.0                     DDCCDCCCCDCDCDCC         1        0.6373373373373373\n",
      "31.0                     DCDCDCDCCCDCDCDC         1        0.35052930544797317\n",
      "31.0                     CDCCCDDCCCDCCCCC         1        0.5858348733829479\n",
      "31.666666666666668       DCDCCCCCCCDCDCCC         3        0.4730260205578987\n",
      "32.0                     DCDCDCCCDCDCDCCD         1        0.31609824003181863\n",
      "32.0                     DCDCCCDCCCDCCCCC         1        0.4549115132233048\n",
      "32.0                     DDCCCCDCCDCCCDDC         1        0.6053941082802548\n",
      "32.0                     CDDCCCDCCCDCCCDC         1        0.5083458219213477\n",
      "32.0                     DCDCDCCCCCDCDCCC         1        0.5263237139272271\n",
      "32.0                     DCDCDCCDCCDCCCCC         1        0.5569868666029286\n",
      "32.0                     DCCCDCCCDDCCDCCC         1        0.520692874183176\n",
      "32.0                     DCDDCCDCCDDCCDCC         1        0.42284589892294944\n",
      "32.0                     DCCCDCCCDCCCCDCD         1        0.6151121008148186\n",
      "32.0                     DCDCCDDCDCDDCDCC         1        0.3679537064751073\n",
      "32.0                     DCCCDDCCDCCCCCCC         1        0.5950591300861896\n",
      "32.0                     DCDCCDCCCCDCDCCC         1        0.2920946626384693\n",
      "32.0                     DCCDCCCCCDCCCCCD         1        0.6292563061030039\n",
      "32.0                     DDCDCDDCDDCDCCCC         1        0.5058705469141997\n",
      "32.0                     DDDCCCCCDCDCCCCC         1        0.46974149524331327\n"
     ]
    }
   ],
   "source": [
    "cooperativeness_policy_ranks = {}\n",
    "cooperativeness_policy_scores = {}\n",
    "\n",
    "for result in cooperativeness_results:\n",
    "    for rank, (policy, score) in enumerate(result):\n",
    "        if policy not in cooperativeness_policy_ranks:\n",
    "            cooperativeness_policy_ranks[policy] = []\n",
    "            cooperativeness_policy_scores[policy] = []\n",
    "\n",
    "        cooperativeness_policy_ranks[policy].append(rank + 1)\n",
    "        cooperativeness_policy_scores[policy].append(score)        \n",
    "\n",
    "mean_cooperativeness_policy_ranks = {policy: (np.mean(ranks), len(ranks)) for policy, ranks in cooperativeness_policy_ranks.items()}\n",
    "\n",
    "mean_cooperativeness_policy_scores = {policy: (np.mean(scores), len(scores)) for policy, scores in cooperativeness_policy_scores.items()}\n",
    "\n",
    "for policy in sorted(mean_cooperativeness_policy_ranks, key=lambda x: mean_cooperativeness_policy_ranks[x][0]):\n",
    "    print(f\"{mean_cooperativeness_policy_ranks[policy][0]:<24} {policy:<24} {mean_cooperativeness_policy_ranks[policy][1]:<8} {mean_cooperativeness_policy_scores[policy][0]}\")"
   ]
  },
  {
   "cell_type": "code",
   "execution_count": 12,
   "metadata": {},
   "outputs": [
    {
     "name": "stdout",
     "output_type": "stream",
     "text": [
      "1.0                      CCCCCCCCCCCDCCCD         1        0.9515390609779856\n",
      "6.0                      CCCCCCCCCCCCCDCD         1        0.9478416372758433\n",
      "4.0                      CCCCCCCCCCCCDDDC         1        0.9475975975975977\n",
      "6.0                      CCCCCCCDCCCCCCCD         2        0.9469223410858749\n",
      "8.0                      CCCCCCCDCCCDCCCC         1        0.9463244455519562\n",
      "3.0                      DCCCCCCCCCCCCDCC         1        0.9454783221003923\n",
      "7.0                      CCCCCCCDCCCCDCCC         1        0.945045045045045\n",
      "8.0                      CCCCCCCCCCCCCDDC         1        0.9448196508079444\n",
      "7.583333333333333        CCCCCCCCCCCCCCDC         12       0.9447882169573066\n",
      "9.0                      CCCDCCCDCCCCCCCC         2        0.9447717533831559\n",
      "7.5                      CCCCCCCDCDCCCCCC         2        0.9442542265038196\n",
      "8.0                      CCCCCCDDCCCCCDCC         1        0.9440380761523046\n",
      "6.0                      CCCCCCCDCCCCCDCD         1        0.9438725004949515\n",
      "11.0                     CCCCCCCCCCCCDDCC         1        0.9436429215509468\n",
      "8.0                      CCCDCCCCCCCCCCCD         2        0.9435347608698468\n",
      "10.0                     CCCCCCDCCCCCCDDC         1        0.9431331540683199\n",
      "12.0                     CCCDCCCCCCCCDCCC         1        0.9428807947019867\n",
      "12.0                     CCCDCCDCCCCCCCCC         1        0.9427892807352714\n",
      "11.0                     CCCCCCCCCCCCDCDC         1        0.9427834269236607\n",
      "19.0                     DCCDCCCCCCCCDCCC         1        0.942608520698154\n",
      "10.5                     DCCCCCCCCDCCCCCC         2        0.9424068046945298\n",
      "4.0                      CCCCCCDDCCCCCCCC         1        0.9420949902407287\n",
      "7.0                      CCCCCCCDCCCDDCCC         1        0.9413794828189866\n",
      "6.142857142857143        CCCCCCCDCCCCCCCC         7        0.9413036882477629\n",
      "12.0                     CCCCDCCDCCCCCCCC         2        0.9409568970004771\n",
      "13.0                     DCCCCCCDCCCDDCCD         1        0.9400917065390749\n",
      "9.0                      DCCCCCCDCCCCCCCC         1        0.9400868740326527\n",
      "16.0                     CCCDCCCDCCCCDCCC         2        0.9396023972132647\n",
      "5.0                      CCCDCCCCCCCCCDCC         2        0.9393387470705339\n",
      "8.5                      CCCDCCCDCDCCCCCC         2        0.9389552574548287\n",
      "8.583333333333334        CCCCCCCCCCCCCDCC         12       0.9385455036318523\n",
      "21.0                     CCCCCDCDCCCCCCCC         1        0.938498957609451\n",
      "13.0                     CCCCCCDCCCCCDCCC         2        0.9384241292414187\n",
      "11.0                     CCCDCCDCCCCDDCDC         1        0.937800963081862\n",
      "7.846153846153846        CCCCCCCCCCCDCCCC         13       0.9371734094267343\n",
      "17.0                     CCCDCCCCCDCCCCCC         1        0.9369351375642883\n",
      "8.0                      CCCCCCCCCCCCCCCC         99       0.9368721445412479\n",
      "12.666666666666666       CCCCCCDCCCCDCCCC         3        0.9367266652945955\n",
      "12.0                     CCCCCCCCCDCCCCCC         6        0.9362475868113131\n",
      "19.0                     CCCCCCCCCDCCDCCC         1        0.935863415611075\n",
      "20.0                     CCCCCCCDCDCCCCDC         1        0.9346136488993632\n",
      "8.0                      DCCCCCDCCCCCCDCC         1        0.9345613425351273\n",
      "17.5                     CCCCCCCCCDCCCCDC         2        0.9339406126244917\n",
      "19.0                     CCCDCCDDCCCCCCCC         1        0.9336690229495497\n",
      "19.0                     CCCCCCCCCDCCCCCD         1        0.9333895446880269\n",
      "2.0                      CCCDCDCCCCCCCCCC         1        0.9332371523804786\n",
      "12.0                     CCCCCCCCCCCDCCDD         1        0.9328402958225065\n",
      "11.0                     CCCCDCDDCCCDCCCC         1        0.9313740342372367\n",
      "13.4375                  CCCCCDCCCCCCCCCC         16       0.9311718889672266\n",
      "18.0                     CCCCCCCCDCCDCCCD         1        0.9310673284203138\n",
      "19.0                     CCCDCCCCCCCDCCCC         1        0.9305051909989568\n",
      "12.818181818181818       CCCCCCCCCCCCDCCC         11       0.9302271854401833\n",
      "10.0                     CCCCCCCCCCCCDCCD         1        0.929102229363326\n",
      "13.0                     CCCDDCCCCCCCCCCD         1        0.9284349225507946\n",
      "17.0                     DCCCCDCCDCCDCCCC         1        0.9268122792178716\n",
      "22.0                     DCCCCDCCCDCCCCCC         1        0.9267151249626605\n",
      "16.0                     CDCCCCCCCCCCCCCD         2        0.9239622045929694\n",
      "14.666666666666666       CCCCCDCCCCCCCCCD         3        0.9237258149429529\n",
      "9.0                      CCCCCCCCCCCDCCDC         1        0.9233793729206573\n",
      "10.0                     CCCCCCCCDCCCCCCC         1        0.9220128211307659\n",
      "13.0                     DCCCCDCCCCCDCCCC         1        0.9219389043170917\n",
      "20.0                     DCCCCCDCCDCCCCCC         1        0.9212254926540641\n",
      "15.333333333333334       CCCCDCCCCCCCCCDC         3        0.919955624220305\n",
      "9.571428571428571        CCCCCCCCCCCCCCCD         7        0.9194990573820817\n",
      "11.166666666666666       CCCDCCCCCCCCCCCC         6        0.9192839549745367\n",
      "19.0                     CCCCCDCCCDCCCCCC         1        0.9188241774750864\n",
      "16.0                     CCCCCDDCCCCCCCCC         1        0.9187605092481383\n",
      "12.0                     DCCCCCCCCCCCCCCD         3        0.9184234930595391\n",
      "19.0                     CCCCCCCCCCDCCCDC         1        0.9181363383698014\n",
      "15.0                     CCCDDCCCCCCDCCCD         1        0.9178647828466245\n",
      "9.333333333333334        CDCCCCCCCCCCCCDC         3        0.9170475288431238\n",
      "10.0                     CCCCDCCCCCCDCCDC         1        0.9169664699956829\n",
      "22.0                     DCCCCDCCCCCDDDCC         1        0.9162453066332916\n",
      "17.333333333333332       CCCDDCCCCCCCCCCC         3        0.9150223009883397\n",
      "20.0                     CCCCDCCDDCCCCCCC         1        0.914588965655352\n",
      "17.0                     CCDCCCCCCDCCCCCC         1        0.91385711418824\n",
      "12.0                     DCCCDCCCCCCCCDCC         2        0.913797753011977\n",
      "13.0                     CCCCCCCCDCCCDCCD         1        0.9134505253722425\n",
      "20.0                     DCCCCCDCCCCDCCCC         1        0.9128341441396258\n",
      "21.0                     CCDCCCCCCCCCCCCD         2        0.9123579806334103\n",
      "14.368421052631579       CCCCDCCCCCCCCCCC         19       0.9120752254166409\n",
      "16.0                     CDCDCCCCCDCCCCCC         1        0.911965343823134\n",
      "21.0                     DCCCCCCDCCCCCCCD         1        0.9119490340291087\n",
      "16.5                     CCCCDCDCCCCCCCCC         2        0.9111928121628912\n",
      "24.0                     DCCDCCCCCCCCCCCD         1        0.9106325840461508\n",
      "22.333333333333332       CCDCCCCCCCCCCCCC         3        0.9090323231607608\n",
      "13.5                     CCCCCCDCCCCCCCCC         6        0.9071056371270972\n",
      "25.0                     CCDCCCDDCCCDCCCC         1        0.9070643169151981\n",
      "20.0                     CCDCCCCCCCCCCCDC         2        0.9068198708207207\n",
      "18.0                     CDCCDDCCCCCCCCDC         1        0.9065518794734471\n",
      "11.0                     CCDCCCCCCCCDCCCC         1        0.9062123039806996\n",
      "18.0                     DCDCCCDCCCCCCCCC         1        0.9050648891582084\n",
      "25.0                     CDCDCDCCCCCCCCCC         1        0.9036048595897231\n",
      "26.0                     DCCCCDCDDCCCCCCC         1        0.9031549520766773\n",
      "18.4                     CDCDCCCCCCCCCCCC         5        0.9021069331838725\n",
      "12.5                     DCCCCDCCCCCCCDCC         2        0.9018890132773215\n",
      "22.666666666666668       DCCCDCCCCCCCCCDC         3        0.8996884585611366\n",
      "19.0                     DCDCCCCDCDCCCCCC         1        0.8993036421020991\n",
      "15.5                     CDCCDCCCCCCCCCCC         2        0.8989520617603272\n",
      "15.0                     DCCCDCCCCCCCCCCD         2        0.8988121639469605\n",
      "20.5                     CCDCDCCCCCCCCCCC         2        0.8985581042611765\n",
      "16.333333333333332       CCDCCDCCCCCCCCCC         3        0.8980451844138565\n",
      "24.0                     CDCCCDCCCCCDCCCC         1        0.8979193758127438\n",
      "22.0                     CCCCDDCCCDCCCCCC         1        0.8978978978978979\n",
      "14.0                     DDCCDCCCCCCCCCCC         1        0.8971316499141947\n",
      "18.6875                  CDCCCCCCCCCCCCCC         16       0.8963094570267651\n",
      "24.5                     DCDCCCCCCCCCCCCD         2        0.8960227717781831\n",
      "17.0                     CDCCCDCCCCCCCCCD         4        0.8955553115656809\n",
      "25.0                     CCDDCDCCCCCCCCCC         1        0.8950632847561898\n",
      "20.0                     CCDDCCCCCCCCCCCC         1        0.8940251414834477\n",
      "17.0                     DCDCCCCDCCCCCCCC         1        0.8934869739478958\n",
      "18.333333333333332       CDCCCCCCCDCCCCCC         3        0.8917637682480994\n",
      "19.77777777777778        CDCCCDCCCCCCCCCC         9        0.8912358294496239\n",
      "25.0                     CCCCDCCCCDCCDCCC         1        0.8888833573953303\n",
      "14.703703703703704       DCCCCCCCCCCCCCCC         27       0.8880460299831\n",
      "28.0                     CCCDCCCCCCCCCCDC         1        0.887805609719514\n",
      "19.5                     CCCCDCCCCCCCCDCC         2        0.8870745554434507\n",
      "17.0                     DDCCDCCCCCCCCCCD         1        0.8845904257974342\n",
      "22.0                     DCCDDCCDCCCCDCCD         1        0.8839294659853723\n",
      "17.558823529411764       DCCCDCCCCCCCCCCC         34       0.8834312903400143\n",
      "28.0                     DCCCDCCCCCCCDCDD         1        0.882494004796163\n",
      "30.0                     CCCDCCCCCCCCDCCD         1        0.8816623376623377\n",
      "19.0                     DCCCDCCCCCCCDDCD         1        0.8808531994981179\n",
      "21.5                     CDCCCCCCCCCCCDCC         2        0.8803534738538551\n",
      "29.0                     DCDCCCDCCCCCCCDC         1        0.8790944605829911\n",
      "24.0                     CCCCCCDCCCCCDDCC         2        0.8790894449835965\n",
      "17.6                     DCCDCCCCCCCCCCCC         5        0.8781332659355133\n",
      "26.0                     DCDCCCCCCCCCCCDC         1        0.878046440222606\n",
      "20.0                     DDCCDDCCCCCCCDCC         1        0.8769884942471236\n",
      "21.0                     CDCDCCCDCCCCCCCC         1        0.8763405995909612\n",
      "17.5                     DCCCCCCCCCCCCCDC         4        0.8760012819678453\n",
      "22.0                     CDCCDCCDCDCCCCCC         1        0.8758360573296454\n",
      "30.0                     CDCCCCDCCCCCCCCD         1        0.8757110068855404\n",
      "24.0                     CDCDCCCCCCCCCCCD         1        0.8755820357482601\n",
      "25.0                     CCCCCCDDCCCCDCCC         1        0.8754686796980453\n",
      "20.0                     DDCCCCCCDDCCCCCC         2        0.8751168444874715\n",
      "25.0                     CCCDCCCDCCCCCCCD         1        0.875068877423233\n",
      "13.25                    DCCCCCCCCCCCDCCC         4        0.87352870517469\n",
      "18.0                     DCCDDCCCCCCDCDCC         1        0.8729477140692093\n",
      "31.0                     CDCCDCCCCCCCCDCC         1        0.8717426912195364\n",
      "20.0                     CDDCCCCCCDCCCCCC         1        0.8700935046752337\n",
      "21.5                     CDDCCCCCCCCCCCCC         4        0.8699271090634673\n",
      "22.0                     CCDCCCCCCCCCDCCC         1        0.868421052631579\n",
      "20.0                     DDCCCDCCCCCCCCDC         1        0.8682089029092184\n",
      "25.0                     CCCCDCCCCCCCDCCC         1        0.8653521406575941\n",
      "23.0                     DCDCDCCCCCCCCCCD         1        0.8646940822467403\n",
      "24.0                     CDCCCCCDCCCCCCCC         2        0.8644550513123771\n",
      "21.0                     CDCCCDCCCDCDCCCC         1        0.8643455576180203\n",
      "29.0                     DCCCCDCCDCCCCDCC         1        0.8640096134588424\n",
      "16.0                     DCCCCCDCCCCCCCCC         3        0.8585964825087201\n",
      "24.0                     DDCCCCCCCCCCCCCC         2        0.8582483737664123\n",
      "21.0                     DCCCDCCCCDCDCCCC         1        0.8550233993826546\n",
      "18.0                     DCCCCCCCCCCDCCCC         3        0.8530119075191567\n",
      "26.0                     CDDDCCCCCCCCDDDC         1        0.8525254522091529\n",
      "25.0                     DDCCCDCCCCCCCDCD         1        0.8517124939700916\n",
      "26.0                     CDCCDDCCCCCDCCCC         1        0.8510150465727251\n",
      "26.0                     CDDCCCCCCCCDCCCC         1        0.8500075601028174\n",
      "24.5                     CDCDCCCCCCCCCDCC         2        0.8482697445575371\n",
      "23.5                     CDDCCDCCCCCCCCCC         2        0.8462172815679347\n",
      "18.666666666666668       DCCCDCCDCCCCCCCC         3        0.844296589891871\n",
      "22.0                     DCDCCCCCCCCCCCCC         8        0.8415565237036796\n",
      "27.0                     CCCCDCCCCCCDCCCC         2        0.8308947732607119\n",
      "27.0                     CDCCDDCCCCCCCCCC         1        0.8258915193287384\n",
      "23.0                     CCCCDCDCCDCCCCCC         1        0.8199073382155134\n",
      "23.0                     DCDCDCCCCDCCDCCC         1        0.8198288373955257\n",
      "23.0                     CDDCCDCCCCCCCCDC         1        0.819139945314442\n",
      "24.0                     CDCCCDCCCCCCDDCC         1        0.8152360180713507\n",
      "21.5                     DCCCCDCCCCCCCCCC         2        0.8136415178357941\n",
      "27.0                     CDCCCDDDCCCCCDCC         1        0.8133273614014134\n",
      "28.0                     CDCDCCDCCCCDCCCC         1        0.8121367007416316\n",
      "28.0                     CDCCCCDCCCCCDCCC         1        0.811522799255945\n",
      "25.142857142857142       DCCCDCCCDCCCCCCC         7        0.8069826861036712\n",
      "27.0                     CCCCCCDCCCCCCCDC         1        0.7961132112048076\n",
      "24.0                     CDCCCCCCCDDCCCCC         1        0.7952526722537261\n",
      "31.0                     DCDCDDCCCCCCCCCC         1        0.7948756293305419\n",
      "18.5                     DCCCDCCCCDCCCCCC         2        0.7932088026657946\n",
      "27.0                     CDDCCCDCCCCCCCCC         1        0.7864751052761952\n",
      "25.0                     CCDCDCCCCCCCCDCC         1        0.7862302595526329\n",
      "28.0                     CDDCCCDCCCCCDCCC         1        0.7859908657664814\n",
      "25.0                     CDCCDDDCCCCCCCCC         1        0.7826021784750674\n",
      "24.0                     DCCCCCCCDCCCCDCC         2        0.7774355619542419\n",
      "28.0                     DCCDDDCDDCCCCCCC         1        0.7751547215012977\n",
      "27.5                     DCCCDCCCCCCCDCCC         2        0.7712946564610959\n",
      "26.0                     DCCCCCDCDCCCCCCC         3        0.7659610724559299\n",
      "24.666666666666668       DCCCDCCCDCCCCCCD         3        0.7589553103436323\n",
      "29.0                     DCCCDCCDDCCCCCCC         1        0.7563770426464727\n",
      "25.166666666666668       DCDCDCCCCCCCCCCC         6        0.746750621221013\n",
      "25.0                     DCCDDDCCDCCDCCCD         1        0.740290672240315\n",
      "28.0                     DCCCCDCCDCCCCCCC         2        0.72933832883307\n",
      "25.0                     DCCCCCCCDCCCCCCC         7        0.7212913174190864\n",
      "29.0                     CCCCDDCCDCCCCCCC         1        0.7081637779452399\n",
      "28.0                     DCDCCCCCDCCCCCDC         1        0.7036091505231016\n",
      "29.0                     DCCCCCCCDCCCCCDC         1        0.7022639261245159\n",
      "28.0                     DCCCDCCCDCCCDCCC         8        0.7020849252748138\n",
      "29.0                     DCCCCCCCDDCCCCCC         1        0.7004097132007595\n",
      "29.0                     DCCCCCDCCCCDCCDC         1        0.6902309769023097\n",
      "28.0                     DCCCCCCCDCCCDDCC         1        0.6823269587913466\n",
      "27.0                     DDCCCCCCCCCCCCCD         1        0.677763315979175\n",
      "29.0                     DCCCCDCCCCCCDCCC         1        0.6761805140466228\n",
      "29.0                     DDCCCCCCCCCCCDCC         1        0.6652613827993255\n",
      "29.0                     DCCCCDCCDCCCCCDC         1        0.6598097325297604\n",
      "29.0                     DCCCCCCCDCCCDCCC         1        0.6583111468327724\n",
      "31.0                     DDCCCCCCDCCCDCCC         1        0.6495250410304869\n",
      "30.0                     DDCCCCCCDDCCDDCC         1        0.6455095207156779\n",
      "30.0                     DCCCDDCCDDCCDCCC         1        0.6420744331666919\n",
      "28.0                     DDCCCCCCDCCCCDCC         1        0.6401296111665005\n",
      "31.0                     DDCCDCCCCDCDCDCC         1        0.6373373373373373\n",
      "32.0                     DCCDCCCCCDCCCCCD         1        0.6292563061030039\n",
      "31.0                     DCCDDCCCDCCDCCCC         1        0.6278815580286169\n",
      "31.0                     DCDCCCCCDCCCCCCC         1        0.6276286801522131\n",
      "31.0                     DCCDCCCCDCCDCCCD         1        0.6259424603174604\n",
      "32.0                     DCCCDCCCDCCCCDCD         1        0.6151121008148186\n",
      "30.0                     DCCCCCCDDCCDCDCD         1        0.6097585412283338\n",
      "32.0                     DDCCCCDCCDCCCDDC         1        0.6053941082802548\n",
      "31.0                     DDCCCCCCDCCCCCCC         2        0.5956141518310863\n",
      "32.0                     DCCCDDCCDCCCCCCC         1        0.5950591300861896\n",
      "31.0                     DCCCDDCCDDCCCCDC         1        0.5888992035960326\n",
      "31.0                     DCCDCCCDDCCDCCCC         1        0.5875409185596667\n",
      "30.0                     DCDCCCCCDCCCCDDD         1        0.5863887368787623\n",
      "31.0                     CDCCCDDCCCDCCCCC         1        0.5858348733829479\n",
      "31.0                     DCCCDCCCDCCCCCDD         1        0.5853792689634482\n",
      "32.0                     DCDCDCCDCCDCCCCC         1        0.5569868666029286\n",
      "30.0                     DDCDCCCCDCCCCCDC         1        0.545028945381324\n",
      "32.0                     DCDCDCCCCCDCDCCC         1        0.5263237139272271\n",
      "32.0                     DCCCDCCCDDCCDCCC         1        0.520692874183176\n",
      "32.0                     CDDCCCDCCCDCCCDC         1        0.5083458219213477\n",
      "32.0                     DDCDCDDCDDCDCCCC         1        0.5058705469141997\n",
      "31.0                     DCCDDCCCDCCCCCCC         1        0.5049137585238668\n",
      "31.666666666666668       DCDCCCCCCCDCDCCC         3        0.4730260205578987\n",
      "32.0                     DDDCCCCCDCDCCCCC         1        0.46974149524331327\n",
      "32.0                     DCDCCCDCCCDCCCCC         1        0.4549115132233048\n",
      "32.0                     DCDDCCDCCDDCCDCC         1        0.42284589892294944\n",
      "30.0                     DCDCCCDCDCDCDCCC         1        0.36958208086880634\n",
      "32.0                     DCDCCDDCDCDDCDCC         1        0.3679537064751073\n",
      "31.0                     DCDCDCDCCCDCDCDC         1        0.35052930544797317\n",
      "32.0                     DCDCDCCCDCDCDCCD         1        0.31609824003181863\n",
      "32.0                     DCDCCDCCCCDCDCCC         1        0.2920946626384693\n"
     ]
    }
   ],
   "source": [
    "for policy in sorted(mean_cooperativeness_policy_scores, key=lambda x: mean_cooperativeness_policy_scores[x][0], reverse=True):\n",
    "    print(f\"{mean_cooperativeness_policy_ranks[policy][0]:<24} {policy:<24} {mean_cooperativeness_policy_ranks[policy][1]:<8} {mean_cooperativeness_policy_scores[policy][0]}\")"
   ]
  }
 ],
 "metadata": {
  "kernelspec": {
   "display_name": "ml",
   "language": "python",
   "name": "python3"
  },
  "language_info": {
   "codemirror_mode": {
    "name": "ipython",
    "version": 3
   },
   "file_extension": ".py",
   "mimetype": "text/x-python",
   "name": "python",
   "nbconvert_exporter": "python",
   "pygments_lexer": "ipython3",
   "version": "3.10.8"
  },
  "orig_nbformat": 4,
  "vscode": {
   "interpreter": {
    "hash": "ea8fc3f6c7fa3223c55434ded24c0b3b1260e6c6965b48cfc542164a121bf59d"
   }
  }
 },
 "nbformat": 4,
 "nbformat_minor": 2
}
