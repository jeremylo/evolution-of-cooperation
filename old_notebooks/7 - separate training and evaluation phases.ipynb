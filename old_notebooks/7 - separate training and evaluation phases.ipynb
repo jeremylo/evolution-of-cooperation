{
 "cells": [
  {
   "cell_type": "code",
   "execution_count": 1,
   "metadata": {},
   "outputs": [],
   "source": [
    "from itertools import chain\n",
    "from random import random\n",
    "\n",
    "import matplotlib.pyplot as plt\n",
    "import numpy as np\n",
    "from tqdm.notebook import tqdm\n",
    "\n",
    "from society.action import Action\n",
    "from society.agent import Agent, TrainableAgent\n",
    "from society.simulations.weighted import WeightedNetworkSimulation\n",
    "from society.strategies.gameplay.constant import AllC, AllD\n",
    "from society.strategies.gameplay.qlearning import TabularQLearningGameplayStrategy\n",
    "from society.strategies.gameplay.random import RandomGameplayStrategy\n",
    "from society.strategies.gameplay.tft import TitForTat\n",
    "from society.visualisation.network import *\n",
    "\n",
    "plt.rcParams[\"figure.figsize\"] = (10, 6)"
   ]
  },
  {
   "cell_type": "code",
   "execution_count": 2,
   "metadata": {},
   "outputs": [],
   "source": [
    "def generate_population(communities, size):\n",
    "    population = communities * size\n",
    "\n",
    "    agents = [\n",
    "        Agent(TabularQLearningGameplayStrategy(lookback=2, epsilon=0.2), i, population)\n",
    "        for i in range(population)\n",
    "    ]\n",
    "\n",
    "    G = nx.connected_caveman_graph(communities, size)\n",
    "\n",
    "    weights_matrix = np.zeros((population, population))\n",
    "    for u, v, d in G.edges(data=True):\n",
    "        weights_matrix[u, v] = weights_matrix[v, u] = 1.0\n",
    "        try:\n",
    "            d[\"weight\"] = weights_matrix[u, v]\n",
    "        except:\n",
    "            d[\"weight\"] = 0\n",
    "\n",
    "    return agents, weights_matrix, G"
   ]
  },
  {
   "cell_type": "code",
   "execution_count": 3,
   "metadata": {},
   "outputs": [],
   "source": [
    "def compute_policies(agents):\n",
    "    policies = [\n",
    "        agent.gameplay_strategy._q_table.argmax(axis=-1)\n",
    "        for agent in agents\n",
    "    ]\n",
    "\n",
    "    return [\n",
    "        \"\".join(\n",
    "            [\n",
    "                (\"C\", \"D\")[policy[i, j]]  # , k\n",
    "                for i in range(4)\n",
    "                for j in range(4)\n",
    "                # for k in range(4)\n",
    "            ]\n",
    "        )\n",
    "        for policy in policies\n",
    "    ]\n",
    "\n",
    "def calculate_cooperativeness(history):\n",
    "    count = history.count(Action.COOPERATE)\n",
    "\n",
    "    return count / len(history)"
   ]
  },
  {
   "cell_type": "code",
   "execution_count": 4,
   "metadata": {},
   "outputs": [
    {
     "data": {
      "application/vnd.jupyter.widget-view+json": {
       "model_id": "75051fe38b394eefaf458bef413626e4",
       "version_major": 2,
       "version_minor": 0
      },
      "text/plain": [
       "Training Run 1:   0%|          | 0/4000 [00:00<?, ?it/s]"
      ]
     },
     "metadata": {},
     "output_type": "display_data"
    },
    {
     "data": {
      "application/vnd.jupyter.widget-view+json": {
       "model_id": "22aed03cfe5e421b9d7949023ee99ea2",
       "version_major": 2,
       "version_minor": 0
      },
      "text/plain": [
       "Evaluation Run 1:   0%|          | 0/4000 [00:00<?, ?it/s]"
      ]
     },
     "metadata": {},
     "output_type": "display_data"
    },
    {
     "name": "stdout",
     "output_type": "stream",
     "text": [
      "BEST AGENT: 33938 (0.10903387703889586, DDDCCCDCCDDCDDDD)\n",
      "WORST AGENT: 17001 (1.0, CCCDCCCCCCCCCCCC)\n"
     ]
    },
    {
     "data": {
      "application/vnd.jupyter.widget-view+json": {
       "model_id": "5429493b50eb41bdadad226635aaca0e",
       "version_major": 2,
       "version_minor": 0
      },
      "text/plain": [
       "Training Run 2:   0%|          | 0/4000 [00:00<?, ?it/s]"
      ]
     },
     "metadata": {},
     "output_type": "display_data"
    },
    {
     "data": {
      "application/vnd.jupyter.widget-view+json": {
       "model_id": "fb6b605bd6944364ab8b64f9168c7fe2",
       "version_major": 2,
       "version_minor": 0
      },
      "text/plain": [
       "Evaluation Run 2:   0%|          | 0/4000 [00:00<?, ?it/s]"
      ]
     },
     "metadata": {},
     "output_type": "display_data"
    },
    {
     "name": "stdout",
     "output_type": "stream",
     "text": [
      "BEST AGENT: 32914 (0.1520955105086432, DCDCDCCCDDDCDCCC)\n",
      "WORST AGENT: 17127 (1.0, CCCCCCCCCCCDCCCC)\n"
     ]
    },
    {
     "data": {
      "application/vnd.jupyter.widget-view+json": {
       "model_id": "42d5c3cd6f0f4ba4b20ac79f0b87ca8f",
       "version_major": 2,
       "version_minor": 0
      },
      "text/plain": [
       "Training Run 3:   0%|          | 0/4000 [00:00<?, ?it/s]"
      ]
     },
     "metadata": {},
     "output_type": "display_data"
    },
    {
     "data": {
      "application/vnd.jupyter.widget-view+json": {
       "model_id": "2088a08a9ce0416faf0f30dbdb5b02e4",
       "version_major": 2,
       "version_minor": 0
      },
      "text/plain": [
       "Evaluation Run 3:   0%|          | 0/4000 [00:00<?, ?it/s]"
      ]
     },
     "metadata": {},
     "output_type": "display_data"
    },
    {
     "name": "stdout",
     "output_type": "stream",
     "text": [
      "BEST AGENT: 28930 (0.5169355831999015, DCDDCDCCCCCDCCCC)\n",
      "WORST AGENT: 20130 (1.0, CCCDCCCDCCCDCCCC)\n"
     ]
    },
    {
     "data": {
      "application/vnd.jupyter.widget-view+json": {
       "model_id": "94625fef025a4acba86a7ad28615b2fa",
       "version_major": 2,
       "version_minor": 0
      },
      "text/plain": [
       "Training Run 4:   0%|          | 0/4000 [00:00<?, ?it/s]"
      ]
     },
     "metadata": {},
     "output_type": "display_data"
    },
    {
     "data": {
      "application/vnd.jupyter.widget-view+json": {
       "model_id": "03c5511ffcc049a7bc786177164e5a75",
       "version_major": 2,
       "version_minor": 0
      },
      "text/plain": [
       "Evaluation Run 4:   0%|          | 0/4000 [00:00<?, ?it/s]"
      ]
     },
     "metadata": {},
     "output_type": "display_data"
    },
    {
     "name": "stdout",
     "output_type": "stream",
     "text": [
      "BEST AGENT: 31190 (0.2608967935871743, DCDCDDCCCCDCCCCC)\n",
      "WORST AGENT: 20013 (1.0, CCCCCCCCCCCCCCCC)\n"
     ]
    },
    {
     "data": {
      "application/vnd.jupyter.widget-view+json": {
       "model_id": "fa3a64050aff4ad69f543b3aa49d8fc4",
       "version_major": 2,
       "version_minor": 0
      },
      "text/plain": [
       "Training Run 5:   0%|          | 0/4000 [00:00<?, ?it/s]"
      ]
     },
     "metadata": {},
     "output_type": "display_data"
    },
    {
     "data": {
      "application/vnd.jupyter.widget-view+json": {
       "model_id": "4b51c1f67b7448e382c24aa5efc5b990",
       "version_major": 2,
       "version_minor": 0
      },
      "text/plain": [
       "Evaluation Run 5:   0%|          | 0/4000 [00:00<?, ?it/s]"
      ]
     },
     "metadata": {},
     "output_type": "display_data"
    },
    {
     "name": "stdout",
     "output_type": "stream",
     "text": [
      "BEST AGENT: 28410 (0.5750280653611076, DCCDCCCCDCCCCCDC)\n",
      "WORST AGENT: 20019 (1.0, CCCDCCCDCCCDCCCC)\n"
     ]
    },
    {
     "data": {
      "application/vnd.jupyter.widget-view+json": {
       "model_id": "63e7ffb2735b4d1d8d7a0186fee0617c",
       "version_major": 2,
       "version_minor": 0
      },
      "text/plain": [
       "Training Run 6:   0%|          | 0/4000 [00:00<?, ?it/s]"
      ]
     },
     "metadata": {},
     "output_type": "display_data"
    },
    {
     "data": {
      "application/vnd.jupyter.widget-view+json": {
       "model_id": "79760673a90242fd99c8f1e84985dcb7",
       "version_major": 2,
       "version_minor": 0
      },
      "text/plain": [
       "Evaluation Run 6:   0%|          | 0/4000 [00:00<?, ?it/s]"
      ]
     },
     "metadata": {},
     "output_type": "display_data"
    },
    {
     "name": "stdout",
     "output_type": "stream",
     "text": [
      "BEST AGENT: 35802 (0.0, DCDDCCDCCDDDCDDD)\n",
      "WORST AGENT: 15939 (1.0, CCCCCCCCCCCCCCCC)\n"
     ]
    },
    {
     "data": {
      "application/vnd.jupyter.widget-view+json": {
       "model_id": "2127b3866d9048eab37b395639d11638",
       "version_major": 2,
       "version_minor": 0
      },
      "text/plain": [
       "Training Run 7:   0%|          | 0/4000 [00:00<?, ?it/s]"
      ]
     },
     "metadata": {},
     "output_type": "display_data"
    },
    {
     "data": {
      "application/vnd.jupyter.widget-view+json": {
       "model_id": "7f06371ae49e4c85afeedef9e873067c",
       "version_major": 2,
       "version_minor": 0
      },
      "text/plain": [
       "Evaluation Run 7:   0%|          | 0/4000 [00:00<?, ?it/s]"
      ]
     },
     "metadata": {},
     "output_type": "display_data"
    },
    {
     "name": "stdout",
     "output_type": "stream",
     "text": [
      "BEST AGENT: 32841 (0.16944341601875848, DDDCCCCDDCDCDCCC)\n",
      "WORST AGENT: 16023 (1.0, CCCCCCCCCCCCCCCC)\n"
     ]
    },
    {
     "data": {
      "application/vnd.jupyter.widget-view+json": {
       "model_id": "05fb1335d0424accb9968bd07683db7e",
       "version_major": 2,
       "version_minor": 0
      },
      "text/plain": [
       "Training Run 8:   0%|          | 0/4000 [00:00<?, ?it/s]"
      ]
     },
     "metadata": {},
     "output_type": "display_data"
    },
    {
     "data": {
      "application/vnd.jupyter.widget-view+json": {
       "model_id": "e08aca6d2b8743cc883169c9445d4a0b",
       "version_major": 2,
       "version_minor": 0
      },
      "text/plain": [
       "Evaluation Run 8:   0%|          | 0/4000 [00:00<?, ?it/s]"
      ]
     },
     "metadata": {},
     "output_type": "display_data"
    },
    {
     "name": "stdout",
     "output_type": "stream",
     "text": [
      "BEST AGENT: 32418 (0.14619883040935672, DCDCCDDCCCDCDDDC)\n",
      "WORST AGENT: 16509 (1.0, CCCCCCDCCCCCCCCC)\n"
     ]
    },
    {
     "data": {
      "application/vnd.jupyter.widget-view+json": {
       "model_id": "92e44f80a14b4645b62e78720d2a7f99",
       "version_major": 2,
       "version_minor": 0
      },
      "text/plain": [
       "Training Run 9:   0%|          | 0/4000 [00:00<?, ?it/s]"
      ]
     },
     "metadata": {},
     "output_type": "display_data"
    },
    {
     "data": {
      "application/vnd.jupyter.widget-view+json": {
       "model_id": "f55ef4de23c448a4818bf2f63278e9d6",
       "version_major": 2,
       "version_minor": 0
      },
      "text/plain": [
       "Evaluation Run 9:   0%|          | 0/4000 [00:00<?, ?it/s]"
      ]
     },
     "metadata": {},
     "output_type": "display_data"
    },
    {
     "name": "stdout",
     "output_type": "stream",
     "text": [
      "BEST AGENT: 29746 (0.3180792377131394, DCDCCCDCDDDCCCDD)\n",
      "WORST AGENT: 20028 (1.0, CCCCCCCCCCCCCCDC)\n"
     ]
    },
    {
     "data": {
      "application/vnd.jupyter.widget-view+json": {
       "model_id": "a1906f1caa824063adf52548a1ba56b2",
       "version_major": 2,
       "version_minor": 0
      },
      "text/plain": [
       "Training Run 10:   0%|          | 0/4000 [00:00<?, ?it/s]"
      ]
     },
     "metadata": {},
     "output_type": "display_data"
    },
    {
     "data": {
      "application/vnd.jupyter.widget-view+json": {
       "model_id": "b13c332eca434facac79177173dc68ce",
       "version_major": 2,
       "version_minor": 0
      },
      "text/plain": [
       "Evaluation Run 10:   0%|          | 0/4000 [00:00<?, ?it/s]"
      ]
     },
     "metadata": {},
     "output_type": "display_data"
    },
    {
     "name": "stdout",
     "output_type": "stream",
     "text": [
      "BEST AGENT: 30265 (0.2850125944584383, DCDCDCDCDCDCCCDC)\n",
      "WORST AGENT: 20736 (1.0, CCCDCCDCCCCCCCCC)\n"
     ]
    },
    {
     "data": {
      "application/vnd.jupyter.widget-view+json": {
       "model_id": "3aac4c82e6c84e3497705dff9102110c",
       "version_major": 2,
       "version_minor": 0
      },
      "text/plain": [
       "Training Run 11:   0%|          | 0/4000 [00:00<?, ?it/s]"
      ]
     },
     "metadata": {},
     "output_type": "display_data"
    },
    {
     "data": {
      "application/vnd.jupyter.widget-view+json": {
       "model_id": "ab46c8b1457142ce99af3103e89ac854",
       "version_major": 2,
       "version_minor": 0
      },
      "text/plain": [
       "Evaluation Run 11:   0%|          | 0/4000 [00:00<?, ?it/s]"
      ]
     },
     "metadata": {},
     "output_type": "display_data"
    },
    {
     "name": "stdout",
     "output_type": "stream",
     "text": [
      "BEST AGENT: 29494 (0.4048210735586481, DCDDCCCCDCCCCCCC)\n",
      "WORST AGENT: 20544 (1.0, CCCCCCCCCCCCCCCC)\n"
     ]
    },
    {
     "data": {
      "application/vnd.jupyter.widget-view+json": {
       "model_id": "a02643d2dc5c455d9ae2ddb5ec4b7fa7",
       "version_major": 2,
       "version_minor": 0
      },
      "text/plain": [
       "Training Run 12:   0%|          | 0/4000 [00:00<?, ?it/s]"
      ]
     },
     "metadata": {},
     "output_type": "display_data"
    },
    {
     "data": {
      "application/vnd.jupyter.widget-view+json": {
       "model_id": "7824cee249674ec8b16fe7b4af623bbb",
       "version_major": 2,
       "version_minor": 0
      },
      "text/plain": [
       "Evaluation Run 12:   0%|          | 0/4000 [00:00<?, ?it/s]"
      ]
     },
     "metadata": {},
     "output_type": "display_data"
    },
    {
     "name": "stdout",
     "output_type": "stream",
     "text": [
      "BEST AGENT: 36057 (0.0, DCDDCCCDCCDDCCDD)\n",
      "WORST AGENT: 18978 (1.0, CCCCCCCCCCCCCCCC)\n"
     ]
    },
    {
     "data": {
      "application/vnd.jupyter.widget-view+json": {
       "model_id": "2b6acf2236594a44a7c2b87221f3f5fd",
       "version_major": 2,
       "version_minor": 0
      },
      "text/plain": [
       "Training Run 13:   0%|          | 0/4000 [00:00<?, ?it/s]"
      ]
     },
     "metadata": {},
     "output_type": "display_data"
    },
    {
     "data": {
      "application/vnd.jupyter.widget-view+json": {
       "model_id": "a3c300d1d1074e80bfc44e0eb1dfd706",
       "version_major": 2,
       "version_minor": 0
      },
      "text/plain": [
       "Evaluation Run 13:   0%|          | 0/4000 [00:00<?, ?it/s]"
      ]
     },
     "metadata": {},
     "output_type": "display_data"
    },
    {
     "name": "stdout",
     "output_type": "stream",
     "text": [
      "BEST AGENT: 36829 (0.001004142086105184, DDDCCCDCCCDDDCDD)\n",
      "WORST AGENT: 18648 (1.0, CCDCCCCCCCCCCCCC)\n"
     ]
    },
    {
     "data": {
      "application/vnd.jupyter.widget-view+json": {
       "model_id": "15bb8232c7a84379bd409cd95dc5617c",
       "version_major": 2,
       "version_minor": 0
      },
      "text/plain": [
       "Training Run 14:   0%|          | 0/4000 [00:00<?, ?it/s]"
      ]
     },
     "metadata": {},
     "output_type": "display_data"
    },
    {
     "data": {
      "application/vnd.jupyter.widget-view+json": {
       "model_id": "a1a3d560350f4287a7569d91f988d914",
       "version_major": 2,
       "version_minor": 0
      },
      "text/plain": [
       "Evaluation Run 14:   0%|          | 0/4000 [00:00<?, ?it/s]"
      ]
     },
     "metadata": {},
     "output_type": "display_data"
    },
    {
     "name": "stdout",
     "output_type": "stream",
     "text": [
      "BEST AGENT: 34237 (0.16430348258706468, DCDCCCCCDCDCDCCC)\n",
      "WORST AGENT: 18450 (1.0, CCCCCCCCCDCCCCCC)\n"
     ]
    },
    {
     "data": {
      "application/vnd.jupyter.widget-view+json": {
       "model_id": "67cb93b7be66417c86be38e7d2a26793",
       "version_major": 2,
       "version_minor": 0
      },
      "text/plain": [
       "Training Run 15:   0%|          | 0/4000 [00:00<?, ?it/s]"
      ]
     },
     "metadata": {},
     "output_type": "display_data"
    },
    {
     "data": {
      "application/vnd.jupyter.widget-view+json": {
       "model_id": "8a9b418a2dce4dc99768a7d67a5c12ae",
       "version_major": 2,
       "version_minor": 0
      },
      "text/plain": [
       "Evaluation Run 15:   0%|          | 0/4000 [00:00<?, ?it/s]"
      ]
     },
     "metadata": {},
     "output_type": "display_data"
    },
    {
     "name": "stdout",
     "output_type": "stream",
     "text": [
      "BEST AGENT: 38253 (0.0, DCDDCCCCDCDDCDDD)\n",
      "WORST AGENT: 18798 (1.0, CCCCCCCCCCCDCCCC)\n"
     ]
    },
    {
     "data": {
      "application/vnd.jupyter.widget-view+json": {
       "model_id": "2094425fdd2f4aacbe4f64b16852988b",
       "version_major": 2,
       "version_minor": 0
      },
      "text/plain": [
       "Training Run 16:   0%|          | 0/4000 [00:00<?, ?it/s]"
      ]
     },
     "metadata": {},
     "output_type": "display_data"
    },
    {
     "data": {
      "application/vnd.jupyter.widget-view+json": {
       "model_id": "6c25bce54b0a4980a90f9a967dcc492c",
       "version_major": 2,
       "version_minor": 0
      },
      "text/plain": [
       "Evaluation Run 16:   0%|          | 0/4000 [00:00<?, ?it/s]"
      ]
     },
     "metadata": {},
     "output_type": "display_data"
    },
    {
     "name": "stdout",
     "output_type": "stream",
     "text": [
      "BEST AGENT: 30196 (0.4540424996856532, DCCDDCCDDDCDCCDC)\n",
      "WORST AGENT: 21468 (1.0, CCCCCCCCCDCCCCCC)\n"
     ]
    },
    {
     "data": {
      "application/vnd.jupyter.widget-view+json": {
       "model_id": "f8e68d67324a472aa3c016cf7d1b34b3",
       "version_major": 2,
       "version_minor": 0
      },
      "text/plain": [
       "Training Run 17:   0%|          | 0/4000 [00:00<?, ?it/s]"
      ]
     },
     "metadata": {},
     "output_type": "display_data"
    },
    {
     "data": {
      "application/vnd.jupyter.widget-view+json": {
       "model_id": "ff8d9bcc4aaf471cb36d1f6a76c68676",
       "version_major": 2,
       "version_minor": 0
      },
      "text/plain": [
       "Evaluation Run 17:   0%|          | 0/4000 [00:00<?, ?it/s]"
      ]
     },
     "metadata": {},
     "output_type": "display_data"
    },
    {
     "name": "stdout",
     "output_type": "stream",
     "text": [
      "BEST AGENT: 36212 (0.11940670572105197, DDDCCCCCCCDCCDCD)\n",
      "WORST AGENT: 20316 (1.0, CCCCCCCCCCDCCCCC)\n"
     ]
    },
    {
     "data": {
      "application/vnd.jupyter.widget-view+json": {
       "model_id": "1a5482d29bfd40d6a39f376b46f50c10",
       "version_major": 2,
       "version_minor": 0
      },
      "text/plain": [
       "Training Run 18:   0%|          | 0/4000 [00:00<?, ?it/s]"
      ]
     },
     "metadata": {},
     "output_type": "display_data"
    },
    {
     "data": {
      "application/vnd.jupyter.widget-view+json": {
       "model_id": "f6f4913d5cdd4c0e8581d860e3532cc8",
       "version_major": 2,
       "version_minor": 0
      },
      "text/plain": [
       "Evaluation Run 18:   0%|          | 0/4000 [00:00<?, ?it/s]"
      ]
     },
     "metadata": {},
     "output_type": "display_data"
    },
    {
     "name": "stdout",
     "output_type": "stream",
     "text": [
      "BEST AGENT: 30750 (0.21954925297543681, DCDCCDCCCCDCDCDC)\n",
      "WORST AGENT: 19599 (1.0, CCDCCCCCCCCCCCCC)\n"
     ]
    },
    {
     "data": {
      "application/vnd.jupyter.widget-view+json": {
       "model_id": "6842b8c69e0a45c08883650b1b8a70af",
       "version_major": 2,
       "version_minor": 0
      },
      "text/plain": [
       "Training Run 19:   0%|          | 0/4000 [00:00<?, ?it/s]"
      ]
     },
     "metadata": {},
     "output_type": "display_data"
    },
    {
     "data": {
      "application/vnd.jupyter.widget-view+json": {
       "model_id": "672e367ada85463889c8e8688f625493",
       "version_major": 2,
       "version_minor": 0
      },
      "text/plain": [
       "Evaluation Run 19:   0%|          | 0/4000 [00:00<?, ?it/s]"
      ]
     },
     "metadata": {},
     "output_type": "display_data"
    },
    {
     "name": "stdout",
     "output_type": "stream",
     "text": [
      "BEST AGENT: 32735 (0.14989293361884368, DCDCDDCCDCDCDCDC)\n",
      "WORST AGENT: 18927 (1.0, CCCCCCCCCCCDCCCC)\n"
     ]
    },
    {
     "data": {
      "application/vnd.jupyter.widget-view+json": {
       "model_id": "28f5d5fadaa2473192a544a7016924cb",
       "version_major": 2,
       "version_minor": 0
      },
      "text/plain": [
       "Training Run 20:   0%|          | 0/4000 [00:00<?, ?it/s]"
      ]
     },
     "metadata": {},
     "output_type": "display_data"
    },
    {
     "data": {
      "application/vnd.jupyter.widget-view+json": {
       "model_id": "5eabbc001d4d4dfc8d6ccc1f35c7a6b4",
       "version_major": 2,
       "version_minor": 0
      },
      "text/plain": [
       "Evaluation Run 20:   0%|          | 0/4000 [00:00<?, ?it/s]"
      ]
     },
     "metadata": {},
     "output_type": "display_data"
    },
    {
     "name": "stdout",
     "output_type": "stream",
     "text": [
      "BEST AGENT: 33545 (0.1378585558852621, DCDCDDCDDCDDDCCC)\n",
      "WORST AGENT: 18873 (1.0, CCCCCCCCCCCCCCCD)\n"
     ]
    }
   ],
   "source": [
    "# PAYOFF_LABELS = [\"(C, C)\", \"(C, D)\", \"(D, C)\", \"(D, D)\"]\n",
    "\n",
    "PAYOFF_LABELS = [\"R\", \"S\", \"T\", \"P\"]\n",
    "\n",
    "POPULATION = (2, 32)\n",
    "ROUNDS = 8_000\n",
    "\n",
    "run_rewards = []\n",
    "run_cumulative_rewards = []\n",
    "run_action_histories = []\n",
    "run_reward_histories = []\n",
    "run_policies = []\n",
    "\n",
    "for run in range(20):\n",
    "    # Generate a new population\n",
    "    agents, weights_matrix, G = generate_population(*POPULATION)\n",
    "\n",
    "    # Run a number of rounds\n",
    "    sim = WeightedNetworkSimulation(agents, weights_matrix)\n",
    "\n",
    "    # Training phase\n",
    "    sim.reset()\n",
    "    for i in tqdm(range(ROUNDS // 2), desc=f\"Training Run {run + 1}\"):\n",
    "        sim.play_round(train=True)\n",
    "\n",
    "    # Evaluation phase\n",
    "    for agent in agents:\n",
    "        agent.gameplay_strategy._epsilon = 0.0\n",
    "\n",
    "    sim.reset()\n",
    "    for i in tqdm(range(ROUNDS // 2), desc=f\"Evaluation Run {run + 1}\"):\n",
    "        sim.play_round(train=False)\n",
    "\n",
    "    # Store results\n",
    "    run_rewards.append(sim.rewards)\n",
    "    run_action_histories.append(sim.action_histories)\n",
    "    run_reward_histories.append(sim.reward_histories)\n",
    "    run_policies.append(compute_policies(agents))\n",
    "\n",
    "    # Output statistics for the best and worst agents\n",
    "    cumulative_rewards = [(i, sum(history)) for i, history in enumerate(sim.reward_histories)]\n",
    "    cumulative_rewards.sort(key=lambda x: x[1], reverse=True)\n",
    "\n",
    "    tqdm.write(\n",
    "        f\"BEST AGENT: {cumulative_rewards[0][1]} ({calculate_cooperativeness(list(chain(*sim.action_histories[cumulative_rewards[0][0]])))}, {run_policies[-1][cumulative_rewards[0][0]]})\"\n",
    "    )\n",
    "    tqdm.write(\n",
    "        f\"WORST AGENT: {cumulative_rewards[-1][1]} ({calculate_cooperativeness(list(chain(*sim.action_histories[cumulative_rewards[-1][0]])))}, {run_policies[-1][cumulative_rewards[-1][0]]})\"\n",
    "    )\n"
   ]
  },
  {
   "cell_type": "code",
   "execution_count": 7,
   "metadata": {},
   "outputs": [
    {
     "name": "stdout",
     "output_type": "stream",
     "text": [
      "1.0                      DDDCCCDCCDDCDDDD\n",
      "1.0                      DCDCDCCCDDDCDCCC\n",
      "1.0                      DCDDCDCCCCCDCCCC\n",
      "1.0                      DCDCDDCCCCDCCCCC\n",
      "1.0                      DCCDCCCCDCCCCCDC\n",
      "1.0                      DCDDCCDCCDDDCDDD\n",
      "1.0                      DDDCCCCDDCDCDCCC\n",
      "1.0                      DCDCCDDCCCDCDDDC\n",
      "1.0                      DCDCCCDCDDDCCCDD\n",
      "1.0                      DCDCDCDCDCDCCCDC\n",
      "1.0                      DCDDCCCCDCCCCCCC\n",
      "1.0                      DCDDCCCDCCDDCCDD\n",
      "1.0                      DDDCCCDCCCDDDCDD\n",
      "1.0                      DCDCCCCCDCDCDCCC\n",
      "1.0                      DCDDCCCCDCDDCDDD\n",
      "1.0                      DCCDDCCDDDCDCCDC\n",
      "1.0                      DDDCCCCCCCDCCDCD\n",
      "1.0                      DCDCCDCCCCDCDCDC\n",
      "1.0                      DCDCDDCCDCDCDCDC\n",
      "1.0                      DCDCDDCDDCDDDCCC\n",
      "2.0                      DCDCCCDDCCDDCCDD\n",
      "2.0                      DCDDCDCDCCDCCCDC\n",
      "2.0                      DCDDDCDDCCDCCCCC\n",
      "2.0                      DCDCDDCCDDDCDDDC\n",
      "2.0                      DDDCCCDCCCDCCCCC\n",
      "2.0                      DCDDCCDCCCDDCDDD\n",
      "2.0                      DCDCCCCCDCCCCCDD\n",
      "2.0                      CDCCCCDDCCDCCCCC\n",
      "2.0                      DDDDCDCCDCCCCCCC\n",
      "2.0                      DCDCDCCCDCDCCCDC\n",
      "2.0                      DDDCCCDCCCDCDCDC\n",
      "2.0                      DCDDDCDCCCDCCCDC\n",
      "2.0                      DCDCDDCCDCDDCCDC\n",
      "2.0                      DCCCCDCCDDCCDCCC\n",
      "2.0                      DDDCCCCCDCDCDCCC\n",
      "2.0                      DCDCDCDCCCDDCCDC\n",
      "2.0                      DCDCCCCCCCDCDCDC\n",
      "2.0                      DDDCDCCCCCDCDCCC\n",
      "3.0                      DCDCDCCCDCDDCCDC\n",
      "3.0                      DCDCCDCCCDDCDCDC\n",
      "3.0                      DCCCCDCDDCCCDCCC\n",
      "3.0                      DCCDCDCDDDCDCCCD\n",
      "3.0                      DDDCDCDCDCCCCCCC\n",
      "3.0                      DCDCDDCCDCDCDCCC\n",
      "3.0                      DCCCDDCCDDCCCCCC\n",
      "3.0                      DDDCCDCCDCDCDCDD\n",
      "3.0                      DDCCCDCCDDCDCDCC\n",
      "3.0                      DDCCCDCCDCCDCCDC\n",
      "3.0                      DCCDCCCCDDCCCCDC\n",
      "3.0                      DDCDCDCCDCCDCCCD\n",
      "3.0                      DCDDCCCCCDDCCDCC\n",
      "3.0                      DDDCCDCCDCDCDCCC\n",
      "3.0                      DCDCCCCCCCDCDCCC\n",
      "3.0                      DCCDDDCCDDCCCCCC\n",
      "3.0                      DDCDCCCCDCCCDCCD\n",
      "3.0                      DCDCCDCCCCDCDCCC\n",
      "4.0                      DCCDCCCCDCCDDCCD\n",
      "4.0                      DCDCCCCDCCCCDCCD\n",
      "4.0                      DDCCCCCCDCCCDDCC\n",
      "4.0                      DDDCCCCCDCDCCCCC\n",
      "4.0                      DDCCCDDCDDCCCDDC\n",
      "4.0                      DCDCDCDCCCDCCCCC\n",
      "4.0                      DCDCDCCCCDCCCCCC\n",
      "4.0                      DDDCCCCCCCDCDCCC\n",
      "4.0                      DCCCCDDDDCCCCCCC\n",
      "4.0                      DDCCCCDCDCCCCCDC\n",
      "4.0                      DDDCDCCCCCCCCCCC\n",
      "4.0                      DCDDDCCDDCCCCCCD\n",
      "4.0                      DCDCCCCCDCCCDCCC\n",
      "4.0                      DCDCDCCDDCDCDCDC\n",
      "4.0                      DCDCCCCDCCCCCDCC\n",
      "4.0                      DDCDCCDCDCCDCCCD\n",
      "4.0                      DCCDCDCCDCCCCCCD\n",
      "4.0                      DCDCDCCCCCDCCCCC\n",
      "4.0                      DDCDCDCDDDCDDCCC\n",
      "5.0                      DCDCDCCCCCCCDCCC\n",
      "5.0                      DDDCCCCCCCCCCDCC\n",
      "5.0                      DDCCCDCCDCCDDDCC\n",
      "5.0                      DDCCCCCCDCCCCDCC\n",
      "5.0                      DDDCCDDCDCDCCCCC\n",
      "5.0                      DCDDDCCCDDCCCCCC\n",
      "5.0                      DDDCCCCCDCCDDCCC\n",
      "5.0                      DCCDDCCCCCCDCCCC\n",
      "5.0                      DCCDCCCCDCCDCCCC\n",
      "5.0                      DCCDCCCCDCCDDCCC\n",
      "5.0                      DCDCCCCCDCDCCCCC\n",
      "5.0                      DCDCDCDCDDDCDCCD\n",
      "5.0                      DCCCDCCCDCCCCCDC\n",
      "5.0                      DCCCCCCCDDCCDCCC\n",
      "5.0                      DCCCDDCCDCCCCCDC\n",
      "5.0                      DDCDCDCCDCCDCCCC\n",
      "5.0                      DCCDDDCCDDCDCCCC\n",
      "5.5                      DCCCDCCDDCCCCCCC\n",
      "5.6                      DCCCDCCCDCCCDCCC\n",
      "6.0                      DDCCCCDCDCCCCCCC\n",
      "6.0                      DDDCCDCCCCCCCDDC\n",
      "6.0                      DCDCCCCCCCCDCCCC\n",
      "6.0                      DCCCCDCCDDCCDCDC\n",
      "6.0                      DCCDDCCCDCCDCCCC\n",
      "6.0                      DCCDCDCCDCCCDCCC\n",
      "6.0                      DDCCCDCCCDCCCCCC\n",
      "6.0                      DCCCCDCCDCCCCDCC\n",
      "6.0                      DCDCCCDCCDCCDDCC\n",
      "6.0                      DCDCCCCCCDDCCCDC\n",
      "6.0                      DDCCCCCCDDCCDCCC\n",
      "6.0                      DCCCDCCCDDCDCCCC\n",
      "6.0                      DDCCCCCDDCCCCCCC\n",
      "6.0                      DDDCCCDCCDDCCCCC\n",
      "7.0                      DCDCCCCCCCDDCCCC\n",
      "7.0                      DCCDDDCDDCCCCDCC\n",
      "7.0                      DDCCCDDDDDCCCCCD\n",
      "7.0                      DCCCDCDDDCCCCCDC\n",
      "7.0                      DDDDDDCCDCCCDCCC\n",
      "7.0                      DCCDCCDDDCCCDCCC\n",
      "7.0                      DDDCCDDCCDDCCDDC\n",
      "7.0                      DCCCCCCCDCCCCCCC\n",
      "7.0                      DCCCDDCCDCCDCCCD\n",
      "7.0                      DCDCCDCCCCCCCCCC\n",
      "7.0                      DDCCCCCCDCCCCCDC\n",
      "7.0                      DCCDDCCCDCCCCCCC\n",
      "7.0                      DCCDCCCDDCCCCCCC\n",
      "7.0                      DDCCDCCCCCCCDCCC\n",
      "7.0                      DCCDCDDDDCCDCCDC\n",
      "7.0                      CDCCCCDCCCDCCCCC\n",
      "8.0                      DDCCDCDCDCCDDDCC\n",
      "8.0                      DCCDCCCCCCCCCDCC\n",
      "8.0                      DDCCDDCCCCDCDDCC\n",
      "8.0                      DDCDCDCCCDCDCCCC\n",
      "8.0                      DCDCDDCCCDDCCCDC\n",
      "8.0                      DDCDDCDDDCCDCCCC\n",
      "8.0                      DCCDCCCCCCCDDDCD\n",
      "8.0                      DDDCCCCCDCCCCDCC\n",
      "8.0                      DCCDCDCCDCCDCDCC\n",
      "8.0                      DCCDCDCDDDCCCDCD\n",
      "8.0                      DDCCDCCDCCCCCDCD\n",
      "8.0                      DDCCCDDCDCCCCCCC\n",
      "8.0                      DDCCCCCCDDCCCDCC\n",
      "8.0                      DCCCCCCCDCCCDDCC\n",
      "8.333333333333334        DCDCCCCCCCDCCCCC\n",
      "8.5                      DDCCDCCCDCCDDCCC\n",
      "8.666666666666666        DCCCDCCCDCCCCCCC\n",
      "9.0                      DCCDCCCCCDCCDCCC\n",
      "9.0                      CDDCCDDCCCDCCDCC\n",
      "9.0                      DCDCCCCCCDCCDCCC\n",
      "9.0                      DDDCCDCCCDCCCDCC\n",
      "9.0                      DDCDCDCDDCCCDCCC\n",
      "9.0                      DCCCCCCCDDCDDCCC\n",
      "9.0                      DCCCDCCCDDCDDCCC\n",
      "9.0                      DCCDDCDCCCCCDCCD\n",
      "9.0                      CDCCDCCDCCCCCDCC\n",
      "9.0                      DDCCCDCCDCCCCCCC\n",
      "9.0                      DCCDDCCDCCCCCCCD\n",
      "9.0                      DCDCCCCCDCDDCCCD\n",
      "9.0                      DCCCDCDDDCCCCCCC\n",
      "9.0                      DCCCDDCDDCCCCCCC\n",
      "9.0                      CDCDCCDCCCDCCCCC\n",
      "10.0                     DDDCCDCDDDCCCDDC\n",
      "10.0                     DCCCDDCCDCCDDCCC\n",
      "10.0                     DCCCCCCCDDCCCCCC\n",
      "10.0                     DCDDCCCCCCCCCCCD\n",
      "10.0                     CDCDCDDCCDCCCCCC\n",
      "10.0                     DCDCDDCCCCCCCCCC\n",
      "10.0                     DCDCCCCCCCDCCDDC\n",
      "10.0                     DDDCCCDDDCCCCDCC\n",
      "10.0                     CDCCCCCCCCCCDCCC\n",
      "10.0                     DCDCCCCCCCCCDCCC\n",
      "10.0                     DCCCDCCCDCCDDCCC\n",
      "10.0                     DDCDCCCCCCCCCCCC\n",
      "10.0                     DCCCDCCCCDCCCDDC\n",
      "10.0                     DCCCDDCDDDCCCCCC\n",
      "10.0                     DCDDCCCCCCCCCCDC\n",
      "10.5                     DCCCDDCCDCCDCCCC\n",
      "11.0                     DCDCCDCCCCDCCCCC\n",
      "11.0                     DCCCDDDCDCCCCCCD\n",
      "11.0                     DCCCCDCCCDCCDCCD\n",
      "11.0                     DDCCCCDCCCCDCCCC\n",
      "11.0                     DDCDCCCCDCCDCDCC\n",
      "11.0                     DCCCDDCDDCCCDCCC\n",
      "11.0                     DCCCDCDDDCCDCCCC\n",
      "11.0                     DCCCCCCCCDCDCDCC\n",
      "11.0                     DCCCCDCCDCCCCCCC\n",
      "11.0                     DCCCCCCCDDCCCDCC\n",
      "11.0                     DDCCCDDCCCCDDDCC\n",
      "11.0                     DCCCCDCCCDCCCDCC\n",
      "11.0                     DDCDCCDCCDCCCDCC\n",
      "11.0                     DCCCCDCCDCCCCCDC\n",
      "11.5                     DDCCCCCCCDCCDDCC\n",
      "12.0                     DCCDCCCCDCCCCCCC\n",
      "12.0                     DCCCCDDCDCCCCCCC\n",
      "12.0                     DCCCCCCCCCCCDDCC\n",
      "12.0                     CDCCCCCDCCCDCCCD\n",
      "12.0                     DCCCCCCCDDCCDDCC\n",
      "12.0                     DCCCCDDCCCCCCCCC\n",
      "12.0                     DDCCCCCCDDCCCCCC\n",
      "12.0                     DCCCCDCCDDCCCCCC\n",
      "12.0                     DDCCCCCCDCCCCCCC\n",
      "12.0                     DCCCCDCCCDDCCCCC\n",
      "12.0                     DDCDCDCDCDCDCCCC\n",
      "12.875                   DCDCCCCCCCCCCCCC\n",
      "13.0                     DDCDCDCCCDCDCDDC\n",
      "13.0                     DCCCDCCDDDCCCDCC\n",
      "13.0                     DDCCCDCCCCCCCCCC\n",
      "13.0                     DCCCCCCCCCCDCCCD\n",
      "13.0                     DCCDDDCCCCCCDCCC\n",
      "13.0                     DDCCDCDCCCCCCDDC\n",
      "13.0                     CDDCDDCCCCCCCDCC\n",
      "13.0                     DCCCDDDCCCCDCDDC\n",
      "13.25                    DCCCDCCCCDCCCCCC\n",
      "14.0                     DCDDDCCCCCCCCCCC\n",
      "14.0                     DCCCDCCDCCCCDCCC\n",
      "14.0                     CDDCDCDDCCCDCCCD\n",
      "14.0                     DCCCDCCCDDCCCDCC\n",
      "14.0                     CDCCCCDDCDCCDCDC\n",
      "14.0                     CDCCCDDCCCCCCDCD\n",
      "14.0                     DDCCCCCCCDCCCDCC\n",
      "14.0                     DCCCDDCDCCCDCCCC\n",
      "14.0                     DCCCCDCCCCDDCDCC\n",
      "14.0                     DCCCDDCDCCCDDDCC\n",
      "14.0                     DDCCDDCCCCCDCCCC\n",
      "14.0                     CCCCCDCCCCCDCCCC\n",
      "14.0                     DCCDDDCCCCCCCCCC\n",
      "14.0                     CDCCDDCCCDCCCCDC\n",
      "14.5                     CDCCCCDCCCCCCDCC\n",
      "15.0                     DDDCCCCCCCCCDCCC\n",
      "15.0                     DCDCCCDCCCDCCCDC\n",
      "15.0                     CDDDCDCCCCCCCCCC\n",
      "15.0                     DCCCDCCCCCCCCDCC\n",
      "15.0                     CDDCCDDCCCCDCCCD\n",
      "15.0                     CDCCDCCDCCCCDDDD\n",
      "15.0                     DCCCDCCCCCCDCCCC\n",
      "15.0                     CCCDCDCCCCCCCDCC\n",
      "15.0                     DCCCDDCCDCCCCCCC\n",
      "15.0                     DCCCDCCCDDCCCCCC\n",
      "15.0                     DCCCCCDCCCCCCDCC\n",
      "15.0                     CCCCDCCCCCCCDCCC\n",
      "15.0                     DDCDCDCDCCCCCCCD\n",
      "15.0                     DCCDCCCCCCCDCCCC\n",
      "15.666666666666666       DCCCCCCCCCCCCDCC\n",
      "16.0                     DCCCDCCDDCCCCDCC\n",
      "16.0                     DCDDCCCCCCCCDCCD\n",
      "16.0                     DCCCCCDCCCCCDCDD\n",
      "16.0                     CDCDCCCDCCCCCCCC\n",
      "16.0                     DCDCCCDCDDDCCCCC\n",
      "16.0                     DCCCDCCCDCCCCDCC\n",
      "16.0                     DCCCCCDCCDCCCCCC\n",
      "16.0                     DCCCDCCCCCDCDCDD\n",
      "16.0                     DCCCCDCCCCDCCCCC\n",
      "16.0                     DCCCCDCDCCCCCCCC\n",
      "17.0                     CDCCCDDCCCCCDCDC\n",
      "17.0                     DDDCCCCCDDCCCCCC\n",
      "17.0                     CCDCCCDDCCCCDCCD\n",
      "17.0                     CDCCCDCDCDCCCCCC\n",
      "17.0                     CDCDDCCDCCCDDCCC\n",
      "17.0                     DCDCCCCCCDCCCDCC\n",
      "17.0                     CDCDCDCCCDCCCCCC\n",
      "17.0                     CDCDDCCCCCCCCCCC\n",
      "17.0                     CCCCDCCCCCCDCCCC\n",
      "17.0                     CCCCDCCDCCCCCCCC\n",
      "17.0                     DCCCDCCCCDCCCCDC\n",
      "17.0                     CDCDCCDDCDCDCDCC\n",
      "17.5                     CDCCCDDCCCDCCCCC\n",
      "17.5                     DCCCDDDCCCCCCCCC\n",
      "18.0                     CCDCDCDCCCCCCCDC\n",
      "18.0                     CDDCCCCCCCCDCCCC\n",
      "18.0                     DCCCCDCCCCCCCCCC\n",
      "18.0                     DCCCDCCCDCCCDCCD\n",
      "18.0                     DDCCCCDCCCCCCCCC\n",
      "18.0                     DCCCCCDCCCCCCCCC\n",
      "18.0                     CCDDDCCCCCCCCCCC\n",
      "18.0                     DCCCCCCDCDCCCCCC\n",
      "18.0                     CCCDCCCCCDCCDDCD\n",
      "18.0                     DCCCCCCDCCDCCCCC\n",
      "18.0                     CDCCCDCCDDCCCCCC\n",
      "18.5                     CDCCCCCDCCCCCDCC\n",
      "18.666666666666668       DCCCCCCCCCCDCCCC\n",
      "19.0                     CDCCCDCCCCCCCDDC\n",
      "19.0                     DCCCDDCCCCDDCCCC\n",
      "19.0                     CCCCDCCCCDCCDDCC\n",
      "19.0                     CDCCCCCCCCCDCCCC\n",
      "19.0                     DDCCDCDCCCCCCCCC\n",
      "19.0                     CDDCCDDCCDCCDDCC\n",
      "19.0                     CCDDCCCCCCCCCCDC\n",
      "19.0                     DCCCCCDCCDCDDCCC\n",
      "19.0                     DDCCCCDCCCCCDCCC\n",
      "19.0                     DCCDCCDCCCCCCDCC\n",
      "19.25                    CDCCCCCDCCCCDCCC\n",
      "20.0                     DCDCCCDCCCCCCCCC\n",
      "20.0                     DCCCCCCCCDCCCCCC\n",
      "20.0                     CDDCCCCCCCCCCCDC\n",
      "20.0                     DDCCCCCDCCCCCCCC\n",
      "20.0                     DCCCDCCCCCCCCCCD\n",
      "20.0                     DCDCDCDCCCCCCDCC\n",
      "20.0                     CDCCDDDCCCCCCCCC\n",
      "20.0                     CCCDCCCDCCCCCDCD\n",
      "20.0                     CDCCCCDDCDCCDDCC\n",
      "20.0                     DCCCCCCCCDCCCCCD\n",
      "20.0                     CDCCCCDCCCCDCDCC\n",
      "20.0                     DCCCCDCCCCCCDCCC\n",
      "20.0                     DCCCCCCDCCCDCDCC\n",
      "21.0                     DCCCCDCCDDCCCCDC\n",
      "21.0                     CDDCDDDCCDCCCCCC\n",
      "21.0                     CCDCCDCDCCCDCCCC\n",
      "21.0                     CDDCCCCCCDCCCDCC\n",
      "21.0                     CDDCCCCDCCCCCCCD\n",
      "21.0                     DCCCCCCCCCCCCCDC\n",
      "21.0                     CDCDCDDDCCCCCDDC\n",
      "21.0                     CDCCCDCDCDCDCCDC\n",
      "21.0                     CDCDDDCCCCCCCDCC\n",
      "22.0                     DDCCCCDCCCCCCDCC\n",
      "22.0                     CDCCCCCCCCCCDCDC\n",
      "22.0                     CCCCDDCCCCCCCCCC\n",
      "22.0                     CCDDDDCCCCCDCCDC\n",
      "22.0                     CDCCCCCDCDCCCDCC\n",
      "22.0                     CCCCDDCCCDCCCCCC\n",
      "22.0                     CDDCCDDCCDDCCDDC\n",
      "22.0                     CDCCCDCCCDDCDCCC\n",
      "22.0                     CCDCCCDCCCCDCCDC\n",
      "22.0                     DDCCDCCCCCCCCCCD\n",
      "22.0                     DCCCCCCCCCCCCCCD\n",
      "22.0                     DDCCCCCCCCCCCCCD\n",
      "22.166666666666668       DCCCCCCCCCCCDCCC\n",
      "22.5                     DCCCCCCCCCDCCCCC\n",
      "23.0                     CDDCCDDCCCCCCCCC\n",
      "23.0                     CDCDCCDCCCCDCCCC\n",
      "23.0                     DCCCCCCCCDDCCCCC\n",
      "23.0                     CDDDCDCDCCCCCCCC\n",
      "23.0                     CCCCCCCCCCCCDCCD\n",
      "23.0                     DDCCDCCDDCCCCCCC\n",
      "23.0                     CCDCDDDCCCCCDCDC\n",
      "23.0                     CCDCCCCDCCCCCDCC\n",
      "23.0                     CDCCCCCDCDCDCCCC\n",
      "23.0                     CCDCDDDCCCCCCCCC\n",
      "23.0                     CCCCDCCCCCCDDCCC\n",
      "23.0                     DCCCCCDCCCCDCCCC\n",
      "23.0                     DCCCCCCCCCDCCCCD\n",
      "23.0                     CDCCCDCDCDCDDDDC\n",
      "23.0                     DCCCDCCDCCCDCCCC\n",
      "23.4                     CDCDCCCCCCCCCCCC\n",
      "23.666666666666668       DCCCCCCCCCCCCCCC\n",
      "24.0                     CDCDCCCCCCCDCCCC\n",
      "24.0                     CDCDCDCDCCCCCCCD\n",
      "24.0                     DCCDCCCCCCCCCCCD\n",
      "24.0                     CDCDCCCCCCCCCCDC\n",
      "24.0                     CDCDCDCCCCCDCCCC\n",
      "24.0                     CDCCCDDCCDCCCDCC\n",
      "24.0                     CDCDCCDCCCCCCCCC\n",
      "24.0                     DCCCCCCCCCCCDCCD\n",
      "24.0                     DDCCCCCCCCCCCCCC\n",
      "24.5                     CDCCCDCCCCCCCDCC\n",
      "25.0                     CDDDCCCDCDCDCCCC\n",
      "25.0                     DCDCCCCCDCCCCCCC\n",
      "25.0                     CCCCDCCCCCCCCDCC\n",
      "25.0                     DCCCDCCDCDCCCDCC\n",
      "25.0                     CDCCCCCCCDCCCDCC\n",
      "25.0                     CCCDCDDCCDCDDDCD\n",
      "25.0                     CCCCDCCDCDCCCCCC\n",
      "25.0                     CDCCCCCDCCCCCCCD\n",
      "25.0                     CCDCDCCCCCCCCCCC\n",
      "25.0                     CDCCCCCDCCCCDCCD\n",
      "25.0                     CDCDCDCDCDCDDDCC\n",
      "25.142857142857142       DCCCDCCCCCCCCCCC\n",
      "25.857142857142858       CDCCCCCCCCCCCDCC\n",
      "26.0                     CDCCCDCCCDCCCDCC\n",
      "26.0                     CCCCDCDCCCCCCCCD\n",
      "26.0                     CDCDCDCCCDCCCCCD\n",
      "26.0                     CDDCCCCCCDCCCCCC\n",
      "26.0                     CDCCCDCDCCCCCDCC\n",
      "26.0                     CCCDCCDCCCCCDCCD\n",
      "26.0                     CDCDDCCCCCCDCCCC\n",
      "26.0                     CDCDCCCCCDCDCCCC\n",
      "26.25                    CDCCCCDCCCCCCCCC\n",
      "26.5                     CCCCDDCCCCCCCDCC\n",
      "27.0                     CDCCCCCDCCCCCCDD\n",
      "27.0                     CCDCDCCCCCCDCCCC\n",
      "27.0                     CDDDDDDCCCCCCDCC\n",
      "27.0                     CDCCCDCCCCDCCCCC\n",
      "27.0                     CDDCCCCCCCCCCCCC\n",
      "27.0                     DCCCDCCCCCCCDCCC\n",
      "27.0                     CCCDCCDCCDCCCCCC\n",
      "27.0                     CDCCCDCCCDCCDDCC\n",
      "27.0                     CDCDCCCDCCCCCDCC\n",
      "27.0                     CCCDDDCCCCCCCCCC\n",
      "27.0                     CCCCCDCCCCCDCDDC\n",
      "27.333333333333332       CDCCCDCDCCCCCCCC\n",
      "27.666666666666668       CDCCCCCCCDCCCCCC\n",
      "28.0                     CDCCCCCCCCCCCDDC\n",
      "28.0                     CDCCCCCCCDCCDCCC\n",
      "28.0                     CDDCCDCCCDCCCDCD\n",
      "28.25                    DCCCCCCDCCCCCCCC\n",
      "28.333333333333332       CCDCCCCCCCDCCCCC\n",
      "28.5                     DDCCCCCCCCCCDCCC\n",
      "29.0                     CCCDCDCDCCCCCCCD\n",
      "29.0                     CDCCCDCCCCCCCCDC\n",
      "29.0                     CDCCCCCDCDCCCCCC\n",
      "29.0                     CDCCCDCCCDCCDCCC\n",
      "29.0                     CDDCCCCCCCCCCCDD\n",
      "29.0                     CDCCCDCCCCCCDDCC\n",
      "29.333333333333332       CDCDCDCCCCCCCCCC\n",
      "30.0                     DCCCCDCCCDCDDCCC\n",
      "30.0                     CCCCCCDCCCCDCDCD\n",
      "30.0                     CCCCCCDDCCCCCCCD\n",
      "30.0                     CCCCDCCCCCCDCCCD\n",
      "30.0                     CDDCCDCCCCCDCCCC\n",
      "30.0                     DCCCCCDCCCCDDCCC\n",
      "30.473684210526315       CDCCCCCCCCCCCCCC\n",
      "30.833333333333332       CDCCCDCCCCCCCCCC\n",
      "31.0                     CDDCCCCCCDCCCCCD\n",
      "31.0                     CCCDCCCDCDCCCCCC\n",
      "31.0                     CDCDCDCCCCCCCDCC\n",
      "31.0                     CCCCCDCDCDCCCCCC\n",
      "31.0                     CDCDCCCDCCCDDCCD\n",
      "31.0                     CCDDCDCCCCCCCCCC\n",
      "31.0                     CDDCCCCDCCCCDCCC\n",
      "31.0                     CDCCCDCCCCCCDCCD\n",
      "31.5                     CCDCCCCDCCCCCCCC\n",
      "31.666666666666668       CDCCCCCCCCCCCCDC\n",
      "32.0                     DCCCDCCCCDCDCCCC\n",
      "32.0                     CDCCCDCCCCCDCDCC\n",
      "32.0                     CCCCCDCDCCCDCDCC\n",
      "32.0                     CCCCCDCCCDCCCCDC\n",
      "32.57142857142857        CCCCDCCCCCCCCCCC\n",
      "32.666666666666664       CDCCCDCCCDCCCCCC\n",
      "32.714285714285715       CCDCCDCCCCCCCCCC\n",
      "33.0                     CDDCCCCCDCCCCCCC\n",
      "33.0                     DCCCDCCCCCCDCDCC\n",
      "33.0                     CCCCCCDCCCCCCDCC\n",
      "33.0                     DDCCCCCCCCDCDCCC\n",
      "33.0                     CCDDCCCDCCCDCCCD\n",
      "33.0                     CDCCCCCCCCCCCCCD\n",
      "33.5                     CDCDCCCCCCCCCDCC\n",
      "33.666666666666664       CCCCCCDCCCCDCCCC\n",
      "34.0                     CDCCCCCCDCDCCCCC\n",
      "34.0                     CCCCCDDCCDCCCCCC\n",
      "34.0                     CDDCCDCCCDCCCDCC\n",
      "34.166666666666664       CCCCDCCCCDCCCCCC\n",
      "34.5                     CCCCCDCCCCCCCCDC\n",
      "35.0                     DCCCDDCCCCCCCCCC\n",
      "35.0                     CDCCCCCDCDDCCCCC\n",
      "35.25                    CCCCCDCCCDCCCCCC\n",
      "35.4                     CCCDCCCDCCCCCCCD\n",
      "35.5                     CCCDCCDDCCCCCCCC\n",
      "36.0                     CDCDCCCCCCCCCCCD\n",
      "36.0                     CCCCCDCCCDCDCCCC\n",
      "36.0                     CCCDCCDCCCCCDCCC\n",
      "36.0                     CCCCDCCDCDCCCCCD\n",
      "36.0                     CCCCCDCCCDCCCCCD\n",
      "37.0                     CCCCCCCCCCCDDCCC\n",
      "37.0                     CCDCCCCCDCCCCCDC\n",
      "37.0                     CCCCCCCCCCCCCCDD\n",
      "37.0                     CDCDCDDDCCCDCCCC\n",
      "38.0                     CCCDCDCDCCCCDCCC\n",
      "38.0                     CCCDCCDDCDCCCCCC\n",
      "38.5                     CCDCCCDCCCCCCDCC\n",
      "39.0                     CCDCDCDCCDCCCCCC\n",
      "39.0                     CCCCDCCCDCCCCCCC\n",
      "39.0                     CDDDDDCCCCCDCCCD\n",
      "39.0                     CCCDCCCDCCCDDDCD\n",
      "40.0                     CDCDCCCCCCCCDCDD\n",
      "40.0                     CCCCCDCCCCCCCDCD\n",
      "40.0                     CCCCDCCDCCCCCCCD\n",
      "40.0                     CDCCDDCCCCCDCCCD\n",
      "40.0                     CCDCCCDCCCDCCCCC\n",
      "40.25                    CCCDCCCDCCCDCCCD\n",
      "40.25                    CCCCDCCCCCCCCCCD\n",
      "40.5                     CCCDCCCDCCCCDCCC\n",
      "40.666666666666664       CCCCCDCCCCCCCDCC\n",
      "41.0                     CCDDCCDCCCCDCDCC\n",
      "41.0                     CCDDCCCDCCCDCCCC\n",
      "41.35                    CCCCCDCCCCCCCCCC\n",
      "41.5                     CDCCDDCCCCCDCCCC\n",
      "41.5                     CCCCCCCCCDCCDCCC\n",
      "42.0                     CCCCCDCCCDCCCDCC\n",
      "42.0                     CCCCCCDCCCCCDCDC\n",
      "42.0                     CCCCCCCCCDCDDCCC\n",
      "42.0                     CCDCCCDCCCCCCCDC\n",
      "42.0                     CCCDCCCCCCCDDCCC\n",
      "42.0                     CDDCCDCCCCCCCCCD\n",
      "42.166666666666664       CCCDCCCCCCCCCCCD\n",
      "42.25                    CCCDCCCCCDCCCCCC\n",
      "42.5                     CCCDCCCDCCCCCCDC\n",
      "42.5                     CCCCCDCCCCCCDCCC\n",
      "42.6                     CCCCCCCCCCCCCCCD\n",
      "42.666666666666664       CCCCCCCCCCCCCDCD\n",
      "42.833333333333336       CCCCDCDCCCCCCCCC\n",
      "43.0                     CCDCCCCCCCCCCCCD\n",
      "43.0                     CCCCCDCDCCCDCCDC\n",
      "43.0                     CCCDCCDDCCCCCCDD\n",
      "43.0                     CCCCCDCDCCCCDCCC\n",
      "44.0                     CCCCCCCCCDCCCCDC\n",
      "44.0                     CCCDCCCDCDCDCCCD\n",
      "44.0                     CDDCDDCDCDCCCCDD\n",
      "44.0                     CDCCDDCCCDCCCCCC\n",
      "44.0                     CCCCCCDCCDCCCCCC\n",
      "44.0                     CCCDDCCCCCCDCCCC\n",
      "44.2                     CCCDCCDCCCCCCCCC\n",
      "44.2                     CCDCCCCCCCCCCDCC\n",
      "44.5                     CCCCCDDCCCCCCCCC\n",
      "45.0                     CCDCCCCCCCDCCCDC\n",
      "45.0                     CCDCCCCCDCCCCDCC\n",
      "45.0                     CCCDCCCCCCCDCDCD\n",
      "45.0                     CCCCDCCCCCCCDDCD\n",
      "45.0                     DCDCCCDCCCCCCCCD\n",
      "45.0                     CDDDCCCCCCCDCDDC\n",
      "45.0                     CCCDDCCCCCCCCCCD\n",
      "45.25                    CCDCCCCCCCCDCCCC\n",
      "45.375                   CCCCCCCCCCCCDCCC\n",
      "45.43333333333333        CCDCCCCCCCCCCCCC\n",
      "45.5                     CCCDCCCCCCCCDCDC\n",
      "45.5                     CCCCCCCDCCCCCDCC\n",
      "45.64327485380117        CCCCCCCCCCCCCCCC\n",
      "45.75                    CCCDCCCDCCCCCCCC\n",
      "46.0                     CCDCCCCCDCCCCCCC\n",
      "46.0                     CDCDDDCCCDCCCDCC\n",
      "46.0                     CCCCCCCCCCCDCCDC\n",
      "46.0                     CCCCCCCCCCCDCCCD\n",
      "46.0                     CDCCCCCCCDCCCDDC\n",
      "46.0                     CCCCDCDDCCCCCCCC\n",
      "46.333333333333336       CCCDCCCCCCCCDCCD\n",
      "46.333333333333336       CCCCCCCCCCCCDDCC\n",
      "46.40909090909091        CCCCCCCCCDCCCCCC\n",
      "46.5                     CCCCCCCCCCCCCDDC\n",
      "46.95454545454545        CCCCCCCDCCCCCCCC\n",
      "47.0                     CCCDCCCDCCCCDCCD\n",
      "47.0                     CDCDDCCCCCCDDCCC\n",
      "47.0                     DCCCDDDCCCCDCCDC\n",
      "47.0                     CCDDCCCCCCCCCCCC\n",
      "47.0                     CCCCCCDCCCCCCCCD\n",
      "47.27272727272727        CCCCCCCCCCCCCDCC\n",
      "47.5                     CDCCCCCCCCCDCDCC\n",
      "47.9                     CCCDCCCCCCCCCCCC\n",
      "48.0                     CCCDCCCDCCCDCCDC\n",
      "48.0                     CCCDCCCCCCCCCDCC\n",
      "49.0                     CCCDCCCCCCCCDCCC\n",
      "49.0                     CCCCCDCDCCCCCCCD\n",
      "49.0                     CCCDCDCCCCCCCCCC\n",
      "49.0                     CCCCDCCCCDCCCDCC\n",
      "49.0                     CCDCCCCDCCCCCDCD\n",
      "49.5                     CCCCCCCDCCCDCCCC\n",
      "49.5                     CCCDCCCCCCCDCDCC\n",
      "49.5                     CCDCCCCCCCCDCCDC\n",
      "49.666666666666664       CCCCCCCCCCCDCCCC\n",
      "50.0                     CCDCCDCCCCCCCCDC\n",
      "50.0                     CCCCCCCCCCCCDDDC\n",
      "50.333333333333336       CCCCCDCDCCCCCCCC\n",
      "50.5                     CCDCCCCCCCCCCCDC\n",
      "50.5                     CCCDCCCCCDCCCCDC\n",
      "50.55555555555556        CCCDCCCCCCCDCCCC\n",
      "50.92857142857143        CCCCCCDCCCCCCCCC\n",
      "51.0                     CCDCDCCCCCCCCCDC\n",
      "51.0                     CCCCCCDCCCCCDDCC\n",
      "51.0                     CCDCDDCCCCCCCCCC\n",
      "51.0                     CCDDCCDCCCCDCCCC\n",
      "51.0                     CCCDCDCCCCDCCCDC\n",
      "51.0                     CCCCCDCDCDCDCDCC\n",
      "51.5                     CCCCCCCCDCCCCCCC\n",
      "52.0                     CCDCCDDCCCCCCCCC\n",
      "52.0                     CCCDCCDDCCCCDCCC\n",
      "52.0                     CCCDCCCCCDCDDCCD\n",
      "52.285714285714285       CCCCCCCCCCCCCCDC\n",
      "52.333333333333336       CCCCCCDCCCCCCCDC\n",
      "52.5                     CCDCCCCCCCDCCCCD\n",
      "53.0                     CCCCDCCDCCCCCCDC\n",
      "53.0                     CCCCCCDCDCCCCCCC\n",
      "53.5                     CCCCDCCCCCCCCCDC\n",
      "53.75                    CCCDCCCCCCCCCCDC\n",
      "54.0                     CCDDCCCCCCCCCCDD\n",
      "54.0                     CCDCCDCCCCCDCCCC\n",
      "54.5                     CCCCCCCCCCCDCDCC\n",
      "55.0                     CCCCDCCCCCDCCCCC\n",
      "55.0                     CCCDCDCCCCCCCCDC\n",
      "55.0                     CCCCCCDCCDCDCCCC\n",
      "56.0                     CCDCCCDCCCCCCCCC\n",
      "56.0                     CCCCCCCCCDCDCCCD\n",
      "56.0                     CCDCCCDCCCCCCCCD\n",
      "57.0                     CCCCCCCDCCCDDCCC\n",
      "57.0                     CCDCCCCCCDCCCCCC\n",
      "57.0                     CCDCCCDCCCCDCDDD\n",
      "57.0                     CCCCCCCCDCCDCCCC\n",
      "57.0                     CCDCCCCDCCCDDCCC\n",
      "57.0                     CCCCCCCDCDCCCCCC\n",
      "58.0                     CCCCCCCDCCCDDCCD\n",
      "58.0                     CCCCCCCCCCCCDCDC\n",
      "58.0                     CCDCCCCDCCDCCCDC\n",
      "58.666666666666664       CCCDCCCDCCCDCCCC\n",
      "59.0                     CCCCCCDCCCCCDCCC\n",
      "59.0                     CCCDCCCCCCCCDDCD\n",
      "60.0                     CCDDCCCDCCCCCCCD\n",
      "60.333333333333336       CCCCCCCCDCCCCCDC\n",
      "61.0                     CCCDCCCCCCCDCCCD\n",
      "61.0                     CCCCCCCDCDCCCCCD\n",
      "61.0                     CCCCCCCCCDCDCCCC\n",
      "61.0                     CCCCCCCCCCCDDCCD\n",
      "62.0                     CCCDCCDCCCCCCDCD\n",
      "63.0                     CCDDCCDCCCCCCCCC\n",
      "63.0                     CCCDCCDCCCCDDCCC\n",
      "63.0                     CCCCCCCDCCCCCCCD\n",
      "63.0                     CCCDCCDCCCCDCCCC\n",
      "63.0                     CCDDCCCCCCCCCDCC\n",
      "63.0                     CCCCCCCDCCCCDCCC\n",
      "64.0                     CCCCCCCCCCDCCCCC\n"
     ]
    }
   ],
   "source": [
    "cumulative_reward_policy_ranks = {}\n",
    "\n",
    "for policies, reward_histories in zip(run_policies, run_reward_histories):\n",
    "    cumulative_rewards = [(i, sum(history)) for i, history in enumerate(reward_histories)]\n",
    "    cumulative_rewards.sort(key=lambda x: x[1], reverse=True)\n",
    "\n",
    "    for rank, (i, cumulative_reward) in enumerate(cumulative_rewards):\n",
    "        policy = policies[i]\n",
    "\n",
    "        if policy not in cumulative_reward_policy_ranks:\n",
    "            cumulative_reward_policy_ranks[policy] = []\n",
    "\n",
    "        cumulative_reward_policy_ranks[policy].append(rank + 1)\n",
    "\n",
    "mean_cumulative_reward_policy_ranks = {policy: np.mean(ranks) for policy, ranks in cumulative_reward_policy_ranks.items()}\n",
    "\n",
    "for policy in sorted(mean_cumulative_reward_policy_ranks, key=lambda x: mean_cumulative_reward_policy_ranks[x]):\n",
    "    print(f\"{mean_cumulative_reward_policy_ranks[policy]:<24} {policy}\")"
   ]
  }
 ],
 "metadata": {
  "kernelspec": {
   "display_name": "ml",
   "language": "python",
   "name": "python3"
  },
  "language_info": {
   "codemirror_mode": {
    "name": "ipython",
    "version": 3
   },
   "file_extension": ".py",
   "mimetype": "text/x-python",
   "name": "python",
   "nbconvert_exporter": "python",
   "pygments_lexer": "ipython3",
   "version": "3.10.8"
  },
  "orig_nbformat": 4,
  "vscode": {
   "interpreter": {
    "hash": "ea8fc3f6c7fa3223c55434ded24c0b3b1260e6c6965b48cfc542164a121bf59d"
   }
  }
 },
 "nbformat": 4,
 "nbformat_minor": 2
}
