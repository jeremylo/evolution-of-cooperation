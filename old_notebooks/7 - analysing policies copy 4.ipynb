{
 "cells": [
  {
   "cell_type": "code",
   "execution_count": 1,
   "metadata": {},
   "outputs": [],
   "source": [
    "from itertools import chain\n",
    "from random import random\n",
    "\n",
    "import matplotlib.pyplot as plt\n",
    "import numpy as np\n",
    "from tqdm.notebook import tqdm\n",
    "\n",
    "from society.action import Action\n",
    "from society.agent import Agent, TrainableAgent\n",
    "from society.simulations.weighted import WeightedNetworkSimulation\n",
    "from society.strategies.gameplay.constant import AllC, AllD\n",
    "from society.strategies.gameplay.qlearning import TabularQLearningGameplayStrategy\n",
    "from society.strategies.gameplay.random import RandomGameplayStrategy\n",
    "from society.strategies.gameplay.tft import TitForTat\n",
    "from society.visualisation.network import *\n",
    "\n",
    "plt.rcParams[\"figure.figsize\"] = (10, 6)"
   ]
  },
  {
   "cell_type": "code",
   "execution_count": 2,
   "metadata": {},
   "outputs": [],
   "source": [
    "def generate_population(communities, size):\n",
    "    population = communities * size\n",
    "\n",
    "    agents = [\n",
    "        Agent(TabularQLearningGameplayStrategy(lookback=1), i, population)\n",
    "        for i in range(population)\n",
    "    ]\n",
    "\n",
    "    G = nx.connected_caveman_graph(communities, size)\n",
    "\n",
    "    weights_matrix = np.zeros((population, population))\n",
    "    for u, v, d in G.edges(data=True):\n",
    "        weights_matrix[u, v] = weights_matrix[v, u] = 1.0\n",
    "        try:\n",
    "            d[\"weight\"] = weights_matrix[u, v]\n",
    "        except:\n",
    "            d[\"weight\"] = 0\n",
    "\n",
    "    return agents, weights_matrix, G"
   ]
  },
  {
   "cell_type": "code",
   "execution_count": 3,
   "metadata": {},
   "outputs": [],
   "source": [
    "def compute_policies(agents, rankings):\n",
    "    policies = [\n",
    "        (agents[partner[0]].gameplay_strategy._q_table.argmax(axis=-1), partner[1])\n",
    "        for partner in rankings\n",
    "    ]\n",
    "\n",
    "    return [\n",
    "        (\n",
    "            \"\".join(\n",
    "                [\n",
    "                    (\"C\", \"D\")[policy[0][i]]  # , j, k\n",
    "                    for i in range(4)\n",
    "                    # for j, b in enumerate(ACTION_LABELS)\n",
    "                    # for k, c in enumerate(ACTION_LABELS)\n",
    "                ]\n",
    "            ),\n",
    "            policy[1],\n",
    "        )\n",
    "        for policy in policies\n",
    "    ]\n",
    "\n",
    "def calculate_cooperativeness(history):\n",
    "    count = history.count(Action.COOPERATE)\n",
    "\n",
    "    return count / len(history)"
   ]
  },
  {
   "cell_type": "code",
   "execution_count": 4,
   "metadata": {},
   "outputs": [
    {
     "data": {
      "application/vnd.jupyter.widget-view+json": {
       "model_id": "60f6935c1d0d4141be824b89ad7439dd",
       "version_major": 2,
       "version_minor": 0
      },
      "text/plain": [
       "Run 1:   0%|          | 0/5000 [00:00<?, ?it/s]"
      ]
     },
     "metadata": {},
     "output_type": "display_data"
    },
    {
     "name": "stdout",
     "output_type": "stream",
     "text": [
      "BEST REWARD: 31861        WORST REWARD: 21571\n",
      "BEST COOPERATOR: 0.9414936102236422 WORST COOPERATOR: 0.3239009600808489\n"
     ]
    },
    {
     "data": {
      "application/vnd.jupyter.widget-view+json": {
       "model_id": "694c784c64c44ac8bb100afb09d4ed4a",
       "version_major": 2,
       "version_minor": 0
      },
      "text/plain": [
       "Run 2:   0%|          | 0/5000 [00:00<?, ?it/s]"
      ]
     },
     "metadata": {},
     "output_type": "display_data"
    },
    {
     "name": "stdout",
     "output_type": "stream",
     "text": [
      "BEST REWARD: 38028        WORST REWARD: 22477\n",
      "BEST COOPERATOR: 0.88789888106092 WORST COOPERATOR: 0.1438877359422868\n"
     ]
    },
    {
     "data": {
      "application/vnd.jupyter.widget-view+json": {
       "model_id": "a7d069d3a1954f939f0871b970cdaf9c",
       "version_major": 2,
       "version_minor": 0
      },
      "text/plain": [
       "Run 3:   0%|          | 0/5000 [00:00<?, ?it/s]"
      ]
     },
     "metadata": {},
     "output_type": "display_data"
    },
    {
     "name": "stdout",
     "output_type": "stream",
     "text": [
      "BEST REWARD: 36455        WORST REWARD: 24651\n",
      "BEST COOPERATOR: 0.9138002918490723 WORST COOPERATOR: 0.43788045105278917\n"
     ]
    },
    {
     "data": {
      "application/vnd.jupyter.widget-view+json": {
       "model_id": "5aa71052a7c94f9eb099685b975853b7",
       "version_major": 2,
       "version_minor": 0
      },
      "text/plain": [
       "Run 4:   0%|          | 0/5000 [00:00<?, ?it/s]"
      ]
     },
     "metadata": {},
     "output_type": "display_data"
    },
    {
     "name": "stdout",
     "output_type": "stream",
     "text": [
      "BEST REWARD: 34671        WORST REWARD: 24800\n",
      "BEST COOPERATOR: 0.8450351053159478 WORST COOPERATOR: 0.3683556108175319\n"
     ]
    },
    {
     "data": {
      "application/vnd.jupyter.widget-view+json": {
       "model_id": "6692af2bcbcd44eea65e49dd8830da02",
       "version_major": 2,
       "version_minor": 0
      },
      "text/plain": [
       "Run 5:   0%|          | 0/5000 [00:00<?, ?it/s]"
      ]
     },
     "metadata": {},
     "output_type": "display_data"
    },
    {
     "name": "stdout",
     "output_type": "stream",
     "text": [
      "BEST REWARD: 37560        WORST REWARD: 25570\n",
      "BEST COOPERATOR: 0.8969793958791759 WORST COOPERATOR: 0.4115246815286624\n"
     ]
    },
    {
     "data": {
      "application/vnd.jupyter.widget-view+json": {
       "model_id": "6a7651b9b15f46888fc8cabb37d2d1db",
       "version_major": 2,
       "version_minor": 0
      },
      "text/plain": [
       "Run 6:   0%|          | 0/5000 [00:00<?, ?it/s]"
      ]
     },
     "metadata": {},
     "output_type": "display_data"
    },
    {
     "name": "stdout",
     "output_type": "stream",
     "text": [
      "BEST REWARD: 34269        WORST REWARD: 19041\n",
      "BEST COOPERATOR: 0.7836519315013939 WORST COOPERATOR: 0.15921982286794706\n"
     ]
    },
    {
     "data": {
      "application/vnd.jupyter.widget-view+json": {
       "model_id": "7e4906d1e9f9415c972774bebb443bf3",
       "version_major": 2,
       "version_minor": 0
      },
      "text/plain": [
       "Run 7:   0%|          | 0/5000 [00:00<?, ?it/s]"
      ]
     },
     "metadata": {},
     "output_type": "display_data"
    },
    {
     "name": "stdout",
     "output_type": "stream",
     "text": [
      "BEST REWARD: 36351        WORST REWARD: 23686\n",
      "BEST COOPERATOR: 0.9410708944062219 WORST COOPERATOR: 0.33122933573790203\n"
     ]
    },
    {
     "data": {
      "application/vnd.jupyter.widget-view+json": {
       "model_id": "403ebdab01c94c39aa11853c2810b73e",
       "version_major": 2,
       "version_minor": 0
      },
      "text/plain": [
       "Run 8:   0%|          | 0/5000 [00:00<?, ?it/s]"
      ]
     },
     "metadata": {},
     "output_type": "display_data"
    },
    {
     "name": "stdout",
     "output_type": "stream",
     "text": [
      "BEST REWARD: 39821        WORST REWARD: 23105\n",
      "BEST COOPERATOR: 0.8570280317492214 WORST COOPERATOR: 0.18087546116262837\n"
     ]
    },
    {
     "data": {
      "application/vnd.jupyter.widget-view+json": {
       "model_id": "dc67c69e45894ccdaeb7effaa57b72b6",
       "version_major": 2,
       "version_minor": 0
      },
      "text/plain": [
       "Run 9:   0%|          | 0/5000 [00:00<?, ?it/s]"
      ]
     },
     "metadata": {},
     "output_type": "display_data"
    },
    {
     "name": "stdout",
     "output_type": "stream",
     "text": [
      "BEST REWARD: 35527        WORST REWARD: 23872\n",
      "BEST COOPERATOR: 0.871295006962403 WORST COOPERATOR: 0.39988021561189857\n"
     ]
    },
    {
     "data": {
      "application/vnd.jupyter.widget-view+json": {
       "model_id": "53eb03a7aabc407999ae2b4238ea4fd0",
       "version_major": 2,
       "version_minor": 0
      },
      "text/plain": [
       "Run 10:   0%|          | 0/5000 [00:00<?, ?it/s]"
      ]
     },
     "metadata": {},
     "output_type": "display_data"
    },
    {
     "name": "stdout",
     "output_type": "stream",
     "text": [
      "BEST REWARD: 36756        WORST REWARD: 22620\n",
      "BEST COOPERATOR: 0.8461767922839813 WORST COOPERATOR: 0.18033117932148626\n"
     ]
    },
    {
     "data": {
      "application/vnd.jupyter.widget-view+json": {
       "model_id": "4471e5c73e55446a97f372cc32463f0b",
       "version_major": 2,
       "version_minor": 0
      },
      "text/plain": [
       "Run 11:   0%|          | 0/5000 [00:00<?, ?it/s]"
      ]
     },
     "metadata": {},
     "output_type": "display_data"
    },
    {
     "name": "stdout",
     "output_type": "stream",
     "text": [
      "BEST REWARD: 37065        WORST REWARD: 23144\n",
      "BEST COOPERATOR: 0.893483962073835 WORST COOPERATOR: 0.23601348098218586\n"
     ]
    },
    {
     "data": {
      "application/vnd.jupyter.widget-view+json": {
       "model_id": "1b8f5aaf97a54fc985db9a6a05ac4567",
       "version_major": 2,
       "version_minor": 0
      },
      "text/plain": [
       "Run 12:   0%|          | 0/5000 [00:00<?, ?it/s]"
      ]
     },
     "metadata": {},
     "output_type": "display_data"
    },
    {
     "name": "stdout",
     "output_type": "stream",
     "text": [
      "BEST REWARD: 34513        WORST REWARD: 22207\n",
      "BEST COOPERATOR: 0.818894472361809 WORST COOPERATOR: 0.22021479474054\n"
     ]
    },
    {
     "data": {
      "application/vnd.jupyter.widget-view+json": {
       "model_id": "049709331b4d478d934bf6cbb68c8335",
       "version_major": 2,
       "version_minor": 0
      },
      "text/plain": [
       "Run 13:   0%|          | 0/5000 [00:00<?, ?it/s]"
      ]
     },
     "metadata": {},
     "output_type": "display_data"
    },
    {
     "name": "stdout",
     "output_type": "stream",
     "text": [
      "BEST REWARD: 39467        WORST REWARD: 21768\n",
      "BEST COOPERATOR: 0.8016873348241512 WORST COOPERATOR: 0.11804164997997597\n"
     ]
    },
    {
     "data": {
      "application/vnd.jupyter.widget-view+json": {
       "model_id": "cb23b29223d945df9dc307258dc2eb98",
       "version_major": 2,
       "version_minor": 0
      },
      "text/plain": [
       "Run 14:   0%|          | 0/5000 [00:00<?, ?it/s]"
      ]
     },
     "metadata": {},
     "output_type": "display_data"
    },
    {
     "name": "stdout",
     "output_type": "stream",
     "text": [
      "BEST REWARD: 37636        WORST REWARD: 23190\n",
      "BEST COOPERATOR: 0.8364408535322146 WORST COOPERATOR: 0.1819647355163728\n"
     ]
    },
    {
     "data": {
      "application/vnd.jupyter.widget-view+json": {
       "model_id": "b9e0504bf6004727bd7c0e674a6a1ece",
       "version_major": 2,
       "version_minor": 0
      },
      "text/plain": [
       "Run 15:   0%|          | 0/5000 [00:00<?, ?it/s]"
      ]
     },
     "metadata": {},
     "output_type": "display_data"
    },
    {
     "name": "stdout",
     "output_type": "stream",
     "text": [
      "BEST REWARD: 37374        WORST REWARD: 18971\n",
      "BEST COOPERATOR: 0.8553578568572571 WORST COOPERATOR: 0.25272007912957467\n"
     ]
    },
    {
     "data": {
      "application/vnd.jupyter.widget-view+json": {
       "model_id": "d5768bc4edf747f5bb41b55eb7be8894",
       "version_major": 2,
       "version_minor": 0
      },
      "text/plain": [
       "Run 16:   0%|          | 0/5000 [00:00<?, ?it/s]"
      ]
     },
     "metadata": {},
     "output_type": "display_data"
    },
    {
     "name": "stdout",
     "output_type": "stream",
     "text": [
      "BEST REWARD: 37029        WORST REWARD: 19891\n",
      "BEST COOPERATOR: 0.82         WORST COOPERATOR: 0.16913643331630046\n"
     ]
    },
    {
     "data": {
      "application/vnd.jupyter.widget-view+json": {
       "model_id": "bb55ab1f1ec646b29f933185c623160d",
       "version_major": 2,
       "version_minor": 0
      },
      "text/plain": [
       "Run 17:   0%|          | 0/5000 [00:00<?, ?it/s]"
      ]
     },
     "metadata": {},
     "output_type": "display_data"
    },
    {
     "name": "stdout",
     "output_type": "stream",
     "text": [
      "BEST REWARD: 37813        WORST REWARD: 23681\n",
      "BEST COOPERATOR: 0.9312908086388749 WORST COOPERATOR: 0.39755199522340534\n"
     ]
    },
    {
     "data": {
      "application/vnd.jupyter.widget-view+json": {
       "model_id": "a573652170644267960f7f0e79281e4f",
       "version_major": 2,
       "version_minor": 0
      },
      "text/plain": [
       "Run 18:   0%|          | 0/5000 [00:00<?, ?it/s]"
      ]
     },
     "metadata": {},
     "output_type": "display_data"
    },
    {
     "name": "stdout",
     "output_type": "stream",
     "text": [
      "BEST REWARD: 38213        WORST REWARD: 22777\n",
      "BEST COOPERATOR: 0.8354289190833503 WORST COOPERATOR: 0.14799919565654535\n"
     ]
    },
    {
     "data": {
      "application/vnd.jupyter.widget-view+json": {
       "model_id": "3cad32c472aa4c3cae94782ecaeba1b7",
       "version_major": 2,
       "version_minor": 0
      },
      "text/plain": [
       "Run 19:   0%|          | 0/5000 [00:00<?, ?it/s]"
      ]
     },
     "metadata": {},
     "output_type": "display_data"
    },
    {
     "name": "stdout",
     "output_type": "stream",
     "text": [
      "BEST REWARD: 31938        WORST REWARD: 22969\n",
      "BEST COOPERATOR: 0.8753634813997794 WORST COOPERATOR: 0.4015280989242988\n"
     ]
    },
    {
     "data": {
      "application/vnd.jupyter.widget-view+json": {
       "model_id": "32fbcfe0092e477da6fb72e9fefe699f",
       "version_major": 2,
       "version_minor": 0
      },
      "text/plain": [
       "Run 20:   0%|          | 0/5000 [00:00<?, ?it/s]"
      ]
     },
     "metadata": {},
     "output_type": "display_data"
    },
    {
     "name": "stdout",
     "output_type": "stream",
     "text": [
      "BEST REWARD: 40056        WORST REWARD: 22072\n",
      "BEST COOPERATOR: 0.8451121874073342 WORST COOPERATOR: 0.12261806130903065\n"
     ]
    }
   ],
   "source": [
    "ACTION_LABELS = [\"(C, C)\", \"(C, D)\", \"(D, C)\", \"(D, D)\"]\n",
    "POPULATION = (2, 16)\n",
    "ROUNDS = 5_000\n",
    "\n",
    "cumulative_reward_results = []\n",
    "cooperativeness_results = []\n",
    "\n",
    "for run in range(20):\n",
    "    # Generate a new population\n",
    "    agents, weights_matrix, G = generate_population(*POPULATION)\n",
    "\n",
    "    # Run a number of rounds\n",
    "    sim = WeightedNetworkSimulation(agents, weights_matrix)\n",
    "    sim.reset()\n",
    "    for i in tqdm(range(ROUNDS), desc=f\"Run {run + 1}\"):\n",
    "        sim.play_round()\n",
    "\n",
    "    # Rank agents by cumulative reward\n",
    "    cumulative_rewards_matrix = [\n",
    "        [sum(r) if len(r) > 0 else 0 for r in agent] for agent in sim.rewards\n",
    "    ]\n",
    "    cumulative_reward_rankings = sorted(\n",
    "        [(i, sum(cumulative_rewards_matrix[i])) for i in range(len(agents))],\n",
    "        key=lambda x: x[1],\n",
    "        reverse=True,\n",
    "    )\n",
    "\n",
    "    tqdm.write(\n",
    "        f\"BEST REWARD: {cumulative_reward_rankings[0][1]:<29} WORST REWARD: {cumulative_reward_rankings[-1][1]}\"\n",
    "    )\n",
    "\n",
    "    cumulative_reward_results.append(compute_policies(agents, cumulative_reward_rankings))\n",
    "\n",
    "    # Rank agents by cooperativeness\n",
    "    cooperativeness_rankings = sorted(\n",
    "        [\n",
    "            (i, calculate_cooperativeness(list(chain(*history))))\n",
    "            for i, history in enumerate(sim.action_histories)\n",
    "        ],\n",
    "        key=lambda x: x[1],\n",
    "        reverse=True,\n",
    "    )\n",
    "\n",
    "    tqdm.write(\n",
    "        f\"BEST COOPERATOR: {cooperativeness_rankings[0][1]:<24} WORST COOPERATOR: {cooperativeness_rankings[-1][1]}\"\n",
    "    )\n",
    "\n",
    "    cooperativeness_results.append(compute_policies(agents, cooperativeness_rankings))\n"
   ]
  },
  {
   "cell_type": "code",
   "execution_count": 5,
   "metadata": {},
   "outputs": [
    {
     "data": {
      "text/plain": [
       "['(C, C)', '(C, D)', '(D, C)', '(D, D)']"
      ]
     },
     "execution_count": 5,
     "metadata": {},
     "output_type": "execute_result"
    }
   ],
   "source": [
    "ACTION_LABELS"
   ]
  },
  {
   "cell_type": "code",
   "execution_count": 6,
   "metadata": {},
   "outputs": [
    {
     "name": "stdout",
     "output_type": "stream",
     "text": [
      "3.5                      CCDD\n",
      "7.907407407407407        DCDD\n",
      "9.8                      DCDC\n",
      "12.733333333333333       DCCD\n",
      "14.636363636363637       CCDC\n",
      "14.816326530612244       DCCC\n",
      "15.55                    CDDC\n",
      "16.441860465116278       DDDC\n",
      "17.333333333333332       CCCC\n",
      "17.70731707317073        CDCC\n",
      "18.0                     CCCD\n",
      "18.031007751937985       DDDD\n",
      "18.575221238938052       DDCC\n",
      "18.818181818181817       DDCD\n",
      "19.2                     CDCD\n",
      "19.24137931034483        CDDD\n"
     ]
    }
   ],
   "source": [
    "cumulative_reward_policy_ranks = {}\n",
    "\n",
    "for result in cumulative_reward_results:\n",
    "    for rank, (policy, score) in enumerate(result):\n",
    "        if policy not in cumulative_reward_policy_ranks:\n",
    "            cumulative_reward_policy_ranks[policy] = []\n",
    "\n",
    "        cumulative_reward_policy_ranks[policy].append(rank + 1)\n",
    "\n",
    "mean_cumulative_reward_policy_ranks = {policy: np.mean(ranks) for policy, ranks in cumulative_reward_policy_ranks.items()}\n",
    "\n",
    "for policy in sorted(mean_cumulative_reward_policy_ranks, key=lambda x: mean_cumulative_reward_policy_ranks[x]):\n",
    "    print(f\"{mean_cumulative_reward_policy_ranks[policy]:<24} {policy}\")"
   ]
  },
  {
   "cell_type": "code",
   "execution_count": 7,
   "metadata": {},
   "outputs": [
    {
     "name": "stdout",
     "output_type": "stream",
     "text": [
      "9.28048780487805         CDCC\n",
      "11.16326530612245        DCCC\n",
      "11.866666666666667       CCCC\n",
      "12.902654867256636       DDCC\n",
      "13.5                     CCCD\n",
      "15.35                    CDDC\n",
      "16.6                     DCDC\n",
      "16.976744186046513       DDDC\n",
      "16.977272727272727       DDCD\n",
      "18.333333333333332       CDCD\n",
      "19.06896551724138        CDDD\n",
      "19.8                     DCCD\n",
      "20.410852713178294       DDDD\n",
      "20.90909090909091        CCDC\n",
      "27.425925925925927       DCDD\n",
      "30.0                     CCDD\n"
     ]
    }
   ],
   "source": [
    "cooperativeness_policy_ranks = {}\n",
    "\n",
    "for result in cooperativeness_results:\n",
    "    for rank, (policy, score) in enumerate(result):\n",
    "        if policy not in cooperativeness_policy_ranks:\n",
    "            cooperativeness_policy_ranks[policy] = []\n",
    "\n",
    "        cooperativeness_policy_ranks[policy].append(rank + 1)\n",
    "\n",
    "mean_cooperativeness_policy_ranks = {policy: np.mean(ranks) for policy, ranks in cooperativeness_policy_ranks.items()}\n",
    "\n",
    "for policy in sorted(mean_cooperativeness_policy_ranks, key=lambda x: mean_cooperativeness_policy_ranks[x]):\n",
    "    print(f\"{mean_cooperativeness_policy_ranks[policy]:<24} {policy}\")"
   ]
  }
 ],
 "metadata": {
  "kernelspec": {
   "display_name": "ml",
   "language": "python",
   "name": "python3"
  },
  "language_info": {
   "codemirror_mode": {
    "name": "ipython",
    "version": 3
   },
   "file_extension": ".py",
   "mimetype": "text/x-python",
   "name": "python",
   "nbconvert_exporter": "python",
   "pygments_lexer": "ipython3",
   "version": "3.10.8"
  },
  "orig_nbformat": 4,
  "vscode": {
   "interpreter": {
    "hash": "ea8fc3f6c7fa3223c55434ded24c0b3b1260e6c6965b48cfc542164a121bf59d"
   }
  }
 },
 "nbformat": 4,
 "nbformat_minor": 2
}
